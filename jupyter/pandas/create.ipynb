{
 "cells": [
  {
   "cell_type": "markdown",
   "metadata": {},
   "source": [
    "# Pandas DataFrame创建\n",
    "\n",
    "---\n",
    "\n",
    "Pandas是Python的数据分析利器，DataFrame是Pandas进行数据分析的基本结构，可以把DataFrame视为一个二维数据表，每一行都表示一个数据记录。本文将介绍创建Pandas DataFrame的几种方法。"
   ]
  },
  {
   "cell_type": "code",
   "execution_count": 2,
   "metadata": {},
   "outputs": [],
   "source": [
    "import pandas as pd"
   ]
  },
  {
   "cell_type": "markdown",
   "metadata": {},
   "source": [
    "## 手动创建\n",
    "手动指定data和columns"
   ]
  },
  {
   "cell_type": "code",
   "execution_count": 5,
   "metadata": {},
   "outputs": [
    {
     "name": "stdout",
     "output_type": "stream",
     "text": [
      "    Fruits  Quantity\n",
      "1    Apple         5\n",
      "2   Banana        10\n",
      "3   Cherry         8\n",
      "4  Oranges         3\n"
     ]
    }
   ],
   "source": [
    "df = pd.DataFrame(data=[['Apple', 5], ['Banana', 10], ['Cherry', 8], ['Oranges', 3]],\n",
    "                 columns=['Fruits', 'Quantity'],\n",
    "                 index=[1,2,3,4])\n",
    "print(df)"
   ]
  },
  {
   "cell_type": "markdown",
   "metadata": {
    "pycharm": {
     "name": "#%% md\n"
    }
   },
   "source": [
    "## 使用list创建\n",
    "和手动创建差不多"
   ]
  },
  {
   "cell_type": "code",
   "execution_count": 8,
   "metadata": {},
   "outputs": [
    {
     "name": "stdout",
     "output_type": "stream",
     "text": [
      "    Fruits  Quantity\n",
      "1    Apple         5\n",
      "2   Banana        10\n",
      "3   Cherry         8\n",
      "4  Oranges         3\n"
     ]
    }
   ],
   "source": [
    "fruits = [['Apple', 5], ['Banana', 10], ['Cherry', 8], ['Oranges', 3]]\n",
    "titles = ['Fruits', 'Quantity']\n",
    "df = pd.DataFrame(data=fruits, columns=titles, index=list(range(1, len(fruits) + 1)))\n",
    "print(df)"
   ]
  },
  {
   "cell_type": "markdown",
   "metadata": {
    "pycharm": {
     "name": "#%% md\n"
    }
   },
   "source": [
    "## 使用dict创建"
   ]
  },
  {
   "cell_type": "code",
   "execution_count": 10,
   "metadata": {},
   "outputs": [
    {
     "name": "stdout",
     "output_type": "stream",
     "text": [
      "    Fruits  Quantity   Color\n",
      "0    Apple         5     Red\n",
      "1   Banana        10  Yellow\n",
      "2   Cherry         8     Red\n",
      "3  Oranges         3  Orange\n"
     ]
    }
   ],
   "source": [
    "fruits_dict = {\n",
    "    'Fruits': ['Apple', 'Banana', 'Cherry', 'Oranges'],\n",
    "    'Quantity': [5, 10, 8, 3],\n",
    "    'Color': ['Red', 'Yellow', 'Red', 'Orange']\n",
    "}\n",
    "df = pd.DataFrame(fruits_dict)\n",
    "print(df)"
   ]
  }
 ],
 "metadata": {
  "kernelspec": {
   "display_name": "Python 3",
   "language": "python",
   "name": "python3"
  },
  "language_info": {
   "codemirror_mode": {
    "name": "ipython",
    "version": 3
   },
   "file_extension": ".py",
   "mimetype": "text/x-python",
   "name": "python",
   "nbconvert_exporter": "python",
   "pygments_lexer": "ipython3",
   "version": "3.7.6"
  }
 },
 "nbformat": 4,
 "nbformat_minor": 4
}