{
 "cells": [
  {
   "cell_type": "markdown",
   "metadata": {},
   "source": [
    "Copyright (c) CQuan Corporation. All rights reserved.\n",
    "\n",
    "# Pandas DataFrame排序\n",
    "\n",
    "---\n",
    "\n",
    "在这篇notebook中，将会介绍DataFrame如何排序，主要包括\n",
    "1. 按某列值排序，升序或降序\n",
    "2. 按多列值排序，分别采用不同的升降序\n",
    "\n",
    "注：不仅可以对数值型数据进行排序，还能对字符串进行字典排序"
   ]
  },
  {
   "cell_type": "code",
   "execution_count": 1,
   "metadata": {},
   "outputs": [
    {
     "name": "stdout",
     "output_type": "stream",
     "text": [
      "            Player  Year Age   Tm   G\n",
      "1    Cedric Hunter  1991  27  CHH   6\n",
      "2    Maurice Baker  2004  25  VAN   7\n",
      "3      Ratko Varda  2004  22  TOT  60\n",
      "4       Ryan Bowen  2009  34  OKC  52\n",
      "5  Adrian Caldwell  1997  31  DAL  81\n"
     ]
    }
   ],
   "source": [
    "import pandas as pd\n",
    "\n",
    "s = \"\"\"    Player      Year   Age   Tm     G\n",
    "Cedric Hunter   1991    27  CHH     6\n",
    "Maurice Baker   2004    25  VAN     7\n",
    "Ratko Varda     2004    22  TOT     60\n",
    "Ryan Bowen      2009    34  OKC     52\n",
    "Adrian Caldwell 1997    31  DAL     81\"\"\"\n",
    "title = s.split('\\n')[0]\n",
    "title = title.split()\n",
    "rows = []\n",
    "for line in s.split('\\n')[1:]:\n",
    "    rows.append(line.rsplit(maxsplit=4))\n",
    "df = pd.DataFrame(data=rows, columns=title, index=list(range(1, 6)))\n",
    "print(df)"
   ]
  },
  {
   "cell_type": "markdown",
   "metadata": {
    "pycharm": {
     "name": "#%% md\n"
    }
   },
   "source": [
    "## 按照某列排序，默认升序"
   ]
  },
  {
   "cell_type": "code",
   "execution_count": 5,
   "metadata": {},
   "outputs": [
    {
     "name": "stdout",
     "output_type": "stream",
     "text": [
      "            Player  Year Age   Tm   G\n",
      "1    Cedric Hunter  1991  27  CHH   6\n",
      "5  Adrian Caldwell  1997  31  DAL  81\n",
      "2    Maurice Baker  2004  25  VAN   7\n",
      "3      Ratko Varda  2004  22  TOT  60\n",
      "4       Ryan Bowen  2009  34  OKC  52\n"
     ]
    }
   ],
   "source": [
    "new_df = df.sort_values(by=[\"Year\"])\n",
    "print(new_df)"
   ]
  },
  {
   "cell_type": "markdown",
   "metadata": {},
   "source": [
    "## 按照多列排序，可自定义排序方式"
   ]
  },
  {
   "cell_type": "code",
   "execution_count": 6,
   "metadata": {
    "pycharm": {
     "name": "#%%\n"
    }
   },
   "outputs": [
    {
     "name": "stdout",
     "output_type": "stream",
     "text": [
      "            Player  Year Age   Tm   G\n",
      "1    Cedric Hunter  1991  27  CHH   6\n",
      "5  Adrian Caldwell  1997  31  DAL  81\n",
      "3      Ratko Varda  2004  22  TOT  60\n",
      "2    Maurice Baker  2004  25  VAN   7\n",
      "4       Ryan Bowen  2009  34  OKC  52\n"
     ]
    }
   ],
   "source": [
    "new_df = df.sort_values([\"Year\", \"Age\"], ascending=[True, True])\n",
    "print(new_df)"
   ]
  },
  {
   "cell_type": "markdown",
   "metadata": {},
   "source": [
    "## 对字符串进行字典排序 "
   ]
  },
  {
   "cell_type": "code",
   "execution_count": 4,
   "metadata": {},
   "outputs": [
    {
     "name": "stdout",
     "output_type": "stream",
     "text": [
      "            Player  Year Age   Tm   G\n",
      "1    Cedric Hunter  1991  27  CHH   6\n",
      "5  Adrian Caldwell  1997  31  DAL  81\n",
      "4       Ryan Bowen  2009  34  OKC  52\n",
      "3      Ratko Varda  2004  22  TOT  60\n",
      "2    Maurice Baker  2004  25  VAN   7\n"
     ]
    }
   ],
   "source": [
    "new_df = df.sort_values(by=[\"Tm\"])\n",
    "print(new_df)"
   ]
  }
 ],
 "metadata": {
  "kernelspec": {
   "display_name": "Python 3",
   "language": "python",
   "name": "python3"
  },
  "language_info": {
   "codemirror_mode": {
    "name": "ipython",
    "version": 3
   },
   "file_extension": ".py",
   "mimetype": "text/x-python",
   "name": "python",
   "nbconvert_exporter": "python",
   "pygments_lexer": "ipython3",
   "version": "3.7.6"
  }
 },
 "nbformat": 4,
 "nbformat_minor": 4
}