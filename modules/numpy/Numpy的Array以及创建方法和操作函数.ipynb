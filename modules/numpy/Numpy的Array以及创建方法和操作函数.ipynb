{
 "cells": [
  {
   "cell_type": "markdown",
   "id": "de50d53f",
   "metadata": {},
   "source": [
    "## Numpy的核心array对象以及创建array的方法\n",
    "---\n",
    "\n",
    "### array对象的背景：\n",
    "* Numpy的核心数据结构，就叫做array就是数组，array对象可以是一维数组，也可以是多维数组；\n",
    "* Python的List也可以实现相同的功能，但是array比List的优点在于性能好、包含数组元数据信息、大量的便捷函数；\n",
    "* Numpy成为事实上的Scipy、Pandas、Scikit-Leam Tensorflow、PaddlePaddle等框架的“通用底层语言”\n",
    "* Numpy的array和Python的List的一个区别，是它元素必须都是同一种数据类型，比如都是数字int类型，这也是Numpy高性能的一个原因；\n",
    "\n",
    "### array本身的属性\n",
    "* shape: 返回一个元组，表示array的维度\n",
    "* ndim：一个数字，表示array的维度的数目\n",
    "* size：一个数字，表示array中所有数据元素的数目\n",
    "* dtype：array中元素的数据类型\n",
    "\n",
    "### 创建array的方法\n",
    "* 从Python的列表List和嵌套列表创建aray\n",
    "* 使用预定函数arange、ones/ones_like、zeros/zeros_like、empty/empty_like、 full/full_like、eye等函数创建\n",
    "* 生成随机数的np.random模块构建\n",
    "\n",
    "### array本身支持的大量操作和函数\n",
    "* 直接逐元素的加减乘除等算数操作\n",
    "* 更好用的面向多维的数组索引\n",
    "* 求sum/mean等聚合函数\n",
    "* 线性代数函数，比如求解逆矩阵、求解方程组\n",
    "* 用两个(或多个)坐标轴上的点在平面(或三维及以上)上画网格"
   ]
  },
  {
   "cell_type": "markdown",
   "id": "0949392d",
   "metadata": {},
   "source": [
    "## 1. 使用Python的List和嵌套List创建一维array和二维array"
   ]
  },
  {
   "cell_type": "code",
   "execution_count": 2,
   "id": "62f86e1f",
   "metadata": {},
   "outputs": [],
   "source": [
    "import numpy as np"
   ]
  },
  {
   "cell_type": "code",
   "execution_count": 2,
   "id": "d4a0b1a4",
   "metadata": {},
   "outputs": [],
   "source": [
    "# 创建一个一维数组，也就是Python的单元素List\n",
    "x = np.array([1,2,3,4,5,6,7,8])"
   ]
  },
  {
   "cell_type": "code",
   "execution_count": 3,
   "id": "7e3e96f7",
   "metadata": {},
   "outputs": [
    {
     "data": {
      "text/plain": [
       "array([1, 2, 3, 4, 5, 6, 7, 8])"
      ]
     },
     "execution_count": 3,
     "metadata": {},
     "output_type": "execute_result"
    }
   ],
   "source": [
    "x"
   ]
  },
  {
   "cell_type": "code",
   "execution_count": 4,
   "id": "b93ebe56",
   "metadata": {},
   "outputs": [],
   "source": [
    "# 创建一个二维数组，也就是Python的嵌套List"
   ]
  },
  {
   "cell_type": "code",
   "execution_count": 5,
   "id": "8e08b40d",
   "metadata": {},
   "outputs": [],
   "source": [
    "X = np.array(\n",
    "    [\n",
    "        [1,2,3,4],\n",
    "        [5,6,7,8]\n",
    "    ]\n",
    ")"
   ]
  },
  {
   "cell_type": "code",
   "execution_count": 6,
   "id": "a39ba9ce",
   "metadata": {},
   "outputs": [
    {
     "data": {
      "text/plain": [
       "array([[1, 2, 3, 4],\n",
       "       [5, 6, 7, 8]])"
      ]
     },
     "execution_count": 6,
     "metadata": {},
     "output_type": "execute_result"
    }
   ],
   "source": [
    "X"
   ]
  },
  {
   "cell_type": "markdown",
   "id": "15c53a1f",
   "metadata": {},
   "source": [
    "## 2. 探索数组的array属性"
   ]
  },
  {
   "cell_type": "code",
   "execution_count": 7,
   "id": "e9a631ea",
   "metadata": {},
   "outputs": [
    {
     "data": {
      "text/plain": [
       "(8,)"
      ]
     },
     "execution_count": 7,
     "metadata": {},
     "output_type": "execute_result"
    }
   ],
   "source": [
    "x.shape"
   ]
  },
  {
   "cell_type": "code",
   "execution_count": 8,
   "id": "b778f431",
   "metadata": {},
   "outputs": [
    {
     "data": {
      "text/plain": [
       "(2, 4)"
      ]
     },
     "execution_count": 8,
     "metadata": {},
     "output_type": "execute_result"
    }
   ],
   "source": [
    "X.shape"
   ]
  },
  {
   "cell_type": "code",
   "execution_count": 9,
   "id": "fd37aff4",
   "metadata": {},
   "outputs": [
    {
     "data": {
      "text/plain": [
       "1"
      ]
     },
     "execution_count": 9,
     "metadata": {},
     "output_type": "execute_result"
    }
   ],
   "source": [
    "x.ndim"
   ]
  },
  {
   "cell_type": "code",
   "execution_count": 10,
   "id": "094e6b98",
   "metadata": {},
   "outputs": [
    {
     "data": {
      "text/plain": [
       "2"
      ]
     },
     "execution_count": 10,
     "metadata": {},
     "output_type": "execute_result"
    }
   ],
   "source": [
    "X.ndim"
   ]
  },
  {
   "cell_type": "code",
   "execution_count": 11,
   "id": "d484e8fe",
   "metadata": {},
   "outputs": [
    {
     "data": {
      "text/plain": [
       "8"
      ]
     },
     "execution_count": 11,
     "metadata": {},
     "output_type": "execute_result"
    }
   ],
   "source": [
    "x.size"
   ]
  },
  {
   "cell_type": "code",
   "execution_count": 12,
   "id": "84ef5801",
   "metadata": {},
   "outputs": [
    {
     "data": {
      "text/plain": [
       "8"
      ]
     },
     "execution_count": 12,
     "metadata": {},
     "output_type": "execute_result"
    }
   ],
   "source": [
    "X.size"
   ]
  },
  {
   "cell_type": "code",
   "execution_count": 13,
   "id": "1de225d2",
   "metadata": {},
   "outputs": [
    {
     "data": {
      "text/plain": [
       "dtype('int64')"
      ]
     },
     "execution_count": 13,
     "metadata": {},
     "output_type": "execute_result"
    }
   ],
   "source": [
    "x.dtype"
   ]
  },
  {
   "cell_type": "code",
   "execution_count": 14,
   "id": "a078376a",
   "metadata": {},
   "outputs": [
    {
     "data": {
      "text/plain": [
       "dtype('int64')"
      ]
     },
     "execution_count": 14,
     "metadata": {},
     "output_type": "execute_result"
    }
   ],
   "source": [
    "X.dtype"
   ]
  },
  {
   "cell_type": "markdown",
   "id": "1205d1e8",
   "metadata": {},
   "source": [
    "## 3. 创建array的便捷函数\n",
    "\n",
    "### 使用arange创建数字序列\n",
    "arange([start,] stop[, step,], dtype=None)"
   ]
  },
  {
   "cell_type": "code",
   "execution_count": 15,
   "id": "ece736ae",
   "metadata": {},
   "outputs": [
    {
     "data": {
      "text/plain": [
       "array([0, 1, 2, 3, 4, 5, 6, 7, 8, 9])"
      ]
     },
     "execution_count": 15,
     "metadata": {},
     "output_type": "execute_result"
    }
   ],
   "source": [
    "np.arange(10)"
   ]
  },
  {
   "cell_type": "code",
   "execution_count": 16,
   "id": "9dbb5cbb",
   "metadata": {},
   "outputs": [
    {
     "data": {
      "text/plain": [
       "array([2, 4, 6, 8])"
      ]
     },
     "execution_count": 16,
     "metadata": {},
     "output_type": "execute_result"
    }
   ],
   "source": [
    "np.arange(2, 10, 2)"
   ]
  },
  {
   "cell_type": "markdown",
   "id": "a05f8152",
   "metadata": {},
   "source": [
    "### 使用ones创建全都是1的数组\n",
    "np.ones(shape, dtype=None, order='C')\n",
    "shape: int or tuple of ints Shape of the new array, e.g., (2,3) or 2."
   ]
  },
  {
   "cell_type": "code",
   "execution_count": 17,
   "id": "db6d33c7",
   "metadata": {},
   "outputs": [
    {
     "data": {
      "text/plain": [
       "array([1., 1., 1., 1., 1., 1., 1., 1., 1., 1.])"
      ]
     },
     "execution_count": 17,
     "metadata": {},
     "output_type": "execute_result"
    }
   ],
   "source": [
    "np.ones(10)"
   ]
  },
  {
   "cell_type": "code",
   "execution_count": 18,
   "id": "8cb5c29b",
   "metadata": {},
   "outputs": [
    {
     "data": {
      "text/plain": [
       "array([[1., 1., 1.],\n",
       "       [1., 1., 1.]])"
      ]
     },
     "execution_count": 18,
     "metadata": {},
     "output_type": "execute_result"
    }
   ],
   "source": [
    "np.ones((2, 3))"
   ]
  },
  {
   "cell_type": "markdown",
   "id": "f1d4ec4c",
   "metadata": {},
   "source": [
    "### 使用ones_like创建形状相同的数组\n",
    "ones_like(a, dtype=float, order='C')"
   ]
  },
  {
   "cell_type": "code",
   "execution_count": 19,
   "id": "d5562bed",
   "metadata": {},
   "outputs": [
    {
     "data": {
      "text/plain": [
       "array([1, 1, 1, 1, 1, 1, 1, 1])"
      ]
     },
     "execution_count": 19,
     "metadata": {},
     "output_type": "execute_result"
    }
   ],
   "source": [
    "np.ones_like(x)"
   ]
  },
  {
   "cell_type": "code",
   "execution_count": 20,
   "id": "ccc1a8dd",
   "metadata": {},
   "outputs": [
    {
     "data": {
      "text/plain": [
       "array([[1, 1, 1, 1],\n",
       "       [1, 1, 1, 1]])"
      ]
     },
     "execution_count": 20,
     "metadata": {},
     "output_type": "execute_result"
    }
   ],
   "source": [
    "np.ones_like(X)"
   ]
  },
  {
   "cell_type": "markdown",
   "id": "38c3251b",
   "metadata": {},
   "source": [
    "### 使用zeros创建全是0的数组\n",
    "np.zeros(shape, dtype=None, order='C')"
   ]
  },
  {
   "cell_type": "code",
   "execution_count": 21,
   "id": "f8491c8c",
   "metadata": {},
   "outputs": [
    {
     "data": {
      "text/plain": [
       "array([0., 0., 0., 0., 0., 0., 0., 0., 0., 0.])"
      ]
     },
     "execution_count": 21,
     "metadata": {},
     "output_type": "execute_result"
    }
   ],
   "source": [
    "np.zeros(10)"
   ]
  },
  {
   "cell_type": "code",
   "execution_count": 22,
   "id": "0a9bf203",
   "metadata": {},
   "outputs": [
    {
     "data": {
      "text/plain": [
       "array([[0., 0., 0., 0.],\n",
       "       [0., 0., 0., 0.]])"
      ]
     },
     "execution_count": 22,
     "metadata": {},
     "output_type": "execute_result"
    }
   ],
   "source": [
    "np.zeros((2, 4))"
   ]
  },
  {
   "cell_type": "markdown",
   "id": "b8cd68f3",
   "metadata": {},
   "source": [
    "### 使用zeros_like创建形状相同的数组\n",
    "np.zeros_like(a, dtype=None)"
   ]
  },
  {
   "cell_type": "code",
   "execution_count": 23,
   "id": "d2e57ca3",
   "metadata": {},
   "outputs": [
    {
     "data": {
      "text/plain": [
       "array([0, 0, 0, 0, 0, 0, 0, 0])"
      ]
     },
     "execution_count": 23,
     "metadata": {},
     "output_type": "execute_result"
    }
   ],
   "source": [
    "np.zeros_like(x)"
   ]
  },
  {
   "cell_type": "code",
   "execution_count": 24,
   "id": "8229fe1d",
   "metadata": {},
   "outputs": [
    {
     "data": {
      "text/plain": [
       "array([[0, 0, 0, 0],\n",
       "       [0, 0, 0, 0]])"
      ]
     },
     "execution_count": 24,
     "metadata": {},
     "output_type": "execute_result"
    }
   ],
   "source": [
    "np.zeros_like(X)"
   ]
  },
  {
   "cell_type": "markdown",
   "id": "c484f6f3",
   "metadata": {},
   "source": [
    "### 使用empty创建全都是0的数组\n",
    "empty(shape, dtype=float, order='C')\n",
    "注意：数据是未初始化的，里面的值可能是随机值，不要用"
   ]
  },
  {
   "cell_type": "code",
   "execution_count": 25,
   "id": "dbcf9a79",
   "metadata": {},
   "outputs": [
    {
     "data": {
      "text/plain": [
       "array([0., 0., 0., 0., 0., 0., 0., 0., 0., 0.])"
      ]
     },
     "execution_count": 25,
     "metadata": {},
     "output_type": "execute_result"
    }
   ],
   "source": [
    "np.empty(10)"
   ]
  },
  {
   "cell_type": "code",
   "execution_count": 26,
   "id": "87b6a8d5",
   "metadata": {},
   "outputs": [
    {
     "data": {
      "text/plain": [
       "array([[0.00000000e+000, 0.00000000e+000, 1.97626258e-323,\n",
       "        0.00000000e+000],\n",
       "       [0.00000000e+000, 0.00000000e+000, 0.00000000e+000,\n",
       "        5.60612834e-309]])"
      ]
     },
     "execution_count": 26,
     "metadata": {},
     "output_type": "execute_result"
    }
   ],
   "source": [
    "np.empty((2, 4))"
   ]
  },
  {
   "cell_type": "markdown",
   "id": "9fdab9ac",
   "metadata": {},
   "source": [
    "### 使用empty_like创建形状相同的数组\n",
    "empty_like(prototype, dtype=None)"
   ]
  },
  {
   "cell_type": "code",
   "execution_count": 27,
   "id": "629182dd",
   "metadata": {},
   "outputs": [
    {
     "data": {
      "text/plain": [
       "array([               0,                0,                4,\n",
       "                      0,                0,                0,\n",
       "                      0, 1134693008673121])"
      ]
     },
     "execution_count": 27,
     "metadata": {},
     "output_type": "execute_result"
    }
   ],
   "source": [
    "np.empty_like(x)"
   ]
  },
  {
   "cell_type": "code",
   "execution_count": 28,
   "id": "c4c4c7eb",
   "metadata": {},
   "outputs": [
    {
     "data": {
      "text/plain": [
       "array([[               0,                0,                4,\n",
       "                       0],\n",
       "       [               0,                0,                0,\n",
       "        1134693008607493]])"
      ]
     },
     "execution_count": 28,
     "metadata": {},
     "output_type": "execute_result"
    }
   ],
   "source": [
    "np.empty_like(X)"
   ]
  },
  {
   "cell_type": "markdown",
   "id": "22b9be5b",
   "metadata": {},
   "source": [
    "### 使用full创建指定的数组\n",
    "np.full(shape, fill_value, dtype=None, order='C')"
   ]
  },
  {
   "cell_type": "code",
   "execution_count": 29,
   "id": "6a7ee40a",
   "metadata": {},
   "outputs": [
    {
     "data": {
      "text/plain": [
       "array([666, 666, 666, 666, 666, 666, 666, 666, 666, 666])"
      ]
     },
     "execution_count": 29,
     "metadata": {},
     "output_type": "execute_result"
    }
   ],
   "source": [
    "np.full(10, 666)"
   ]
  },
  {
   "cell_type": "code",
   "execution_count": 30,
   "id": "323edf0c",
   "metadata": {},
   "outputs": [
    {
     "data": {
      "text/plain": [
       "array([[333, 333, 333, 333],\n",
       "       [333, 333, 333, 333]])"
      ]
     },
     "execution_count": 30,
     "metadata": {},
     "output_type": "execute_result"
    }
   ],
   "source": [
    "np.full((2,4), 333)"
   ]
  },
  {
   "cell_type": "markdown",
   "id": "d0390d16",
   "metadata": {},
   "source": [
    "### 使用full_like创建形状相同的数组\n",
    "np.full_like(a, fill_value, dtype=None)"
   ]
  },
  {
   "cell_type": "code",
   "execution_count": 31,
   "id": "a2562a1d",
   "metadata": {},
   "outputs": [
    {
     "data": {
      "text/plain": [
       "array([666, 666, 666, 666, 666, 666, 666, 666])"
      ]
     },
     "execution_count": 31,
     "metadata": {},
     "output_type": "execute_result"
    }
   ],
   "source": [
    "np.full_like(x, 666)"
   ]
  },
  {
   "cell_type": "code",
   "execution_count": 32,
   "id": "a53dd606",
   "metadata": {},
   "outputs": [
    {
     "data": {
      "text/plain": [
       "array([[666, 666, 666, 666],\n",
       "       [666, 666, 666, 666]])"
      ]
     },
     "execution_count": 32,
     "metadata": {},
     "output_type": "execute_result"
    }
   ],
   "source": [
    "np.full_like(X, 666)"
   ]
  },
  {
   "cell_type": "markdown",
   "id": "3b93681e",
   "metadata": {},
   "source": [
    "### 使用random模块生成随机的数组\n",
    "randn(d0, d1, ..., dn)"
   ]
  },
  {
   "cell_type": "code",
   "execution_count": 33,
   "id": "d2113ed1",
   "metadata": {},
   "outputs": [
    {
     "data": {
      "text/plain": [
       "0.3289046506866467"
      ]
     },
     "execution_count": 33,
     "metadata": {},
     "output_type": "execute_result"
    }
   ],
   "source": [
    "np.random.randn()"
   ]
  },
  {
   "cell_type": "code",
   "execution_count": 34,
   "id": "6dc20931",
   "metadata": {},
   "outputs": [
    {
     "data": {
      "text/plain": [
       "array([-1.3298962 ,  0.05496773,  0.71120875])"
      ]
     },
     "execution_count": 34,
     "metadata": {},
     "output_type": "execute_result"
    }
   ],
   "source": [
    "np.random.randn(3)"
   ]
  },
  {
   "cell_type": "code",
   "execution_count": 35,
   "id": "4f5897f1",
   "metadata": {},
   "outputs": [
    {
     "data": {
      "text/plain": [
       "array([[ 2.59287838, -2.01420559],\n",
       "       [-0.49501358,  0.36806293],\n",
       "       [ 1.815392  ,  0.21253489]])"
      ]
     },
     "execution_count": 35,
     "metadata": {},
     "output_type": "execute_result"
    }
   ],
   "source": [
    "np.random.randn(3, 2)"
   ]
  },
  {
   "cell_type": "code",
   "execution_count": 36,
   "id": "a1679e55",
   "metadata": {},
   "outputs": [
    {
     "data": {
      "text/plain": [
       "array([[[-1.5437276 ,  1.01708646,  1.24802207,  1.85729071],\n",
       "        [-0.08796033, -0.60113766, -0.46009727, -0.81398234]],\n",
       "\n",
       "       [[-0.58638124, -0.64527142, -1.88204987, -1.28490861],\n",
       "        [-0.82174557, -1.13935332,  1.71492216,  0.00224388]],\n",
       "\n",
       "       [[-0.4104594 , -0.03930026,  0.03016466,  0.41610144],\n",
       "        [-1.85222345, -0.61420921,  0.01603632,  0.60793187]]])"
      ]
     },
     "execution_count": 36,
     "metadata": {},
     "output_type": "execute_result"
    }
   ],
   "source": [
    "np.random.randn(3,2,4)"
   ]
  },
  {
   "cell_type": "markdown",
   "id": "cc02b922",
   "metadata": {},
   "source": [
    "## 4. array本身支持大量操作和函数\n",
    "这些操作如果用Python实现需要写很多for循环，用numpy数组很容易"
   ]
  },
  {
   "cell_type": "code",
   "execution_count": 37,
   "id": "17220ca2",
   "metadata": {},
   "outputs": [
    {
     "data": {
      "text/plain": [
       "array([[0, 1, 2, 3, 4],\n",
       "       [5, 6, 7, 8, 9]])"
      ]
     },
     "execution_count": 37,
     "metadata": {},
     "output_type": "execute_result"
    }
   ],
   "source": [
    "A = np.arange(10).reshape(2, 5)\n",
    "A"
   ]
  },
  {
   "cell_type": "code",
   "execution_count": 38,
   "id": "12394bb3",
   "metadata": {},
   "outputs": [
    {
     "data": {
      "text/plain": [
       "(2, 5)"
      ]
     },
     "execution_count": 38,
     "metadata": {},
     "output_type": "execute_result"
    }
   ],
   "source": [
    "A.shape"
   ]
  },
  {
   "cell_type": "code",
   "execution_count": 39,
   "id": "4fa52feb",
   "metadata": {},
   "outputs": [
    {
     "data": {
      "text/plain": [
       "array([[ 1,  2,  3,  4,  5],\n",
       "       [ 6,  7,  8,  9, 10]])"
      ]
     },
     "execution_count": 39,
     "metadata": {},
     "output_type": "execute_result"
    }
   ],
   "source": [
    "A + 1"
   ]
  },
  {
   "cell_type": "code",
   "execution_count": 40,
   "id": "87309c6c",
   "metadata": {},
   "outputs": [
    {
     "data": {
      "text/plain": [
       "array([[ 0,  3,  6,  9, 12],\n",
       "       [15, 18, 21, 24, 27]])"
      ]
     },
     "execution_count": 40,
     "metadata": {},
     "output_type": "execute_result"
    }
   ],
   "source": [
    "A * 3"
   ]
  },
  {
   "cell_type": "code",
   "execution_count": 41,
   "id": "61133531",
   "metadata": {},
   "outputs": [
    {
     "data": {
      "text/plain": [
       "array([[ 0.        ,  0.84147098,  0.90929743,  0.14112001, -0.7568025 ],\n",
       "       [-0.95892427, -0.2794155 ,  0.6569866 ,  0.98935825,  0.41211849]])"
      ]
     },
     "execution_count": 41,
     "metadata": {},
     "output_type": "execute_result"
    }
   ],
   "source": [
    "np.sin(A)"
   ]
  },
  {
   "cell_type": "code",
   "execution_count": 42,
   "id": "b9db2df1",
   "metadata": {},
   "outputs": [
    {
     "data": {
      "text/plain": [
       "array([[1.00000000e+00, 2.71828183e+00, 7.38905610e+00, 2.00855369e+01,\n",
       "        5.45981500e+01],\n",
       "       [1.48413159e+02, 4.03428793e+02, 1.09663316e+03, 2.98095799e+03,\n",
       "        8.10308393e+03]])"
      ]
     },
     "execution_count": 42,
     "metadata": {},
     "output_type": "execute_result"
    }
   ],
   "source": [
    "np.exp(A)"
   ]
  },
  {
   "cell_type": "code",
   "execution_count": 43,
   "id": "71a93f2f",
   "metadata": {},
   "outputs": [
    {
     "data": {
      "text/plain": [
       "array([[-0.47269437,  0.75844762,  0.69094086, -0.61637254, -1.25853538],\n",
       "       [ 0.23999785,  1.20315105,  1.29920756, -0.29549767, -2.26944267]])"
      ]
     },
     "execution_count": 43,
     "metadata": {},
     "output_type": "execute_result"
    }
   ],
   "source": [
    "B = np.random.randn(2, 5)\n",
    "B"
   ]
  },
  {
   "cell_type": "code",
   "execution_count": 44,
   "id": "528560bd",
   "metadata": {},
   "outputs": [
    {
     "data": {
      "text/plain": [
       "array([[-0.47269437,  1.75844762,  2.69094086,  2.38362746,  2.74146462],\n",
       "       [ 5.23999785,  7.20315105,  8.29920756,  7.70450233,  6.73055733]])"
      ]
     },
     "execution_count": 44,
     "metadata": {},
     "output_type": "execute_result"
    }
   ],
   "source": [
    "A + B"
   ]
  },
  {
   "cell_type": "code",
   "execution_count": 45,
   "id": "ad87153a",
   "metadata": {},
   "outputs": [
    {
     "data": {
      "text/plain": [
       "array([[ 0.47269437,  0.24155238,  1.30905914,  3.61637254,  5.25853538],\n",
       "       [ 4.76000215,  4.79684895,  5.70079244,  8.29549767, 11.26944267]])"
      ]
     },
     "execution_count": 45,
     "metadata": {},
     "output_type": "execute_result"
    }
   ],
   "source": [
    "A - B"
   ]
  },
  {
   "attachments": {},
   "cell_type": "markdown",
   "id": "0c01ce62",
   "metadata": {},
   "source": [
    "#### meshgrid"
   ]
  },
  {
   "cell_type": "code",
   "execution_count": 24,
   "id": "367f50e3",
   "metadata": {},
   "outputs": [
    {
     "name": "stdout",
     "output_type": "stream",
     "text": [
      "[1. 2. 3.]\n",
      "[4, 5, 6, 7]\n"
     ]
    }
   ],
   "source": [
    "x = np.linspace(1, 3, 3)\n",
    "y = [4,5,6,7]\n",
    "print(x)\n",
    "print(y)"
   ]
  },
  {
   "attachments": {
    "image.png": {
     "image/png": "[encoded data removed]"
    }
   },
   "cell_type": "markdown",
   "id": "5a0a9ee3",
   "metadata": {},
   "source": [
    "![image.png](attachment:image.png)"
   ]
  },
  {
   "attachments": {
    "image.png": {
     "image/png": "[encoded data removed]"
    }
   },
   "cell_type": "markdown",
   "id": "1c6455fa",
   "metadata": {},
   "source": [
    "![image.png](attachment:image.png)"
   ]
  },
  {
   "cell_type": "code",
   "execution_count": 26,
   "id": "3d549d72",
   "metadata": {},
   "outputs": [
    {
     "name": "stdout",
     "output_type": "stream",
     "text": [
      "[[1. 2. 3.]\n",
      " [1. 2. 3.]\n",
      " [1. 2. 3.]\n",
      " [1. 2. 3.]] X.shape: (4, 3)\n",
      "[[4 4 4]\n",
      " [5 5 5]\n",
      " [6 6 6]\n",
      " [7 7 7]] Y.shape: (4, 3)\n"
     ]
    }
   ],
   "source": [
    "X, Y = np.meshgrid(x, y)\n",
    "print(X, 'X.shape:', X.shape)\n",
    "print(Y, 'Y.shape:', Y.shape)"
   ]
  },
  {
   "cell_type": "code",
   "execution_count": null,
   "id": "88ebd6ae",
   "metadata": {},
   "outputs": [],
   "source": []
  }
 ],
 "metadata": {
  "kernelspec": {
   "display_name": "Python 3",
   "language": "python",
   "name": "python3"
  },
  "language_info": {
   "codemirror_mode": {
    "name": "ipython",
    "version": 3
   },
   "file_extension": ".py",
   "mimetype": "text/x-python",
   "name": "python",
   "nbconvert_exporter": "python",
   "pygments_lexer": "ipython3",
   "version": "3.7.6"
  }
 },
 "nbformat": 4,
 "nbformat_minor": 5
}
