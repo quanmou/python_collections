{
 "cells": [
  {
   "cell_type": "markdown",
   "id": "8ea4477d",
   "metadata": {},
   "source": [
    "## Numpy和原生Python用于数组计算的性能对比\n",
    "需求：\n",
    "* 实现两个树的加法\n",
    "* 数组A是1-N数字的平方\n",
    "* 数组B是1-N数字的立方\n",
    "\n",
    "对比使用Numpy和原生Python的性能对比"
   ]
  },
  {
   "cell_type": "code",
   "execution_count": 1,
   "id": "050f7b13",
   "metadata": {},
   "outputs": [],
   "source": [
    "import numpy as np"
   ]
  },
  {
   "cell_type": "code",
   "execution_count": 2,
   "id": "1cdfef5e",
   "metadata": {},
   "outputs": [
    {
     "data": {
      "text/plain": [
       "'1.18.1'"
      ]
     },
     "execution_count": 2,
     "metadata": {},
     "output_type": "execute_result"
    }
   ],
   "source": [
    "np.__version__"
   ]
  },
  {
   "cell_type": "markdown",
   "id": "44ff1ce9",
   "metadata": {},
   "source": [
    "## 使用Python原生语法实现对比"
   ]
  },
  {
   "cell_type": "code",
   "execution_count": 3,
   "id": "cce160ec",
   "metadata": {},
   "outputs": [],
   "source": [
    "def python_sum(n):\n",
    "    \"\"\"\n",
    "    Python实现的数组的加法\n",
    "    @param n: 数组的长度\n",
    "    \"\"\"\n",
    "    a = [i ** 2 for i in range(n)]\n",
    "    b = [i ** 3 for i in range(n)]\n",
    "    c = []\n",
    "    for i in range(n):\n",
    "        c.append(a[i] + b[i])\n",
    "    return c"
   ]
  },
  {
   "cell_type": "code",
   "execution_count": 4,
   "id": "7c6ef3b4",
   "metadata": {},
   "outputs": [
    {
     "data": {
      "text/plain": [
       "[0, 2, 12, 36, 80, 150, 252, 392, 576, 810]"
      ]
     },
     "execution_count": 4,
     "metadata": {},
     "output_type": "execute_result"
    }
   ],
   "source": [
    "# 测试一下\n",
    "python_sum(10)"
   ]
  },
  {
   "cell_type": "markdown",
   "id": "6a52dbec",
   "metadata": {},
   "source": [
    "## 使用numpy实现"
   ]
  },
  {
   "cell_type": "code",
   "execution_count": 6,
   "id": "39416b77",
   "metadata": {},
   "outputs": [],
   "source": [
    "def numpy_sum(n):\n",
    "    a = np.arange(n) ** 2\n",
    "    b = np.arange(n) ** 3\n",
    "    return a + b"
   ]
  },
  {
   "cell_type": "code",
   "execution_count": 10,
   "id": "4503e8ed",
   "metadata": {},
   "outputs": [
    {
     "data": {
      "text/plain": [
       "array([  0,   2,  12,  36,  80, 150, 252, 392, 576, 810])"
      ]
     },
     "execution_count": 10,
     "metadata": {},
     "output_type": "execute_result"
    }
   ],
   "source": [
    "# 测试一下\n",
    "numpy_sum(10)"
   ]
  },
  {
   "cell_type": "markdown",
   "id": "9031bb71",
   "metadata": {},
   "source": [
    "## 性能对比: 执行1000次"
   ]
  },
  {
   "cell_type": "code",
   "execution_count": 11,
   "id": "e110434c",
   "metadata": {},
   "outputs": [
    {
     "name": "stdout",
     "output_type": "stream",
     "text": [
      "912 µs ± 42.2 µs per loop (mean ± std. dev. of 7 runs, 1000 loops each)\n"
     ]
    }
   ],
   "source": [
    "%timeit python_sum(1000)"
   ]
  },
  {
   "cell_type": "code",
   "execution_count": 12,
   "id": "4e56fd8f",
   "metadata": {},
   "outputs": [
    {
     "name": "stdout",
     "output_type": "stream",
     "text": [
      "11.1 µs ± 194 ns per loop (mean ± std. dev. of 7 runs, 100000 loops each)\n"
     ]
    }
   ],
   "source": [
    "%timeit numpy_sum(1000)"
   ]
  },
  {
   "cell_type": "markdown",
   "id": "35c6c2d6",
   "metadata": {},
   "source": [
    "## 性能对比: 执行10万次"
   ]
  },
  {
   "cell_type": "code",
   "execution_count": 13,
   "id": "525b2694",
   "metadata": {},
   "outputs": [
    {
     "name": "stdout",
     "output_type": "stream",
     "text": [
      "95.7 ms ± 3.59 ms per loop (mean ± std. dev. of 7 runs, 10 loops each)\n"
     ]
    }
   ],
   "source": [
    "%timeit python_sum(10000 * 10)"
   ]
  },
  {
   "cell_type": "code",
   "execution_count": 14,
   "id": "3f91c173",
   "metadata": {},
   "outputs": [
    {
     "name": "stdout",
     "output_type": "stream",
     "text": [
      "554 µs ± 57.7 µs per loop (mean ± std. dev. of 7 runs, 1000 loops each)\n"
     ]
    }
   ],
   "source": [
    "%timeit numpy_sum(10000 * 10)"
   ]
  },
  {
   "cell_type": "markdown",
   "id": "d17b0dfc",
   "metadata": {},
   "source": [
    "## 性能对比: 执行1000万次"
   ]
  },
  {
   "cell_type": "code",
   "execution_count": 15,
   "id": "cdf8a7a9",
   "metadata": {},
   "outputs": [
    {
     "name": "stdout",
     "output_type": "stream",
     "text": [
      "9.55 s ± 182 ms per loop (mean ± std. dev. of 7 runs, 1 loop each)\n"
     ]
    }
   ],
   "source": [
    "%timeit python_sum(10000 * 1000)"
   ]
  },
  {
   "cell_type": "code",
   "execution_count": 16,
   "id": "6a84bc22",
   "metadata": {},
   "outputs": [
    {
     "name": "stdout",
     "output_type": "stream",
     "text": [
      "132 ms ± 6.05 ms per loop (mean ± std. dev. of 7 runs, 1 loop each)\n"
     ]
    }
   ],
   "source": [
    "%timeit numpy_sum(10000 * 1000)"
   ]
  },
  {
   "cell_type": "markdown",
   "id": "7d6f1b52",
   "metadata": {},
   "source": [
    "## 绘制性能对比图"
   ]
  },
  {
   "cell_type": "code",
   "execution_count": 17,
   "id": "51770140",
   "metadata": {},
   "outputs": [],
   "source": [
    "pytimes = [912, 95.7 * 1000, 9.55 * 1000 * 1000]\n",
    "nptimes = [11.1, 554, 132 * 1000]"
   ]
  },
  {
   "cell_type": "code",
   "execution_count": 18,
   "id": "9c3a654b",
   "metadata": {},
   "outputs": [],
   "source": [
    "import pandas as pd\n",
    "df = pd.DataFrame({\n",
    "    \"pytimes\": pytimes,\n",
    "    \"nptimes\": nptimes,\n",
    "})"
   ]
  },
  {
   "cell_type": "code",
   "execution_count": 20,
   "id": "6500fb7c",
   "metadata": {},
   "outputs": [
    {
     "data": {
      "text/plain": [
       "<AxesSubplot:>"
      ]
     },
     "execution_count": 20,
     "metadata": {},
     "output_type": "execute_result"
    },
    {
     "data": {
      "image/png": "[encoded data removed]",
      "text/plain": [
       "<Figure size 432x288 with 1 Axes>"
      ]
     },
     "metadata": {
      "needs_background": "light"
     },
     "output_type": "display_data"
    }
   ],
   "source": [
    "df.plot.bar()"
   ]
  },
  {
   "cell_type": "code",
   "execution_count": null,
   "id": "3e100b08",
   "metadata": {},
   "outputs": [],
   "source": []
  }
 ],
 "metadata": {
  "kernelspec": {
   "display_name": "Python 3",
   "language": "python",
   "name": "python3"
  },
  "language_info": {
   "codemirror_mode": {
    "name": "ipython",
    "version": 3
   },
   "file_extension": ".py",
   "mimetype": "text/x-python",
   "name": "python",
   "nbconvert_exporter": "python",
   "pygments_lexer": "ipython3",
   "version": "3.7.6"
  }
 },
 "nbformat": 4,
 "nbformat_minor": 5
}
