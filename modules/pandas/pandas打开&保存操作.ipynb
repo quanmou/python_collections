{
 "cells": [
  {
   "cell_type": "code",
   "execution_count": null,
   "outputs": [],
   "source": [
    "import pandas as pd"
   ],
   "metadata": {
    "collapsed": false,
    "pycharm": {
     "name": "#%%\n"
    }
   }
  },
  {
   "cell_type": "markdown",
   "id": "f0bdbc29",
   "metadata": {},
   "source": [
    "## 同时读取excel的多个sheet"
   ]
  },
  {
   "cell_type": "code",
   "execution_count": null,
   "id": "ca353a4b",
   "metadata": {
    "scrolled": true
   },
   "outputs": [],
   "source": [
    "# sheet_name默认值为0，读取第一个sheet，可以传入list，设为None读取所有sheet\n",
    "file_path = \"path.to.file\"\n",
    "data = pd.read_excel(file_path, sheet_name=None)"
   ]
  },
  {
   "cell_type": "markdown",
   "id": "de37c7d0",
   "metadata": {},
   "source": [
    "## 同时保存多个sheet到excel"
   ]
  },
  {
   "cell_type": "code",
   "execution_count": null,
   "id": "55c9e5c4",
   "metadata": {},
   "outputs": [],
   "source": [
    "writer = pd.ExcelWriter('path.to.excel.file')\n",
    "df1.to_excel(writer, sheet_name='df1.sheet.name', index=False)\n",
    "df2.to_excel(writer, sheet_namez='df2.sheet.name')\n",
    "writer.save()"
   ]
  },
  {
   "cell_type": "markdown",
   "id": "6fc38ab3",
   "metadata": {},
   "source": [
    "## 追加到已有的excel"
   ]
  },
  {
   "cell_type": "code",
   "execution_count": null,
   "id": "381f6733",
   "metadata": {},
   "outputs": [],
   "source": [
    "with pd.ExcelWriter(\"path.to.exist.excel.file\", mode='a', engine='openpyxl') as writer:\n",
    "    df.to_excel(writer, sheet_name=\"new.sheet.name\", index=False)"
   ]
  }
 ],
 "metadata": {
  "kernelspec": {
   "display_name": "Python 3 (ipykernel)",
   "language": "python",
   "name": "python3"
  },
  "language_info": {
   "codemirror_mode": {
    "name": "ipython",
    "version": 3
   },
   "file_extension": ".py",
   "mimetype": "text/x-python",
   "name": "python",
   "nbconvert_exporter": "python",
   "pygments_lexer": "ipython3",
   "version": "3.9.7"
  }
 },
 "nbformat": 4,
 "nbformat_minor": 5
}