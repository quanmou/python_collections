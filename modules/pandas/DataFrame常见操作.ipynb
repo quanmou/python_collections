{
 "cells": [
  {
   "cell_type": "code",
   "execution_count": 4,
   "id": "ad2c1e0c",
   "metadata": {},
   "outputs": [],
   "source": [
    "import pandas as pd\n",
    "import numpy as np"
   ]
  },
  {
   "cell_type": "markdown",
   "id": "2149add2",
   "metadata": {},
   "source": [
    "## 打印DataFrame的前后5行"
   ]
  },
  {
   "cell_type": "code",
   "execution_count": 7,
   "id": "31e8361a",
   "metadata": {},
   "outputs": [
    {
     "name": "stdout",
     "output_type": "stream",
     "text": [
      "                norm   uniform  binomial\n",
      "2021-01-01  0.631645  0.371954         0\n",
      "2021-01-02 -0.702175  0.418004         0\n",
      "2021-01-03 -0.048241  0.664685         0\n",
      "2021-01-04  0.366193  0.364940         0\n",
      "2021-01-05  0.156846  0.605270         1\n",
      "2021-01-06 -0.412874  0.868922         0\n",
      "2021-01-07  1.544170  0.965315         0\n",
      "2021-01-08 -0.560153  0.116781         0\n",
      "2021-01-09  0.481517  0.662427         0\n",
      "2021-01-10 -0.260883  0.226705         0\n",
      "\n",
      "                norm   uniform  binomial\n",
      "2023-09-23 -0.191587  0.981348         0\n",
      "2023-09-24 -0.110555  0.859775         1\n",
      "2023-09-25 -0.546216  0.070583         0\n",
      "2023-09-26 -1.453722  0.148417         0\n",
      "2023-09-27  0.027186  0.611006         0\n"
     ]
    }
   ],
   "source": [
    "df = pd.DataFrame(\n",
    "    data = {\n",
    "        'norm': np.random.normal(loc=0, scale=1, size=1000),\n",
    "        'uniform': np.random.uniform(low=0, high=1, size=1000),\n",
    "        'binomial': np.random.binomial(n=1, p=0.2, size=1000)\n",
    "    },\n",
    "    index=pd.date_range(start='2021-01-01', periods=1000)\n",
    ")\n",
    "\n",
    "print(df.head(10))\n",
    "print()\n",
    "print(df.tail(5))"
   ]
  },
  {
   "cell_type": "markdown",
   "id": "8ffc56ac",
   "metadata": {},
   "source": [
    "## 查看df的信息和基本数据统计"
   ]
  },
  {
   "cell_type": "code",
   "execution_count": 9,
   "id": "4bfcff98",
   "metadata": {},
   "outputs": [
    {
     "name": "stdout",
     "output_type": "stream",
     "text": [
      "<class 'pandas.core.frame.DataFrame'>\n",
      "DatetimeIndex: 1000 entries, 2021-01-01 to 2023-09-27\n",
      "Freq: D\n",
      "Data columns (total 3 columns):\n",
      " #   Column    Non-Null Count  Dtype  \n",
      "---  ------    --------------  -----  \n",
      " 0   norm      1000 non-null   float64\n",
      " 1   uniform   1000 non-null   float64\n",
      " 2   binomial  1000 non-null   int64  \n",
      "dtypes: float64(2), int64(1)\n",
      "memory usage: 31.2 KB\n",
      "None\n",
      "\n",
      "              norm      uniform    binomial\n",
      "count  1000.000000  1000.000000  1000.00000\n",
      "mean      0.007479     0.513191     0.20800\n",
      "std       0.968059     0.291012     0.40608\n",
      "min      -3.026913     0.000099     0.00000\n",
      "25%      -0.643775     0.265885     0.00000\n",
      "50%       0.011285     0.514052     0.00000\n",
      "75%       0.659487     0.779423     0.00000\n",
      "max       2.623086     0.999312     1.00000\n"
     ]
    }
   ],
   "source": [
    "print(df.info())\n",
    "print()\n",
    "print(df.describe())"
   ]
  },
  {
   "cell_type": "markdown",
   "id": "d2063a96",
   "metadata": {},
   "source": [
    "## 统计数据列的值出现次数"
   ]
  },
  {
   "cell_type": "code",
   "execution_count": 10,
   "id": "d1dc9842",
   "metadata": {},
   "outputs": [
    {
     "name": "stdout",
     "output_type": "stream",
     "text": [
      "0    792\n",
      "1    208\n",
      "Name: binomial, dtype: int64\n"
     ]
    }
   ],
   "source": [
    "print(df['binomial'].value_counts())"
   ]
  },
  {
   "cell_type": "markdown",
   "id": "4c85eb9a",
   "metadata": {},
   "source": [
    "## 将df前N行存入CSV文件"
   ]
  },
  {
   "cell_type": "code",
   "execution_count": 11,
   "id": "36a6bd35",
   "metadata": {},
   "outputs": [],
   "source": [
    "df.to_csv('分布数据前50行.csv')"
   ]
  },
  {
   "cell_type": "markdown",
   "id": "adb4e8d8",
   "metadata": {},
   "source": [
    "## 加载CSV文件到df"
   ]
  },
  {
   "cell_type": "code",
   "execution_count": 12,
   "id": "5d979485",
   "metadata": {},
   "outputs": [
    {
     "name": "stdout",
     "output_type": "stream",
     "text": [
      "                norm   uniform  binomial\n",
      "2021-01-01  0.631645  0.371954         0\n",
      "2021-01-02 -0.702175  0.418004         0\n",
      "2021-01-03 -0.048241  0.664685         0\n",
      "2021-01-04  0.366193  0.364940         0\n",
      "2021-01-05  0.156846  0.605270         1\n",
      "...              ...       ...       ...\n",
      "2023-09-23 -0.191587  0.981348         0\n",
      "2023-09-24 -0.110555  0.859775         1\n",
      "2023-09-25 -0.546216  0.070583         0\n",
      "2023-09-26 -1.453722  0.148417         0\n",
      "2023-09-27  0.027186  0.611006         0\n",
      "\n",
      "[1000 rows x 3 columns]\n"
     ]
    }
   ],
   "source": [
    "df = pd.read_csv('分布数据前50行.csv', index_col=0)\n",
    "print(df)"
   ]
  },
  {
   "cell_type": "markdown",
   "id": "20a68f6c",
   "metadata": {},
   "source": [
    "## 下载股票数据"
   ]
  },
  {
   "cell_type": "code",
   "execution_count": 23,
   "id": "97f99fab",
   "metadata": {},
   "outputs": [
    {
     "name": "stdout",
     "output_type": "stream",
     "text": [
      "本接口即将停止更新，请尽快使用Pro版接口：https://waditu.com/document/2\n"
     ]
    },
    {
     "data": {
      "text/html": [
       "<div>\n",
       "<style scoped>\n",
       "    .dataframe tbody tr th:only-of-type {\n",
       "        vertical-align: middle;\n",
       "    }\n",
       "\n",
       "    .dataframe tbody tr th {\n",
       "        vertical-align: top;\n",
       "    }\n",
       "\n",
       "    .dataframe thead th {\n",
       "        text-align: right;\n",
       "    }\n",
       "</style>\n",
       "<table border=\"1\" class=\"dataframe\">\n",
       "  <thead>\n",
       "    <tr style=\"text-align: right;\">\n",
       "      <th></th>\n",
       "      <th>date</th>\n",
       "      <th>open</th>\n",
       "      <th>close</th>\n",
       "      <th>high</th>\n",
       "      <th>low</th>\n",
       "      <th>volume</th>\n",
       "      <th>code</th>\n",
       "    </tr>\n",
       "  </thead>\n",
       "  <tbody>\n",
       "    <tr>\n",
       "      <th>74</th>\n",
       "      <td>2010-04-26</td>\n",
       "      <td>88.702</td>\n",
       "      <td>87.381</td>\n",
       "      <td>89.072</td>\n",
       "      <td>87.362</td>\n",
       "      <td>107036.13</td>\n",
       "      <td>600519</td>\n",
       "    </tr>\n",
       "    <tr>\n",
       "      <th>75</th>\n",
       "      <td>2010-04-27</td>\n",
       "      <td>87.355</td>\n",
       "      <td>84.841</td>\n",
       "      <td>87.355</td>\n",
       "      <td>84.681</td>\n",
       "      <td>58234.48</td>\n",
       "      <td>600519</td>\n",
       "    </tr>\n",
       "    <tr>\n",
       "      <th>76</th>\n",
       "      <td>2010-04-28</td>\n",
       "      <td>84.235</td>\n",
       "      <td>84.318</td>\n",
       "      <td>85.128</td>\n",
       "      <td>83.597</td>\n",
       "      <td>26287.43</td>\n",
       "      <td>600519</td>\n",
       "    </tr>\n",
       "    <tr>\n",
       "      <th>77</th>\n",
       "      <td>2010-04-29</td>\n",
       "      <td>84.592</td>\n",
       "      <td>85.671</td>\n",
       "      <td>86.315</td>\n",
       "      <td>84.592</td>\n",
       "      <td>34501.20</td>\n",
       "      <td>600519</td>\n",
       "    </tr>\n",
       "    <tr>\n",
       "      <th>78</th>\n",
       "      <td>2010-04-30</td>\n",
       "      <td>83.871</td>\n",
       "      <td>82.340</td>\n",
       "      <td>83.871</td>\n",
       "      <td>81.523</td>\n",
       "      <td>85566.70</td>\n",
       "      <td>600519</td>\n",
       "    </tr>\n",
       "    <tr>\n",
       "      <th>...</th>\n",
       "      <td>...</td>\n",
       "      <td>...</td>\n",
       "      <td>...</td>\n",
       "      <td>...</td>\n",
       "      <td>...</td>\n",
       "      <td>...</td>\n",
       "      <td>...</td>\n",
       "    </tr>\n",
       "    <tr>\n",
       "      <th>2738</th>\n",
       "      <td>2021-04-20</td>\n",
       "      <td>2071.100</td>\n",
       "      <td>2094.800</td>\n",
       "      <td>2129.000</td>\n",
       "      <td>2070.000</td>\n",
       "      <td>28290.00</td>\n",
       "      <td>600519</td>\n",
       "    </tr>\n",
       "    <tr>\n",
       "      <th>2739</th>\n",
       "      <td>2021-04-21</td>\n",
       "      <td>2076.000</td>\n",
       "      <td>2080.000</td>\n",
       "      <td>2097.800</td>\n",
       "      <td>2065.100</td>\n",
       "      <td>26150.00</td>\n",
       "      <td>600519</td>\n",
       "    </tr>\n",
       "    <tr>\n",
       "      <th>2740</th>\n",
       "      <td>2021-04-22</td>\n",
       "      <td>2089.900</td>\n",
       "      <td>2055.500</td>\n",
       "      <td>2099.000</td>\n",
       "      <td>2051.500</td>\n",
       "      <td>26850.00</td>\n",
       "      <td>600519</td>\n",
       "    </tr>\n",
       "    <tr>\n",
       "      <th>2741</th>\n",
       "      <td>2021-04-23</td>\n",
       "      <td>2055.970</td>\n",
       "      <td>2108.940</td>\n",
       "      <td>2119.880</td>\n",
       "      <td>2052.500</td>\n",
       "      <td>33463.00</td>\n",
       "      <td>600519</td>\n",
       "    </tr>\n",
       "    <tr>\n",
       "      <th>2742</th>\n",
       "      <td>2021-04-26</td>\n",
       "      <td>2132.000</td>\n",
       "      <td>2077.820</td>\n",
       "      <td>2135.000</td>\n",
       "      <td>2073.600</td>\n",
       "      <td>34045.00</td>\n",
       "      <td>600519</td>\n",
       "    </tr>\n",
       "  </tbody>\n",
       "</table>\n",
       "<p>2669 rows × 7 columns</p>\n",
       "</div>"
      ],
      "text/plain": [
       "            date      open     close      high       low     volume    code\n",
       "74    2010-04-26    88.702    87.381    89.072    87.362  107036.13  600519\n",
       "75    2010-04-27    87.355    84.841    87.355    84.681   58234.48  600519\n",
       "76    2010-04-28    84.235    84.318    85.128    83.597   26287.43  600519\n",
       "77    2010-04-29    84.592    85.671    86.315    84.592   34501.20  600519\n",
       "78    2010-04-30    83.871    82.340    83.871    81.523   85566.70  600519\n",
       "...          ...       ...       ...       ...       ...        ...     ...\n",
       "2738  2021-04-20  2071.100  2094.800  2129.000  2070.000   28290.00  600519\n",
       "2739  2021-04-21  2076.000  2080.000  2097.800  2065.100   26150.00  600519\n",
       "2740  2021-04-22  2089.900  2055.500  2099.000  2051.500   26850.00  600519\n",
       "2741  2021-04-23  2055.970  2108.940  2119.880  2052.500   33463.00  600519\n",
       "2742  2021-04-26  2132.000  2077.820  2135.000  2073.600   34045.00  600519\n",
       "\n",
       "[2669 rows x 7 columns]"
      ]
     },
     "execution_count": 23,
     "metadata": {},
     "output_type": "execute_result"
    }
   ],
   "source": [
    "import tushare as ts\n",
    "\n",
    "df = ts.get_k_data('600519', ktype='D', start='2010-04-26', end='2021-04-26')\n",
    "df.to_csv(\"./SH600519.csv\")\n",
    "df"
   ]
  },
  {
   "cell_type": "markdown",
   "id": "ab0ca0cc",
   "metadata": {},
   "source": [
    "## index重新从0排序"
   ]
  },
  {
   "cell_type": "code",
   "execution_count": 40,
   "id": "81699853",
   "metadata": {},
   "outputs": [
    {
     "data": {
      "text/html": [
       "<div>\n",
       "<style scoped>\n",
       "    .dataframe tbody tr th:only-of-type {\n",
       "        vertical-align: middle;\n",
       "    }\n",
       "\n",
       "    .dataframe tbody tr th {\n",
       "        vertical-align: top;\n",
       "    }\n",
       "\n",
       "    .dataframe thead th {\n",
       "        text-align: right;\n",
       "    }\n",
       "</style>\n",
       "<table border=\"1\" class=\"dataframe\">\n",
       "  <thead>\n",
       "    <tr style=\"text-align: right;\">\n",
       "      <th></th>\n",
       "      <th>date</th>\n",
       "      <th>open</th>\n",
       "      <th>close</th>\n",
       "      <th>high</th>\n",
       "      <th>low</th>\n",
       "      <th>volume</th>\n",
       "      <th>code</th>\n",
       "      <th>year</th>\n",
       "      <th>month</th>\n",
       "    </tr>\n",
       "  </thead>\n",
       "  <tbody>\n",
       "    <tr>\n",
       "      <th>0</th>\n",
       "      <td>2010-04-26</td>\n",
       "      <td>88.702</td>\n",
       "      <td>87.381</td>\n",
       "      <td>89.072</td>\n",
       "      <td>87.362</td>\n",
       "      <td>107036.13</td>\n",
       "      <td>600519</td>\n",
       "      <td>2010</td>\n",
       "      <td>4</td>\n",
       "    </tr>\n",
       "    <tr>\n",
       "      <th>1</th>\n",
       "      <td>2010-04-27</td>\n",
       "      <td>87.355</td>\n",
       "      <td>84.841</td>\n",
       "      <td>87.355</td>\n",
       "      <td>84.681</td>\n",
       "      <td>58234.48</td>\n",
       "      <td>600519</td>\n",
       "      <td>2010</td>\n",
       "      <td>4</td>\n",
       "    </tr>\n",
       "    <tr>\n",
       "      <th>2</th>\n",
       "      <td>2010-04-28</td>\n",
       "      <td>84.235</td>\n",
       "      <td>84.318</td>\n",
       "      <td>85.128</td>\n",
       "      <td>83.597</td>\n",
       "      <td>26287.43</td>\n",
       "      <td>600519</td>\n",
       "      <td>2010</td>\n",
       "      <td>4</td>\n",
       "    </tr>\n",
       "    <tr>\n",
       "      <th>3</th>\n",
       "      <td>2010-04-29</td>\n",
       "      <td>84.592</td>\n",
       "      <td>85.671</td>\n",
       "      <td>86.315</td>\n",
       "      <td>84.592</td>\n",
       "      <td>34501.20</td>\n",
       "      <td>600519</td>\n",
       "      <td>2010</td>\n",
       "      <td>4</td>\n",
       "    </tr>\n",
       "    <tr>\n",
       "      <th>4</th>\n",
       "      <td>2010-04-30</td>\n",
       "      <td>83.871</td>\n",
       "      <td>82.340</td>\n",
       "      <td>83.871</td>\n",
       "      <td>81.523</td>\n",
       "      <td>85566.70</td>\n",
       "      <td>600519</td>\n",
       "      <td>2010</td>\n",
       "      <td>4</td>\n",
       "    </tr>\n",
       "    <tr>\n",
       "      <th>...</th>\n",
       "      <td>...</td>\n",
       "      <td>...</td>\n",
       "      <td>...</td>\n",
       "      <td>...</td>\n",
       "      <td>...</td>\n",
       "      <td>...</td>\n",
       "      <td>...</td>\n",
       "      <td>...</td>\n",
       "      <td>...</td>\n",
       "    </tr>\n",
       "    <tr>\n",
       "      <th>2664</th>\n",
       "      <td>2021-04-20</td>\n",
       "      <td>2071.100</td>\n",
       "      <td>2094.800</td>\n",
       "      <td>2129.000</td>\n",
       "      <td>2070.000</td>\n",
       "      <td>28290.00</td>\n",
       "      <td>600519</td>\n",
       "      <td>2021</td>\n",
       "      <td>4</td>\n",
       "    </tr>\n",
       "    <tr>\n",
       "      <th>2665</th>\n",
       "      <td>2021-04-21</td>\n",
       "      <td>2076.000</td>\n",
       "      <td>2080.000</td>\n",
       "      <td>2097.800</td>\n",
       "      <td>2065.100</td>\n",
       "      <td>26150.00</td>\n",
       "      <td>600519</td>\n",
       "      <td>2021</td>\n",
       "      <td>4</td>\n",
       "    </tr>\n",
       "    <tr>\n",
       "      <th>2666</th>\n",
       "      <td>2021-04-22</td>\n",
       "      <td>2089.900</td>\n",
       "      <td>2055.500</td>\n",
       "      <td>2099.000</td>\n",
       "      <td>2051.500</td>\n",
       "      <td>26850.00</td>\n",
       "      <td>600519</td>\n",
       "      <td>2021</td>\n",
       "      <td>4</td>\n",
       "    </tr>\n",
       "    <tr>\n",
       "      <th>2667</th>\n",
       "      <td>2021-04-23</td>\n",
       "      <td>2055.970</td>\n",
       "      <td>2108.940</td>\n",
       "      <td>2119.880</td>\n",
       "      <td>2052.500</td>\n",
       "      <td>33463.00</td>\n",
       "      <td>600519</td>\n",
       "      <td>2021</td>\n",
       "      <td>4</td>\n",
       "    </tr>\n",
       "    <tr>\n",
       "      <th>2668</th>\n",
       "      <td>2021-04-26</td>\n",
       "      <td>2132.000</td>\n",
       "      <td>2077.820</td>\n",
       "      <td>2135.000</td>\n",
       "      <td>2073.600</td>\n",
       "      <td>34045.00</td>\n",
       "      <td>600519</td>\n",
       "      <td>2021</td>\n",
       "      <td>4</td>\n",
       "    </tr>\n",
       "  </tbody>\n",
       "</table>\n",
       "<p>2669 rows × 9 columns</p>\n",
       "</div>"
      ],
      "text/plain": [
       "           date      open     close      high       low     volume    code  \\\n",
       "0    2010-04-26    88.702    87.381    89.072    87.362  107036.13  600519   \n",
       "1    2010-04-27    87.355    84.841    87.355    84.681   58234.48  600519   \n",
       "2    2010-04-28    84.235    84.318    85.128    83.597   26287.43  600519   \n",
       "3    2010-04-29    84.592    85.671    86.315    84.592   34501.20  600519   \n",
       "4    2010-04-30    83.871    82.340    83.871    81.523   85566.70  600519   \n",
       "...         ...       ...       ...       ...       ...        ...     ...   \n",
       "2664 2021-04-20  2071.100  2094.800  2129.000  2070.000   28290.00  600519   \n",
       "2665 2021-04-21  2076.000  2080.000  2097.800  2065.100   26150.00  600519   \n",
       "2666 2021-04-22  2089.900  2055.500  2099.000  2051.500   26850.00  600519   \n",
       "2667 2021-04-23  2055.970  2108.940  2119.880  2052.500   33463.00  600519   \n",
       "2668 2021-04-26  2132.000  2077.820  2135.000  2073.600   34045.00  600519   \n",
       "\n",
       "      year  month  \n",
       "0     2010      4  \n",
       "1     2010      4  \n",
       "2     2010      4  \n",
       "3     2010      4  \n",
       "4     2010      4  \n",
       "...    ...    ...  \n",
       "2664  2021      4  \n",
       "2665  2021      4  \n",
       "2666  2021      4  \n",
       "2667  2021      4  \n",
       "2668  2021      4  \n",
       "\n",
       "[2669 rows x 9 columns]"
      ]
     },
     "execution_count": 40,
     "metadata": {},
     "output_type": "execute_result"
    }
   ],
   "source": [
    "df.reset_index(drop=True, inplace=True)\n",
    "df"
   ]
  },
  {
   "cell_type": "markdown",
   "id": "5dcbb760",
   "metadata": {},
   "source": [
    "## 股票数据新增年份和月份两列"
   ]
  },
  {
   "cell_type": "code",
   "execution_count": 41,
   "id": "c8a69b0a",
   "metadata": {},
   "outputs": [
    {
     "data": {
      "text/html": [
       "<div>\n",
       "<style scoped>\n",
       "    .dataframe tbody tr th:only-of-type {\n",
       "        vertical-align: middle;\n",
       "    }\n",
       "\n",
       "    .dataframe tbody tr th {\n",
       "        vertical-align: top;\n",
       "    }\n",
       "\n",
       "    .dataframe thead th {\n",
       "        text-align: right;\n",
       "    }\n",
       "</style>\n",
       "<table border=\"1\" class=\"dataframe\">\n",
       "  <thead>\n",
       "    <tr style=\"text-align: right;\">\n",
       "      <th></th>\n",
       "      <th>date</th>\n",
       "      <th>open</th>\n",
       "      <th>close</th>\n",
       "      <th>high</th>\n",
       "      <th>low</th>\n",
       "      <th>volume</th>\n",
       "      <th>code</th>\n",
       "      <th>year</th>\n",
       "      <th>month</th>\n",
       "    </tr>\n",
       "  </thead>\n",
       "  <tbody>\n",
       "    <tr>\n",
       "      <th>0</th>\n",
       "      <td>2010-04-26</td>\n",
       "      <td>88.702</td>\n",
       "      <td>87.381</td>\n",
       "      <td>89.072</td>\n",
       "      <td>87.362</td>\n",
       "      <td>107036.13</td>\n",
       "      <td>600519</td>\n",
       "      <td>2010</td>\n",
       "      <td>4</td>\n",
       "    </tr>\n",
       "    <tr>\n",
       "      <th>1</th>\n",
       "      <td>2010-04-27</td>\n",
       "      <td>87.355</td>\n",
       "      <td>84.841</td>\n",
       "      <td>87.355</td>\n",
       "      <td>84.681</td>\n",
       "      <td>58234.48</td>\n",
       "      <td>600519</td>\n",
       "      <td>2010</td>\n",
       "      <td>4</td>\n",
       "    </tr>\n",
       "    <tr>\n",
       "      <th>2</th>\n",
       "      <td>2010-04-28</td>\n",
       "      <td>84.235</td>\n",
       "      <td>84.318</td>\n",
       "      <td>85.128</td>\n",
       "      <td>83.597</td>\n",
       "      <td>26287.43</td>\n",
       "      <td>600519</td>\n",
       "      <td>2010</td>\n",
       "      <td>4</td>\n",
       "    </tr>\n",
       "    <tr>\n",
       "      <th>3</th>\n",
       "      <td>2010-04-29</td>\n",
       "      <td>84.592</td>\n",
       "      <td>85.671</td>\n",
       "      <td>86.315</td>\n",
       "      <td>84.592</td>\n",
       "      <td>34501.20</td>\n",
       "      <td>600519</td>\n",
       "      <td>2010</td>\n",
       "      <td>4</td>\n",
       "    </tr>\n",
       "    <tr>\n",
       "      <th>4</th>\n",
       "      <td>2010-04-30</td>\n",
       "      <td>83.871</td>\n",
       "      <td>82.340</td>\n",
       "      <td>83.871</td>\n",
       "      <td>81.523</td>\n",
       "      <td>85566.70</td>\n",
       "      <td>600519</td>\n",
       "      <td>2010</td>\n",
       "      <td>4</td>\n",
       "    </tr>\n",
       "    <tr>\n",
       "      <th>...</th>\n",
       "      <td>...</td>\n",
       "      <td>...</td>\n",
       "      <td>...</td>\n",
       "      <td>...</td>\n",
       "      <td>...</td>\n",
       "      <td>...</td>\n",
       "      <td>...</td>\n",
       "      <td>...</td>\n",
       "      <td>...</td>\n",
       "    </tr>\n",
       "    <tr>\n",
       "      <th>2664</th>\n",
       "      <td>2021-04-20</td>\n",
       "      <td>2071.100</td>\n",
       "      <td>2094.800</td>\n",
       "      <td>2129.000</td>\n",
       "      <td>2070.000</td>\n",
       "      <td>28290.00</td>\n",
       "      <td>600519</td>\n",
       "      <td>2021</td>\n",
       "      <td>4</td>\n",
       "    </tr>\n",
       "    <tr>\n",
       "      <th>2665</th>\n",
       "      <td>2021-04-21</td>\n",
       "      <td>2076.000</td>\n",
       "      <td>2080.000</td>\n",
       "      <td>2097.800</td>\n",
       "      <td>2065.100</td>\n",
       "      <td>26150.00</td>\n",
       "      <td>600519</td>\n",
       "      <td>2021</td>\n",
       "      <td>4</td>\n",
       "    </tr>\n",
       "    <tr>\n",
       "      <th>2666</th>\n",
       "      <td>2021-04-22</td>\n",
       "      <td>2089.900</td>\n",
       "      <td>2055.500</td>\n",
       "      <td>2099.000</td>\n",
       "      <td>2051.500</td>\n",
       "      <td>26850.00</td>\n",
       "      <td>600519</td>\n",
       "      <td>2021</td>\n",
       "      <td>4</td>\n",
       "    </tr>\n",
       "    <tr>\n",
       "      <th>2667</th>\n",
       "      <td>2021-04-23</td>\n",
       "      <td>2055.970</td>\n",
       "      <td>2108.940</td>\n",
       "      <td>2119.880</td>\n",
       "      <td>2052.500</td>\n",
       "      <td>33463.00</td>\n",
       "      <td>600519</td>\n",
       "      <td>2021</td>\n",
       "      <td>4</td>\n",
       "    </tr>\n",
       "    <tr>\n",
       "      <th>2668</th>\n",
       "      <td>2021-04-26</td>\n",
       "      <td>2132.000</td>\n",
       "      <td>2077.820</td>\n",
       "      <td>2135.000</td>\n",
       "      <td>2073.600</td>\n",
       "      <td>34045.00</td>\n",
       "      <td>600519</td>\n",
       "      <td>2021</td>\n",
       "      <td>4</td>\n",
       "    </tr>\n",
       "  </tbody>\n",
       "</table>\n",
       "<p>2669 rows × 9 columns</p>\n",
       "</div>"
      ],
      "text/plain": [
       "           date      open     close      high       low     volume    code  \\\n",
       "0    2010-04-26    88.702    87.381    89.072    87.362  107036.13  600519   \n",
       "1    2010-04-27    87.355    84.841    87.355    84.681   58234.48  600519   \n",
       "2    2010-04-28    84.235    84.318    85.128    83.597   26287.43  600519   \n",
       "3    2010-04-29    84.592    85.671    86.315    84.592   34501.20  600519   \n",
       "4    2010-04-30    83.871    82.340    83.871    81.523   85566.70  600519   \n",
       "...         ...       ...       ...       ...       ...        ...     ...   \n",
       "2664 2021-04-20  2071.100  2094.800  2129.000  2070.000   28290.00  600519   \n",
       "2665 2021-04-21  2076.000  2080.000  2097.800  2065.100   26150.00  600519   \n",
       "2666 2021-04-22  2089.900  2055.500  2099.000  2051.500   26850.00  600519   \n",
       "2667 2021-04-23  2055.970  2108.940  2119.880  2052.500   33463.00  600519   \n",
       "2668 2021-04-26  2132.000  2077.820  2135.000  2073.600   34045.00  600519   \n",
       "\n",
       "      year  month  \n",
       "0     2010      4  \n",
       "1     2010      4  \n",
       "2     2010      4  \n",
       "3     2010      4  \n",
       "4     2010      4  \n",
       "...    ...    ...  \n",
       "2664  2021      4  \n",
       "2665  2021      4  \n",
       "2666  2021      4  \n",
       "2667  2021      4  \n",
       "2668  2021      4  \n",
       "\n",
       "[2669 rows x 9 columns]"
      ]
     },
     "execution_count": 41,
     "metadata": {},
     "output_type": "execute_result"
    }
   ],
   "source": [
    "df['date'] = pd.to_datetime(df['date'])\n",
    "df['year'] = df['date'].dt.year\n",
    "df['month'] = df['date'].dt.month\n",
    "df"
   ]
  },
  {
   "cell_type": "markdown",
   "id": "3c32d5f1",
   "metadata": {},
   "source": [
    "## 计算每年的平均收盘价"
   ]
  },
  {
   "cell_type": "code",
   "execution_count": 42,
   "id": "034a796e",
   "metadata": {},
   "outputs": [
    {
     "name": "stdout",
     "output_type": "stream",
     "text": [
      "year\n",
      "2010     100.886199\n",
      "2011     132.621086\n",
      "2012     161.065517\n",
      "2013     125.231727\n",
      "2014     125.944204\n",
      "2015     192.295840\n",
      "2016     265.250451\n",
      "2017     468.765984\n",
      "2018     681.227605\n",
      "2019     968.623525\n",
      "2020    1471.484568\n",
      "2021    2107.634267\n",
      "Name: close, dtype: float64\n"
     ]
    }
   ],
   "source": [
    "print(df.groupby('year')['close'].mean())"
   ]
  },
  {
   "cell_type": "markdown",
   "id": "ce479e27",
   "metadata": {},
   "source": [
    "## 股票数据找出收盘价最低行"
   ]
  },
  {
   "cell_type": "code",
   "execution_count": 43,
   "id": "966085e9",
   "metadata": {},
   "outputs": [
    {
     "name": "stdout",
     "output_type": "stream",
     "text": [
      "80.578\n",
      "40\n",
      "         date    open   close    high     low    volume    code  year  month\n",
      "40 2010-06-29  82.008  80.578  82.569  80.093  27782.66  600519  2010      6\n",
      "         date    open   close    high     low    volume    code  year  month\n",
      "40 2010-06-29  82.008  80.578  82.569  80.093  27782.66  600519  2010      6\n"
     ]
    }
   ],
   "source": [
    "print(df['close'].min())\n",
    "print(df['close'].argmin())\n",
    "print(df.iloc[[40]])\n",
    "print(df.iloc[[df['close'].argmin()]])"
   ]
  },
  {
   "cell_type": "markdown",
   "id": "520aa7ce",
   "metadata": {},
   "source": [
    "## 筛选部分列"
   ]
  },
  {
   "cell_type": "code",
   "execution_count": 44,
   "id": "203c08ea",
   "metadata": {},
   "outputs": [
    {
     "name": "stdout",
     "output_type": "stream",
     "text": [
      "           date      open     close     volume\n",
      "0    2010-04-26    88.702    87.381  107036.13\n",
      "1    2010-04-27    87.355    84.841   58234.48\n",
      "2    2010-04-28    84.235    84.318   26287.43\n",
      "3    2010-04-29    84.592    85.671   34501.20\n",
      "4    2010-04-30    83.871    82.340   85566.70\n",
      "...         ...       ...       ...        ...\n",
      "2664 2021-04-20  2071.100  2094.800   28290.00\n",
      "2665 2021-04-21  2076.000  2080.000   26150.00\n",
      "2666 2021-04-22  2089.900  2055.500   26850.00\n",
      "2667 2021-04-23  2055.970  2108.940   33463.00\n",
      "2668 2021-04-26  2132.000  2077.820   34045.00\n",
      "\n",
      "[2669 rows x 4 columns]\n"
     ]
    }
   ],
   "source": [
    "print(df[['date', 'open', 'close', 'volume']])"
   ]
  },
  {
   "cell_type": "markdown",
   "id": "f4b343f0",
   "metadata": {},
   "source": [
    "## 将日期设置为索引"
   ]
  },
  {
   "cell_type": "code",
   "execution_count": 47,
   "id": "2c9ad252",
   "metadata": {},
   "outputs": [
    {
     "name": "stdout",
     "output_type": "stream",
     "text": [
      "              open   close    high     low     volume    code  year  month\n",
      "date                                                                      \n",
      "2010-04-26  88.702  87.381  89.072  87.362  107036.13  600519  2010      4\n",
      "2010-04-27  87.355  84.841  87.355  84.681   58234.48  600519  2010      4\n",
      "2010-04-28  84.235  84.318  85.128  83.597   26287.43  600519  2010      4\n"
     ]
    }
   ],
   "source": [
    "df.set_index('date', inplace=True)\n",
    "print(df.head(3))"
   ]
  },
  {
   "cell_type": "markdown",
   "id": "78703adb",
   "metadata": {},
   "source": [
    "## 删除数据列"
   ]
  },
  {
   "cell_type": "code",
   "execution_count": 50,
   "id": "4b9e46e5",
   "metadata": {},
   "outputs": [
    {
     "name": "stdout",
     "output_type": "stream",
     "text": [
      "              open   close     volume  year  month\n",
      "date                                              \n",
      "2010-04-26  88.702  87.381  107036.13  2010      4\n",
      "2010-04-27  87.355  84.841   58234.48  2010      4\n",
      "2010-04-28  84.235  84.318   26287.43  2010      4\n"
     ]
    }
   ],
   "source": [
    "df.drop(columns=['high', 'low', 'code'], inplace=True)\n",
    "print(df.head(3))"
   ]
  },
  {
   "cell_type": "markdown",
   "id": "bdad48b5",
   "metadata": {},
   "source": [
    "## 对数据列进行重命名"
   ]
  },
  {
   "cell_type": "code",
   "execution_count": 52,
   "id": "391cbf5f",
   "metadata": {},
   "outputs": [
    {
     "name": "stdout",
     "output_type": "stream",
     "text": [
      "                 O       C          V     Y  M\n",
      "date                                          \n",
      "2010-04-26  88.702  87.381  107036.13  2010  4\n",
      "2010-04-27  87.355  84.841   58234.48  2010  4\n",
      "2010-04-28  84.235  84.318   26287.43  2010  4\n"
     ]
    }
   ],
   "source": [
    "# df.columns = ['O', 'C', 'V', 'Y', 'M']\n",
    "df.rename(columns={'open': 'O', 'colse': 'C', 'volume': 'V', 'year': 'Y', 'month': 'M'}, inplace=True)\n",
    "print(df.head(3))"
   ]
  },
  {
   "cell_type": "markdown",
   "id": "01fef9fc",
   "metadata": {},
   "source": [
    "## 加载电信客户流失数据"
   ]
  },
  {
   "cell_type": "code",
   "execution_count": 61,
   "id": "086e3950",
   "metadata": {},
   "outputs": [
    {
     "name": "stdout",
     "output_type": "stream",
     "text": [
      "   customerID  gender  SeniorCitizen Partner Dependents  tenure PhoneService  \\\n",
      "0  7590-VHVEG  Female              0     Yes         No       1           No   \n",
      "1  5575-GNVDE    Male              0      No         No      34          Yes   \n",
      "2  3668-QPYBK    Male              0      No         No       2          Yes   \n",
      "3  7795-CFOCW    Male              0      No         No      45           No   \n",
      "4  9237-HQITU  Female              0      No         No       2          Yes   \n",
      "\n",
      "      MultipleLines InternetService OnlineSecurity  ... DeviceProtection  \\\n",
      "0  No phone service             DSL             No  ...               No   \n",
      "1                No             DSL            Yes  ...              Yes   \n",
      "2                No             DSL            Yes  ...               No   \n",
      "3  No phone service             DSL            Yes  ...              Yes   \n",
      "4                No     Fiber optic             No  ...               No   \n",
      "\n",
      "  TechSupport StreamingTV StreamingMovies        Contract PaperlessBilling  \\\n",
      "0          No          No              No  Month-to-month              Yes   \n",
      "1          No          No              No        One year               No   \n",
      "2          No          No              No  Month-to-month              Yes   \n",
      "3         Yes          No              No        One year               No   \n",
      "4          No          No              No  Month-to-month              Yes   \n",
      "\n",
      "               PaymentMethod MonthlyCharges  TotalCharges Churn  \n",
      "0           Electronic check          29.85         29.85    No  \n",
      "1               Mailed check          56.95        1889.5    No  \n",
      "2               Mailed check          53.85        108.15   Yes  \n",
      "3  Bank transfer (automatic)          42.30       1840.75    No  \n",
      "4           Electronic check          70.70        151.65   Yes  \n",
      "\n",
      "[5 rows x 21 columns]\n"
     ]
    }
   ],
   "source": [
    "df = pd.read_csv('Telco-Customer-Churn.csv')\n",
    "print(df.head(5))"
   ]
  },
  {
   "cell_type": "markdown",
   "id": "67c33f4a",
   "metadata": {},
   "source": [
    "## 统计每一列的缺失值"
   ]
  },
  {
   "cell_type": "code",
   "execution_count": 62,
   "id": "ef3f9875",
   "metadata": {},
   "outputs": [
    {
     "name": "stdout",
     "output_type": "stream",
     "text": [
      "      customerID  gender  SeniorCitizen  Partner  Dependents  tenure  \\\n",
      "0          False   False          False    False       False   False   \n",
      "1          False   False          False    False       False   False   \n",
      "2          False   False          False    False       False   False   \n",
      "3          False   False          False    False       False   False   \n",
      "4          False   False          False    False       False   False   \n",
      "...          ...     ...            ...      ...         ...     ...   \n",
      "7038       False   False          False    False       False   False   \n",
      "7039       False   False          False    False       False   False   \n",
      "7040       False   False          False    False       False   False   \n",
      "7041       False   False          False    False       False   False   \n",
      "7042       False   False          False    False       False   False   \n",
      "\n",
      "      PhoneService  MultipleLines  InternetService  OnlineSecurity  ...  \\\n",
      "0            False          False            False           False  ...   \n",
      "1            False          False            False           False  ...   \n",
      "2            False          False            False           False  ...   \n",
      "3            False          False            False           False  ...   \n",
      "4            False          False            False           False  ...   \n",
      "...            ...            ...              ...             ...  ...   \n",
      "7038         False          False            False           False  ...   \n",
      "7039         False          False            False           False  ...   \n",
      "7040         False          False            False           False  ...   \n",
      "7041         False          False            False           False  ...   \n",
      "7042         False          False            False           False  ...   \n",
      "\n",
      "      DeviceProtection  TechSupport  StreamingTV  StreamingMovies  Contract  \\\n",
      "0                False        False        False            False     False   \n",
      "1                False        False        False            False     False   \n",
      "2                False        False        False            False     False   \n",
      "3                False        False        False            False     False   \n",
      "4                False        False        False            False     False   \n",
      "...                ...          ...          ...              ...       ...   \n",
      "7038             False        False        False            False     False   \n",
      "7039             False        False        False            False     False   \n",
      "7040             False        False        False            False     False   \n",
      "7041             False        False        False            False     False   \n",
      "7042             False        False        False            False     False   \n",
      "\n",
      "      PaperlessBilling  PaymentMethod  MonthlyCharges  TotalCharges  Churn  \n",
      "0                False          False           False         False  False  \n",
      "1                False          False           False         False  False  \n",
      "2                False          False           False         False  False  \n",
      "3                False          False           False         False  False  \n",
      "4                False          False           False         False  False  \n",
      "...                ...            ...             ...           ...    ...  \n",
      "7038             False          False           False         False  False  \n",
      "7039             False          False           False         False  False  \n",
      "7040             False          False           False         False  False  \n",
      "7041             False          False           False         False  False  \n",
      "7042             False          False           False         False  False  \n",
      "\n",
      "[7043 rows x 21 columns]\n",
      "customerID          0\n",
      "gender              0\n",
      "SeniorCitizen       0\n",
      "Partner             0\n",
      "Dependents          0\n",
      "tenure              0\n",
      "PhoneService        0\n",
      "MultipleLines       0\n",
      "InternetService     0\n",
      "OnlineSecurity      0\n",
      "OnlineBackup        0\n",
      "DeviceProtection    0\n",
      "TechSupport         0\n",
      "StreamingTV         0\n",
      "StreamingMovies     0\n",
      "Contract            0\n",
      "PaperlessBilling    0\n",
      "PaymentMethod       0\n",
      "MonthlyCharges      0\n",
      "TotalCharges        0\n",
      "Churn               0\n",
      "dtype: int64\n"
     ]
    }
   ],
   "source": [
    "print(df.isnull())\n",
    "print(df.isnull().sum())"
   ]
  },
  {
   "cell_type": "markdown",
   "id": "ad0c08b6",
   "metadata": {},
   "source": [
    "## 设置数据列的类型"
   ]
  },
  {
   "cell_type": "code",
   "execution_count": 63,
   "id": "d36fb5aa",
   "metadata": {},
   "outputs": [
    {
     "name": "stdout",
     "output_type": "stream",
     "text": [
      "<class 'pandas.core.frame.DataFrame'>\n",
      "RangeIndex: 7043 entries, 0 to 7042\n",
      "Data columns (total 21 columns):\n",
      " #   Column            Non-Null Count  Dtype  \n",
      "---  ------            --------------  -----  \n",
      " 0   customerID        7043 non-null   object \n",
      " 1   gender            7043 non-null   object \n",
      " 2   SeniorCitizen     7043 non-null   int64  \n",
      " 3   Partner           7043 non-null   object \n",
      " 4   Dependents        7043 non-null   object \n",
      " 5   tenure            7043 non-null   int64  \n",
      " 6   PhoneService      7043 non-null   object \n",
      " 7   MultipleLines     7043 non-null   object \n",
      " 8   InternetService   7043 non-null   object \n",
      " 9   OnlineSecurity    7043 non-null   object \n",
      " 10  OnlineBackup      7043 non-null   object \n",
      " 11  DeviceProtection  7043 non-null   object \n",
      " 12  TechSupport       7043 non-null   object \n",
      " 13  StreamingTV       7043 non-null   object \n",
      " 14  StreamingMovies   7043 non-null   object \n",
      " 15  Contract          7043 non-null   object \n",
      " 16  PaperlessBilling  7043 non-null   object \n",
      " 17  PaymentMethod     7043 non-null   object \n",
      " 18  MonthlyCharges    7043 non-null   float64\n",
      " 19  TotalCharges      7043 non-null   object \n",
      " 20  Churn             7043 non-null   object \n",
      "dtypes: float64(1), int64(2), object(18)\n",
      "memory usage: 1.1+ MB\n",
      "None\n",
      "20.2       11\n",
      "           11\n",
      "19.75       9\n",
      "19.65       8\n",
      "19.9        8\n",
      "           ..\n",
      "3615.6      1\n",
      "1559.25     1\n",
      "292.8       1\n",
      "2542.45     1\n",
      "1082.75     1\n",
      "Name: TotalCharges, Length: 6531, dtype: int64\n",
      "\n",
      "20.2        11\n",
      "1397.475    11\n",
      "19.75        9\n",
      "19.65        8\n",
      "19.9         8\n",
      "            ..\n",
      "1559.25      1\n",
      "292.8        1\n",
      "2542.45      1\n",
      "253          1\n",
      "1082.75      1\n",
      "Name: TotalCharges, Length: 6531, dtype: int64\n"
     ]
    }
   ],
   "source": [
    "print(df.info())  # TotalCharges是object，有问题\n",
    "print(df['TotalCharges'].value_counts())  # 查看每个值的个数，发现有11个空值\n",
    "median = df['TotalCharges'][df['TotalCharges'] != ' '].median()  # 取出所有不为空值的数据的中位数\n",
    "df.loc[df['TotalCharges'] == ' ', 'TotalCharges'] = median\n",
    "print()\n",
    "print(df['TotalCharges'].value_counts())"
   ]
  },
  {
   "cell_type": "markdown",
   "id": "ff9ea382",
   "metadata": {},
   "source": [
    "## 将类别字段转换为categorial类型"
   ]
  },
  {
   "cell_type": "code",
   "execution_count": 67,
   "id": "0690c353",
   "metadata": {},
   "outputs": [
    {
     "name": "stdout",
     "output_type": "stream",
     "text": [
      "Index(['customerID', 'gender', 'SeniorCitizen', 'Partner', 'Dependents',\n",
      "       'tenure', 'PhoneService', 'MultipleLines', 'InternetService',\n",
      "       'OnlineSecurity', 'OnlineBackup', 'DeviceProtection', 'TechSupport',\n",
      "       'StreamingTV', 'StreamingMovies', 'Contract', 'PaperlessBilling',\n",
      "       'PaymentMethod', 'MonthlyCharges', 'TotalCharges', 'Churn'],\n",
      "      dtype='object')\n",
      "<class 'pandas.core.frame.DataFrame'>\n",
      "RangeIndex: 7043 entries, 0 to 7042\n",
      "Data columns (total 21 columns):\n",
      " #   Column            Non-Null Count  Dtype   \n",
      "---  ------            --------------  -----   \n",
      " 0   customerID        7043 non-null   category\n",
      " 1   gender            7043 non-null   category\n",
      " 2   SeniorCitizen     7043 non-null   category\n",
      " 3   Partner           7043 non-null   category\n",
      " 4   Dependents        7043 non-null   category\n",
      " 5   tenure            7043 non-null   float64 \n",
      " 6   PhoneService      7043 non-null   category\n",
      " 7   MultipleLines     7043 non-null   category\n",
      " 8   InternetService   7043 non-null   category\n",
      " 9   OnlineSecurity    7043 non-null   category\n",
      " 10  OnlineBackup      7043 non-null   category\n",
      " 11  DeviceProtection  7043 non-null   category\n",
      " 12  TechSupport       7043 non-null   category\n",
      " 13  StreamingTV       7043 non-null   category\n",
      " 14  StreamingMovies   7043 non-null   category\n",
      " 15  Contract          7043 non-null   category\n",
      " 16  PaperlessBilling  7043 non-null   category\n",
      " 17  PaymentMethod     7043 non-null   category\n",
      " 18  MonthlyCharges    7043 non-null   float64 \n",
      " 19  TotalCharges      7043 non-null   float64 \n",
      " 20  Churn             7043 non-null   category\n",
      "dtypes: category(18), float64(3)\n",
      "memory usage: 672.7 KB\n",
      "None\n"
     ]
    }
   ],
   "source": [
    "print(df.columns)\n",
    "number_columns = ['tenure', 'MonthlyCharges', 'TotalCharges']\n",
    "for col in number_columns:\n",
    "    df[col] = df[col].astype(float)\n",
    "for col in set(df.columns) - set(number_columns):\n",
    "    df[col] = pd.Categorical(df[col])\n",
    "print(df.info())"
   ]
  },
  {
   "cell_type": "markdown",
   "id": "83036a89",
   "metadata": {},
   "source": [
    "## 只对categorical类型的字段做数据统计"
   ]
  },
  {
   "cell_type": "code",
   "execution_count": 68,
   "id": "14238869",
   "metadata": {},
   "outputs": [
    {
     "name": "stdout",
     "output_type": "stream",
     "text": [
      "        customerID gender  SeniorCitizen Partner Dependents PhoneService  \\\n",
      "count         7043   7043           7043    7043       7043         7043   \n",
      "unique        7043      2              2       2          2            2   \n",
      "top     9995-HOTOH   Male              0      No         No          Yes   \n",
      "freq             1   3555           5901    3641       4933         6361   \n",
      "\n",
      "       MultipleLines InternetService OnlineSecurity OnlineBackup  \\\n",
      "count           7043            7043           7043         7043   \n",
      "unique             3               3              3            3   \n",
      "top               No     Fiber optic             No           No   \n",
      "freq            3390            3096           3498         3088   \n",
      "\n",
      "       DeviceProtection TechSupport StreamingTV StreamingMovies  \\\n",
      "count              7043        7043        7043            7043   \n",
      "unique                3           3           3               3   \n",
      "top                  No          No          No              No   \n",
      "freq               3095        3473        2810            2785   \n",
      "\n",
      "              Contract PaperlessBilling     PaymentMethod Churn  \n",
      "count             7043             7043              7043  7043  \n",
      "unique               3                2                 4     2  \n",
      "top     Month-to-month              Yes  Electronic check    No  \n",
      "freq              3875             4171              2365  5174  \n"
     ]
    }
   ],
   "source": [
    "print(df.describe(include=['category']))"
   ]
  },
  {
   "cell_type": "markdown",
   "id": "ea02513c",
   "metadata": {},
   "source": [
    "## churn字段的数据分布"
   ]
  },
  {
   "cell_type": "code",
   "execution_count": 71,
   "id": "0d5af212",
   "metadata": {},
   "outputs": [
    {
     "name": "stdout",
     "output_type": "stream",
     "text": [
      "No     5174\n",
      "Yes    1869\n",
      "Name: Churn, dtype: int64\n"
     ]
    }
   ],
   "source": [
    "df = pd.read_csv('Telco-Customer-Churn.csv')\n",
    "print(df['Churn'].value_counts())"
   ]
  },
  {
   "cell_type": "markdown",
   "id": "bea1a7a5",
   "metadata": {},
   "source": [
    "## 多维度查看月费字段统计"
   ]
  },
  {
   "cell_type": "code",
   "execution_count": 72,
   "id": "ef14ab22",
   "metadata": {},
   "outputs": [
    {
     "name": "stdout",
     "output_type": "stream",
     "text": [
      "Churn  PaymentMethod            \n",
      "No     Bank transfer (automatic)    65.049417\n",
      "       Credit card (automatic)      64.562209\n",
      "       Electronic check             74.232032\n",
      "       Mailed check                 41.403911\n",
      "Yes    Bank transfer (automatic)    77.875581\n",
      "       Credit card (automatic)      77.356034\n",
      "       Electronic check             78.700980\n",
      "       Mailed check                 54.557143\n",
      "Name: MonthlyCharges, dtype: float64\n"
     ]
    }
   ],
   "source": [
    "print(df.groupby(['Churn', 'PaymentMethod'])['MonthlyCharges'].mean())"
   ]
  },
  {
   "cell_type": "markdown",
   "id": "8460dcf8",
   "metadata": {},
   "source": [
    "## 将Churn字段映射为数字类型"
   ]
  },
  {
   "cell_type": "code",
   "execution_count": 77,
   "id": "30a53907",
   "metadata": {},
   "outputs": [
    {
     "name": "stdout",
     "output_type": "stream",
     "text": [
      "No     5174\n",
      "Yes    1869\n",
      "Name: Churn, dtype: int64\n",
      "0    5174\n",
      "1    1869\n",
      "Name: Churn, dtype: int64\n"
     ]
    }
   ],
   "source": [
    "df = pd.read_csv('Telco-Customer-Churn.csv')\n",
    "print(df['Churn'].value_counts())\n",
    "df['Churn'] = df['Churn'].map({'Yes': 1, 'No': 0})\n",
    "print(df['Churn'].value_counts())"
   ]
  },
  {
   "cell_type": "markdown",
   "id": "0165a541",
   "metadata": {},
   "source": [
    "## 查看字段相关性矩阵"
   ]
  },
  {
   "cell_type": "code",
   "execution_count": 78,
   "id": "940a4d32",
   "metadata": {},
   "outputs": [
    {
     "name": "stdout",
     "output_type": "stream",
     "text": [
      "                SeniorCitizen    tenure  MonthlyCharges\n",
      "SeniorCitizen        1.000000  0.016567        0.220173\n",
      "tenure               0.016567  1.000000        0.247900\n",
      "MonthlyCharges       0.220173  0.247900        1.000000\n"
     ]
    }
   ],
   "source": [
    "df = pd.read_csv('Telco-Customer-Churn.csv')\n",
    "print(df.corr())  # 只会取数字类型来运算"
   ]
  },
  {
   "cell_type": "markdown",
   "id": "58e35497",
   "metadata": {},
   "source": [
    "## 从数据中采样"
   ]
  },
  {
   "cell_type": "code",
   "execution_count": 80,
   "id": "0872db17",
   "metadata": {},
   "outputs": [
    {
     "name": "stdout",
     "output_type": "stream",
     "text": [
      "      customerID  gender  SeniorCitizen Partner Dependents  tenure  \\\n",
      "3237  6734-JDTTV    Male              0     Yes        Yes      65   \n",
      "5308  9110-HSGTV  Female              0      No         No      69   \n",
      "3659  0795-GMVQO    Male              0     Yes         No      67   \n",
      "5383  2362-IBOOY    Male              0      No         No      36   \n",
      "5323  1448-CYWKC  Female              0     Yes        Yes      58   \n",
      "\n",
      "     PhoneService MultipleLines InternetService       OnlineSecurity  ...  \\\n",
      "3237          Yes            No              No  No internet service  ...   \n",
      "5308          Yes            No             DSL                  Yes  ...   \n",
      "3659          Yes           Yes     Fiber optic                  Yes  ...   \n",
      "5383          Yes           Yes     Fiber optic                   No  ...   \n",
      "5323          Yes           Yes     Fiber optic                   No  ...   \n",
      "\n",
      "         DeviceProtection          TechSupport          StreamingTV  \\\n",
      "3237  No internet service  No internet service  No internet service   \n",
      "5308                  Yes                  Yes                  Yes   \n",
      "3659                  Yes                   No                  Yes   \n",
      "5383                   No                   No                   No   \n",
      "5323                  Yes                   No                  Yes   \n",
      "\n",
      "          StreamingMovies        Contract PaperlessBilling  \\\n",
      "3237  No internet service        Two year              Yes   \n",
      "5308                  Yes        Two year              Yes   \n",
      "3659                  Yes        One year               No   \n",
      "5383                  Yes  Month-to-month              Yes   \n",
      "5323                  Yes        One year              Yes   \n",
      "\n",
      "                PaymentMethod MonthlyCharges  TotalCharges Churn  \n",
      "3237  Credit card (automatic)          19.85       1267.05    No  \n",
      "5308  Credit card (automatic)          82.45        5555.3    No  \n",
      "3659  Credit card (automatic)         109.90        7332.4    No  \n",
      "5383         Electronic check          84.75       3050.15   Yes  \n",
      "5323  Credit card (automatic)         105.20        6225.4    No  \n",
      "\n",
      "[5 rows x 21 columns]\n"
     ]
    }
   ],
   "source": [
    "print(df.sample(5))"
   ]
  },
  {
   "cell_type": "markdown",
   "id": "d21c2ca1",
   "metadata": {},
   "source": [
    "## 合并两个Series到一个DataFrame"
   ]
  },
  {
   "cell_type": "code",
   "execution_count": 89,
   "id": "51c5811e",
   "metadata": {},
   "outputs": [
    {
     "name": "stdout",
     "output_type": "stream",
     "text": [
      "       col1      col2\n",
      "0  0.154288  0.648347\n",
      "1  0.133700  0.286029\n",
      "2  0.362685  2.956916\n",
      "3  0.679109  1.092710\n",
      "4  0.194450  1.170838\n",
      "5  0.251210  1.435220\n",
      "6  0.758416 -0.180981\n",
      "7  0.557619 -0.056043\n",
      "8  0.514803 -0.185062\n",
      "9  0.467800 -0.610935\n"
     ]
    }
   ],
   "source": [
    "np.random.seed(66)\n",
    "s1 = pd.Series(np.random.rand(10))\n",
    "s2 = pd.Series(np.random.randn(10))\n",
    "df = pd.concat([s1, s2], axis=1)\n",
    "df.columns = ['col1', 'col2']\n",
    "print(df)"
   ]
  },
  {
   "cell_type": "markdown",
   "id": "9b3da305",
   "metadata": {},
   "source": [
    "## 多条件筛选DataFrame"
   ]
  },
  {
   "cell_type": "code",
   "execution_count": 90,
   "id": "9a7a5e02",
   "metadata": {},
   "outputs": [
    {
     "data": {
      "text/html": [
       "<div>\n",
       "<style scoped>\n",
       "    .dataframe tbody tr th:only-of-type {\n",
       "        vertical-align: middle;\n",
       "    }\n",
       "\n",
       "    .dataframe tbody tr th {\n",
       "        vertical-align: top;\n",
       "    }\n",
       "\n",
       "    .dataframe thead th {\n",
       "        text-align: right;\n",
       "    }\n",
       "</style>\n",
       "<table border=\"1\" class=\"dataframe\">\n",
       "  <thead>\n",
       "    <tr style=\"text-align: right;\">\n",
       "      <th></th>\n",
       "      <th>col1</th>\n",
       "      <th>col2</th>\n",
       "    </tr>\n",
       "  </thead>\n",
       "  <tbody>\n",
       "    <tr>\n",
       "      <th>0</th>\n",
       "      <td>0.154288</td>\n",
       "      <td>0.648347</td>\n",
       "    </tr>\n",
       "    <tr>\n",
       "      <th>1</th>\n",
       "      <td>0.133700</td>\n",
       "      <td>0.286029</td>\n",
       "    </tr>\n",
       "  </tbody>\n",
       "</table>\n",
       "</div>"
      ],
      "text/plain": [
       "       col1      col2\n",
       "0  0.154288  0.648347\n",
       "1  0.133700  0.286029"
      ]
     },
     "execution_count": 90,
     "metadata": {},
     "output_type": "execute_result"
    }
   ],
   "source": [
    "df[(df['col2'] >=0) & (df['col2'] <= 1)]"
   ]
  },
  {
   "cell_type": "markdown",
   "id": "27e48831",
   "metadata": {},
   "source": [
    "## 根据现有列新增一个新的数据列"
   ]
  },
  {
   "cell_type": "code",
   "execution_count": 91,
   "id": "3d93b76b",
   "metadata": {},
   "outputs": [
    {
     "name": "stdout",
     "output_type": "stream",
     "text": [
      "       col1      col2  col3\n",
      "0  0.154288  0.648347     1\n",
      "1  0.133700  0.286029     1\n",
      "2  0.362685  2.956916     1\n",
      "3  0.679109  1.092710     1\n",
      "4  0.194450  1.170838     1\n",
      "5  0.251210  1.435220     1\n",
      "6  0.758416 -0.180981    -1\n",
      "7  0.557619 -0.056043    -1\n",
      "8  0.514803 -0.185062    -1\n",
      "9  0.467800 -0.610935    -1\n"
     ]
    }
   ],
   "source": [
    "df['col3'] = df['col2'].map(lambda x: 1 if x>=0 else -1)\n",
    "print(df)"
   ]
  },
  {
   "cell_type": "markdown",
   "id": "bb332ac2",
   "metadata": {},
   "source": [
    "## 新增截断数值数据列"
   ]
  },
  {
   "cell_type": "code",
   "execution_count": 92,
   "id": "59677770",
   "metadata": {},
   "outputs": [
    {
     "name": "stdout",
     "output_type": "stream",
     "text": [
      "       col1      col2  col3      col4\n",
      "0  0.154288  0.648347     1  0.648347\n",
      "1  0.133700  0.286029     1  0.286029\n",
      "2  0.362685  2.956916     1  1.000000\n",
      "3  0.679109  1.092710     1  1.000000\n",
      "4  0.194450  1.170838     1  1.000000\n",
      "5  0.251210  1.435220     1  1.000000\n",
      "6  0.758416 -0.180981    -1 -0.180981\n",
      "7  0.557619 -0.056043    -1 -0.056043\n",
      "8  0.514803 -0.185062    -1 -0.185062\n",
      "9  0.467800 -0.610935    -1 -0.610935\n"
     ]
    }
   ],
   "source": [
    "df['col4'] = df['col2'].clip(-1.0, 1.0)\n",
    "print(df)"
   ]
  },
  {
   "cell_type": "markdown",
   "id": "ad5b6782",
   "metadata": {},
   "source": [
    "## 输出DataFrame最大和最小的3个数字"
   ]
  },
  {
   "cell_type": "code",
   "execution_count": 95,
   "id": "4298b873",
   "metadata": {},
   "outputs": [
    {
     "name": "stdout",
     "output_type": "stream",
     "text": [
      "2    2.956916\n",
      "5    1.435220\n",
      "4    1.170838\n",
      "Name: col2, dtype: float64\n",
      "\n",
      "9   -0.610935\n",
      "8   -0.185062\n",
      "6   -0.180981\n",
      "Name: col2, dtype: float64\n"
     ]
    }
   ],
   "source": [
    "print(df['col2'].nlargest(3))\n",
    "print()\n",
    "print(df['col2'].nsmallest(3))"
   ]
  },
  {
   "cell_type": "markdown",
   "id": "179fc89d",
   "metadata": {},
   "source": [
    "## 计算DataFrame数字的累积加和值"
   ]
  },
  {
   "cell_type": "code",
   "execution_count": 96,
   "id": "b758356a",
   "metadata": {},
   "outputs": [
    {
     "name": "stdout",
     "output_type": "stream",
     "text": [
      "       col1      col2  col3      col4\n",
      "0  0.154288  0.648347     1  0.648347\n",
      "1  0.287987  0.934376     2  0.934376\n",
      "2  0.650673  3.891291     3  1.934376\n",
      "3  1.329781  4.984001     4  2.934376\n",
      "4  1.524232  6.154840     5  3.934376\n",
      "5  1.775442  7.590060     6  4.934376\n",
      "6  2.533858  7.409079     5  4.753395\n",
      "7  3.091477  7.353036     4  4.697352\n",
      "8  3.606280  7.167974     3  4.512290\n",
      "9  4.074080  6.557039     2  3.901355\n"
     ]
    }
   ],
   "source": [
    "print(df.cumsum())"
   ]
  },
  {
   "cell_type": "markdown",
   "id": "f622e2b1",
   "metadata": {},
   "source": [
    "## 计算DataFrame某一列数字中位数"
   ]
  },
  {
   "cell_type": "code",
   "execution_count": 97,
   "id": "52a76ff0",
   "metadata": {},
   "outputs": [
    {
     "name": "stdout",
     "output_type": "stream",
     "text": [
      "0.46718776787851013\n",
      "0.46718776787851013\n"
     ]
    }
   ],
   "source": [
    "print(df['col2'].median())\n",
    "print(df['col2'].quantile())"
   ]
  },
  {
   "cell_type": "markdown",
   "id": "1ea9b174",
   "metadata": {},
   "source": [
    "## 按条件筛选DataFrame"
   ]
  },
  {
   "cell_type": "code",
   "execution_count": 100,
   "id": "8e6c7fcf",
   "metadata": {},
   "outputs": [
    {
     "name": "stdout",
     "output_type": "stream",
     "text": [
      "       col1      col2  col3      col4\n",
      "0  0.154288  0.648347     1  0.648347\n",
      "1  0.133700  0.286029     1  0.286029\n",
      "2  0.362685  2.956916     1  1.000000\n",
      "3  0.679109  1.092710     1  1.000000\n",
      "4  0.194450  1.170838     1  1.000000\n",
      "5  0.251210  1.435220     1  1.000000\n",
      "       col1      col2  col3      col4\n",
      "0  0.154288  0.648347     1  0.648347\n",
      "1  0.133700  0.286029     1  0.286029\n",
      "2  0.362685  2.956916     1  1.000000\n",
      "3  0.679109  1.092710     1  1.000000\n",
      "4  0.194450  1.170838     1  1.000000\n",
      "5  0.251210  1.435220     1  1.000000\n"
     ]
    }
   ],
   "source": [
    "print(df[df['col2'] > 0])\n",
    "print(df.query('col2 > 0'))"
   ]
  },
  {
   "cell_type": "markdown",
   "id": "d71485da",
   "metadata": {},
   "source": [
    "## 将DataFrame前几行变成dict"
   ]
  },
  {
   "cell_type": "code",
   "execution_count": 101,
   "id": "6972fe0b",
   "metadata": {},
   "outputs": [
    {
     "name": "stdout",
     "output_type": "stream",
     "text": [
      "{'col1': {0: 0.1542875781312758, 1: 0.13369956070006594, 2: 0.36268546617688757}, 'col2': {0: 0.6483467919124405, 1: 0.2860287438445798, 2: 2.9569157629372835}, 'col3': {0: 1, 1: 1, 2: 1}, 'col4': {0: 0.6483467919124405, 1: 0.2860287438445798, 2: 1.0}}\n"
     ]
    }
   ],
   "source": [
    "print(df.head(3).to_dict())"
   ]
  },
  {
   "cell_type": "markdown",
   "id": "f0fe79ae",
   "metadata": {},
   "source": [
    "## 将DataFrame前几行转换为HTML"
   ]
  },
  {
   "cell_type": "code",
   "execution_count": 104,
   "id": "56aa2893",
   "metadata": {},
   "outputs": [
    {
     "name": "stdout",
     "output_type": "stream",
     "text": [
      "<table border=\"1\" class=\"dataframe\">\n",
      "  <thead>\n",
      "    <tr style=\"text-align: right;\">\n",
      "      <th></th>\n",
      "      <th>col1</th>\n",
      "      <th>col2</th>\n",
      "      <th>col3</th>\n",
      "      <th>col4</th>\n",
      "    </tr>\n",
      "  </thead>\n",
      "  <tbody>\n",
      "    <tr>\n",
      "      <th>0</th>\n",
      "      <td>0.154288</td>\n",
      "      <td>0.648347</td>\n",
      "      <td>1</td>\n",
      "      <td>0.648347</td>\n",
      "    </tr>\n",
      "    <tr>\n",
      "      <th>1</th>\n",
      "      <td>0.133700</td>\n",
      "      <td>0.286029</td>\n",
      "      <td>1</td>\n",
      "      <td>0.286029</td>\n",
      "    </tr>\n",
      "    <tr>\n",
      "      <th>2</th>\n",
      "      <td>0.362685</td>\n",
      "      <td>2.956916</td>\n",
      "      <td>1</td>\n",
      "      <td>1.000000</td>\n",
      "    </tr>\n",
      "  </tbody>\n",
      "</table>\n"
     ]
    }
   ],
   "source": [
    "print(df.head(3).to_html())"
   ]
  },
  {
   "cell_type": "markdown",
   "id": "b5a04394",
   "metadata": {},
   "source": [
    "## 按照列名筛选DataFrame"
   ]
  },
  {
   "cell_type": "code",
   "execution_count": 106,
   "id": "182537ef",
   "metadata": {},
   "outputs": [
    {
     "name": "stdout",
     "output_type": "stream",
     "text": [
      "          A         B         C         D\n",
      "0  0.321388  0.511416  0.503406  0.311064\n",
      "1  0.907981  0.274153  0.818676  0.552783\n",
      "2  0.647090  0.702874  0.411806  0.898348\n",
      "3  0.064108  0.664468  0.316883  0.703737\n",
      "4  0.770375  0.418004  0.089232  0.233519\n",
      "5  0.759519  0.469182  0.202954  0.696094\n",
      "6  0.909949  0.058232  0.788587  0.395684\n",
      "7  0.815126  0.566379  0.399533  0.698901\n",
      "8  0.586130  0.548261  0.000513  0.558941\n",
      "9  0.554009  0.299057  0.216054  0.125615\n",
      "          A         B         C         D\n",
      "1  0.907981  0.274153  0.818676  0.552783\n"
     ]
    }
   ],
   "source": [
    "df = pd.DataFrame(np.random.rand(10, 4), columns=list('ABCD'))\n",
    "print(df)\n",
    "print(df.loc[df['C'] > 0.8])"
   ]
  },
  {
   "cell_type": "markdown",
   "id": "e5c69c26",
   "metadata": {},
   "source": [
    "## 多个条件组合筛选DataFrame"
   ]
  },
  {
   "cell_type": "code",
   "execution_count": 107,
   "id": "09db4c93",
   "metadata": {},
   "outputs": [
    {
     "name": "stdout",
     "output_type": "stream",
     "text": [
      "          A         B         C         D\n",
      "0  0.321388  0.511416  0.503406  0.311064\n",
      "1  0.907981  0.274153  0.818676  0.552783\n",
      "6  0.909949  0.058232  0.788587  0.395684\n",
      "7  0.815126  0.566379  0.399533  0.698901\n"
     ]
    }
   ],
   "source": [
    "print(df[(df['C'] > 0.3) & (df['D'] < 0.7)])"
   ]
  },
  {
   "cell_type": "markdown",
   "id": "48f23cc1",
   "metadata": {},
   "source": [
    "## 使用for循环遍历DataFrame"
   ]
  },
  {
   "cell_type": "code",
   "execution_count": 109,
   "id": "f32591b2",
   "metadata": {},
   "outputs": [
    {
     "name": "stdout",
     "output_type": "stream",
     "text": [
      "A    0.321388\n",
      "B    0.511416\n",
      "C    0.503406\n",
      "D    0.311064\n",
      "Name: 0, dtype: float64\n",
      "A    0.907981\n",
      "B    0.274153\n",
      "C    0.818676\n",
      "D    0.552783\n",
      "Name: 1, dtype: float64\n",
      "A    0.647090\n",
      "B    0.702874\n",
      "C    0.411806\n",
      "D    0.898348\n",
      "Name: 2, dtype: float64\n"
     ]
    }
   ],
   "source": [
    "# for i, row in df.iterrows():\n",
    "for i, row in df.head(3).iterrows():\n",
    "    print(row)"
   ]
  },
  {
   "cell_type": "markdown",
   "id": "a67b6fe7",
   "metadata": {},
   "source": [
    "## 指定单元格设置DataFrame的值"
   ]
  },
  {
   "cell_type": "code",
   "execution_count": 110,
   "id": "c017a8c0",
   "metadata": {},
   "outputs": [
    {
     "name": "stdout",
     "output_type": "stream",
     "text": [
      "          A         B         C         D\n",
      "0  0.321388  0.511416  0.503406  0.311064\n",
      "1  0.907981  0.274153  0.818676  0.552783\n",
      "2  0.647090  0.702874  0.411806  0.898348\n",
      "3  0.064108       NaN  0.316883  0.703737\n",
      "4  0.770375  0.418004  0.089232  0.233519\n",
      "5  0.759519  0.469182  0.202954  0.696094\n",
      "6  0.909949  0.058232  0.788587  0.395684\n",
      "7  0.815126  0.566379  0.399533  0.698901\n",
      "8  0.586130  0.548261  0.000513       NaN\n",
      "9  0.554009  0.299057  0.216054  0.125615\n"
     ]
    }
   ],
   "source": [
    "df.iloc[3, 1] = np.nan\n",
    "df.loc[8, 'D'] = np.nan\n",
    "print(df)"
   ]
  },
  {
   "cell_type": "markdown",
   "id": "a63b64dc",
   "metadata": {},
   "source": [
    "## 移除DataFrame中包含空值的行"
   ]
  },
  {
   "cell_type": "code",
   "execution_count": 118,
   "id": "89f46a7f",
   "metadata": {},
   "outputs": [
    {
     "name": "stdout",
     "output_type": "stream",
     "text": [
      "          A         B         C         D\n",
      "0  0.321388  0.511416  0.503406  0.311064\n",
      "1  0.907981  0.274153  0.818676  0.552783\n",
      "2  0.647090  0.702874  0.411806  0.898348\n",
      "4  0.770375  0.418004  0.089232  0.233519\n",
      "5  0.759519  0.469182  0.202954  0.696094\n",
      "6  0.909949  0.058232  0.788587  0.395684\n",
      "7  0.815126  0.566379  0.399533  0.698901\n",
      "9  0.554009  0.299057  0.216054  0.125615\n"
     ]
    }
   ],
   "source": [
    "df2 = df.dropna()\n",
    "print(df2)"
   ]
  },
  {
   "cell_type": "markdown",
   "id": "3471fb5c",
   "metadata": {},
   "source": [
    "## 移除空行后重新设置index顺序"
   ]
  },
  {
   "cell_type": "code",
   "execution_count": 119,
   "id": "93fb4728",
   "metadata": {},
   "outputs": [
    {
     "name": "stdout",
     "output_type": "stream",
     "text": [
      "          A         B         C         D\n",
      "0  0.321388  0.511416  0.503406  0.311064\n",
      "1  0.907981  0.274153  0.818676  0.552783\n",
      "2  0.647090  0.702874  0.411806  0.898348\n",
      "3  0.770375  0.418004  0.089232  0.233519\n",
      "4  0.759519  0.469182  0.202954  0.696094\n",
      "5  0.909949  0.058232  0.788587  0.395684\n",
      "6  0.815126  0.566379  0.399533  0.698901\n",
      "7  0.554009  0.299057  0.216054  0.125615\n"
     ]
    }
   ],
   "source": [
    "# df2 = df2.reset_index()\n",
    "df2 = df2.reset_index(drop=True)\n",
    "print(df2)"
   ]
  },
  {
   "cell_type": "markdown",
   "id": "8bb87d80",
   "metadata": {},
   "source": [
    "## 填充缺失值"
   ]
  },
  {
   "cell_type": "code",
   "execution_count": 121,
   "id": "f90e1b16",
   "metadata": {},
   "outputs": [
    {
     "name": "stdout",
     "output_type": "stream",
     "text": [
      "          A         B         C         D\n",
      "0  0.321388  0.511416  0.503406  0.311064\n",
      "1  0.907981  0.274153  0.818676  0.552783\n",
      "2  0.647090  0.702874  0.411806  0.898348\n",
      "3  0.064108       NaN  0.316883  0.703737\n",
      "4  0.770375  0.418004  0.089232  0.233519\n",
      "5  0.759519  0.469182  0.202954  0.696094\n",
      "6  0.909949  0.058232  0.788587  0.395684\n",
      "7  0.815126  0.566379  0.399533  0.698901\n",
      "8  0.586130  0.548261  0.000513       NaN\n",
      "9  0.554009  0.299057  0.216054  0.125615\n"
     ]
    },
    {
     "data": {
      "text/html": [
       "<div>\n",
       "<style scoped>\n",
       "    .dataframe tbody tr th:only-of-type {\n",
       "        vertical-align: middle;\n",
       "    }\n",
       "\n",
       "    .dataframe tbody tr th {\n",
       "        vertical-align: top;\n",
       "    }\n",
       "\n",
       "    .dataframe thead th {\n",
       "        text-align: right;\n",
       "    }\n",
       "</style>\n",
       "<table border=\"1\" class=\"dataframe\">\n",
       "  <thead>\n",
       "    <tr style=\"text-align: right;\">\n",
       "      <th></th>\n",
       "      <th>A</th>\n",
       "      <th>B</th>\n",
       "      <th>C</th>\n",
       "      <th>D</th>\n",
       "    </tr>\n",
       "  </thead>\n",
       "  <tbody>\n",
       "    <tr>\n",
       "      <th>0</th>\n",
       "      <td>0.321388</td>\n",
       "      <td>0.511416</td>\n",
       "      <td>0.503406</td>\n",
       "      <td>0.311064</td>\n",
       "    </tr>\n",
       "    <tr>\n",
       "      <th>1</th>\n",
       "      <td>0.907981</td>\n",
       "      <td>0.274153</td>\n",
       "      <td>0.818676</td>\n",
       "      <td>0.552783</td>\n",
       "    </tr>\n",
       "    <tr>\n",
       "      <th>2</th>\n",
       "      <td>0.647090</td>\n",
       "      <td>0.702874</td>\n",
       "      <td>0.411806</td>\n",
       "      <td>0.898348</td>\n",
       "    </tr>\n",
       "    <tr>\n",
       "      <th>3</th>\n",
       "      <td>0.064108</td>\n",
       "      <td>0.000000</td>\n",
       "      <td>0.316883</td>\n",
       "      <td>0.703737</td>\n",
       "    </tr>\n",
       "    <tr>\n",
       "      <th>4</th>\n",
       "      <td>0.770375</td>\n",
       "      <td>0.418004</td>\n",
       "      <td>0.089232</td>\n",
       "      <td>0.233519</td>\n",
       "    </tr>\n",
       "    <tr>\n",
       "      <th>5</th>\n",
       "      <td>0.759519</td>\n",
       "      <td>0.469182</td>\n",
       "      <td>0.202954</td>\n",
       "      <td>0.696094</td>\n",
       "    </tr>\n",
       "    <tr>\n",
       "      <th>6</th>\n",
       "      <td>0.909949</td>\n",
       "      <td>0.058232</td>\n",
       "      <td>0.788587</td>\n",
       "      <td>0.395684</td>\n",
       "    </tr>\n",
       "    <tr>\n",
       "      <th>7</th>\n",
       "      <td>0.815126</td>\n",
       "      <td>0.566379</td>\n",
       "      <td>0.399533</td>\n",
       "      <td>0.698901</td>\n",
       "    </tr>\n",
       "    <tr>\n",
       "      <th>8</th>\n",
       "      <td>0.586130</td>\n",
       "      <td>0.548261</td>\n",
       "      <td>0.000513</td>\n",
       "      <td>0.000000</td>\n",
       "    </tr>\n",
       "    <tr>\n",
       "      <th>9</th>\n",
       "      <td>0.554009</td>\n",
       "      <td>0.299057</td>\n",
       "      <td>0.216054</td>\n",
       "      <td>0.125615</td>\n",
       "    </tr>\n",
       "  </tbody>\n",
       "</table>\n",
       "</div>"
      ],
      "text/plain": [
       "          A         B         C         D\n",
       "0  0.321388  0.511416  0.503406  0.311064\n",
       "1  0.907981  0.274153  0.818676  0.552783\n",
       "2  0.647090  0.702874  0.411806  0.898348\n",
       "3  0.064108  0.000000  0.316883  0.703737\n",
       "4  0.770375  0.418004  0.089232  0.233519\n",
       "5  0.759519  0.469182  0.202954  0.696094\n",
       "6  0.909949  0.058232  0.788587  0.395684\n",
       "7  0.815126  0.566379  0.399533  0.698901\n",
       "8  0.586130  0.548261  0.000513  0.000000\n",
       "9  0.554009  0.299057  0.216054  0.125615"
      ]
     },
     "execution_count": 121,
     "metadata": {},
     "output_type": "execute_result"
    }
   ],
   "source": [
    "print(df)\n",
    "df.fillna(0)"
   ]
  },
  {
   "cell_type": "markdown",
   "id": "51bbe30c",
   "metadata": {},
   "source": [
    "## 修改数据列的先后顺序"
   ]
  },
  {
   "cell_type": "code",
   "execution_count": 122,
   "id": "43aa2aba",
   "metadata": {},
   "outputs": [
    {
     "name": "stdout",
     "output_type": "stream",
     "text": [
      "          D         A         B         C\n",
      "0  0.311064  0.321388  0.511416  0.503406\n",
      "1  0.552783  0.907981  0.274153  0.818676\n",
      "2  0.898348  0.647090  0.702874  0.411806\n",
      "3  0.703737  0.064108       NaN  0.316883\n",
      "4  0.233519  0.770375  0.418004  0.089232\n",
      "5  0.696094  0.759519  0.469182  0.202954\n",
      "6  0.395684  0.909949  0.058232  0.788587\n",
      "7  0.698901  0.815126  0.566379  0.399533\n",
      "8       NaN  0.586130  0.548261  0.000513\n",
      "9  0.125615  0.554009  0.299057  0.216054\n"
     ]
    }
   ],
   "source": [
    "df = df[['D', 'A', 'B', 'C']]\n",
    "print(df)"
   ]
  },
  {
   "cell_type": "markdown",
   "id": "50be2179",
   "metadata": {},
   "source": [
    "## 删除指定的数据列"
   ]
  },
  {
   "cell_type": "code",
   "execution_count": 127,
   "id": "4a909d01",
   "metadata": {},
   "outputs": [
    {
     "name": "stdout",
     "output_type": "stream",
     "text": [
      "          A         B         C\n",
      "0  0.321388  0.511416  0.503406\n",
      "1  0.907981  0.274153  0.818676\n",
      "2  0.647090  0.702874  0.411806\n",
      "3  0.064108       NaN  0.316883\n",
      "4  0.770375  0.418004  0.089232\n",
      "5  0.759519  0.469182  0.202954\n",
      "6  0.909949  0.058232  0.788587\n",
      "7  0.815126  0.566379  0.399533\n",
      "8  0.586130  0.548261  0.000513\n",
      "9  0.554009  0.299057  0.216054\n",
      "          A         B\n",
      "0  0.321388  0.511416\n",
      "1  0.907981  0.274153\n",
      "2  0.647090  0.702874\n",
      "3  0.064108       NaN\n",
      "4  0.770375  0.418004\n",
      "5  0.759519  0.469182\n",
      "6  0.909949  0.058232\n",
      "7  0.815126  0.566379\n",
      "8  0.586130  0.548261\n",
      "9  0.554009  0.299057\n"
     ]
    }
   ],
   "source": [
    "print(df.drop('D', axis=1))\n",
    "print(df.drop(['C', 'D'], axis=1))"
   ]
  },
  {
   "cell_type": "code",
   "execution_count": null,
   "id": "1c98f779",
   "metadata": {},
   "outputs": [],
   "source": []
  }
 ],
 "metadata": {
  "kernelspec": {
   "display_name": "Python 3",
   "language": "python",
   "name": "python3"
  },
  "language_info": {
   "codemirror_mode": {
    "name": "ipython",
    "version": 3
   },
   "file_extension": ".py",
   "mimetype": "text/x-python",
   "name": "python",
   "nbconvert_exporter": "python",
   "pygments_lexer": "ipython3",
   "version": "3.7.6"
  }
 },
 "nbformat": 4,
 "nbformat_minor": 5
}
