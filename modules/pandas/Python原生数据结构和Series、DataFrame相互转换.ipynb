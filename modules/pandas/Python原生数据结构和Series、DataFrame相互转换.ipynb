{
 "cells": [
  {
   "cell_type": "code",
   "execution_count": 2,
   "id": "42781073",
   "metadata": {},
   "outputs": [],
   "source": [
    "import pandas as pd"
   ]
  },
  {
   "cell_type": "markdown",
   "id": "79e69d44",
   "metadata": {},
   "source": [
    "### List转换为Series"
   ]
  },
  {
   "cell_type": "code",
   "execution_count": 5,
   "id": "2ad55fb5",
   "metadata": {},
   "outputs": [
    {
     "data": {
      "text/plain": [
       "0     语文\n",
       "1     数学\n",
       "2     英语\n",
       "3    计算机\n",
       "dtype: object"
      ]
     },
     "execution_count": 5,
     "metadata": {},
     "output_type": "execute_result"
    }
   ],
   "source": [
    "courses = ['语文', '数学', '英语', '计算机']\n",
    "data = pd.Series(data=courses)\n",
    "data"
   ]
  },
  {
   "cell_type": "markdown",
   "id": "3cede78e",
   "metadata": {},
   "source": [
    "### Dict转换为Series"
   ]
  },
  {
   "cell_type": "code",
   "execution_count": 7,
   "id": "32bf0446",
   "metadata": {},
   "outputs": [
    {
     "data": {
      "text/plain": [
       "语文     80\n",
       "数学     90\n",
       "英语     95\n",
       "计算机    82\n",
       "dtype: int64"
      ]
     },
     "execution_count": 7,
     "metadata": {},
     "output_type": "execute_result"
    }
   ],
   "source": [
    "grades = {'语文': 80, '数学': 90, '英语': 95, '计算机': 82}\n",
    "data = pd.Series(data=grades)\n",
    "data"
   ]
  },
  {
   "cell_type": "markdown",
   "id": "35d87b9f",
   "metadata": {},
   "source": [
    "### 用Numpy创建Series"
   ]
  },
  {
   "cell_type": "code",
   "execution_count": 9,
   "id": "f85dcfe2",
   "metadata": {},
   "outputs": [
    {
     "data": {
      "text/plain": [
       "101    10.0\n",
       "102    20.0\n",
       "103    30.0\n",
       "104    40.0\n",
       "105    50.0\n",
       "106    60.0\n",
       "107    70.0\n",
       "108    80.0\n",
       "109    90.0\n",
       "dtype: float64"
      ]
     },
     "execution_count": 9,
     "metadata": {},
     "output_type": "execute_result"
    }
   ],
   "source": [
    "import numpy as np\n",
    "s = pd.Series(\n",
    "    np.arange(10, 100, 10),\n",
    "    index=np.arange(101, 110),\n",
    "    dtype='float'\n",
    ")\n",
    "s"
   ]
  },
  {
   "cell_type": "markdown",
   "id": "5b334aaa",
   "metadata": {},
   "source": [
    "### 转换Series的数据类型"
   ]
  },
  {
   "cell_type": "code",
   "execution_count": 17,
   "id": "286f0040",
   "metadata": {},
   "outputs": [
    {
     "data": {
      "text/plain": [
       "a    1\n",
       "b    2\n",
       "c    3\n",
       "d    4\n",
       "dtype: int64"
      ]
     },
     "execution_count": 17,
     "metadata": {},
     "output_type": "execute_result"
    }
   ],
   "source": [
    "s = pd.Series(\n",
    "    data=['001', '002', '003', '004'],\n",
    "    index=list('abcd')\n",
    ")\n",
    "# s = s.astype(int)\n",
    "s = s.map(int)\n",
    "s"
   ]
  },
  {
   "cell_type": "markdown",
   "id": "269f31c6",
   "metadata": {},
   "source": [
    "### 给Series添加元素"
   ]
  },
  {
   "cell_type": "code",
   "execution_count": 18,
   "id": "e7892c64",
   "metadata": {},
   "outputs": [
    {
     "data": {
      "text/plain": [
       "语文     80\n",
       "数学     90\n",
       "英语     95\n",
       "计算机    82\n",
       "物理     99\n",
       "化学     78\n",
       "dtype: int64"
      ]
     },
     "execution_count": 18,
     "metadata": {},
     "output_type": "execute_result"
    }
   ],
   "source": [
    "data = data.append(\n",
    "    pd.Series({\n",
    "    '物理': 99,\n",
    "    '化学': 78\n",
    "}))\n",
    "data"
   ]
  },
  {
   "cell_type": "markdown",
   "id": "7521b15a",
   "metadata": {},
   "source": [
    "### Series的值转换为List"
   ]
  },
  {
   "cell_type": "code",
   "execution_count": 19,
   "id": "d6460512",
   "metadata": {},
   "outputs": [
    {
     "data": {
      "text/plain": [
       "[80, 90, 95, 82, 99, 78]"
      ]
     },
     "execution_count": 19,
     "metadata": {},
     "output_type": "execute_result"
    }
   ],
   "source": [
    "numbers = data.tolist()\n",
    "numbers"
   ]
  },
  {
   "cell_type": "markdown",
   "id": "4c349858",
   "metadata": {},
   "source": [
    "### 将Series转换为DataFrame"
   ]
  },
  {
   "cell_type": "code",
   "execution_count": 24,
   "id": "af352c76",
   "metadata": {},
   "outputs": [
    {
     "data": {
      "text/html": [
       "<div>\n",
       "<style scoped>\n",
       "    .dataframe tbody tr th:only-of-type {\n",
       "        vertical-align: middle;\n",
       "    }\n",
       "\n",
       "    .dataframe tbody tr th {\n",
       "        vertical-align: top;\n",
       "    }\n",
       "\n",
       "    .dataframe thead th {\n",
       "        text-align: right;\n",
       "    }\n",
       "</style>\n",
       "<table border=\"1\" class=\"dataframe\">\n",
       "  <thead>\n",
       "    <tr style=\"text-align: right;\">\n",
       "      <th></th>\n",
       "      <th>course</th>\n",
       "      <th>grade</th>\n",
       "    </tr>\n",
       "  </thead>\n",
       "  <tbody>\n",
       "    <tr>\n",
       "      <th>0</th>\n",
       "      <td>语文</td>\n",
       "      <td>80</td>\n",
       "    </tr>\n",
       "    <tr>\n",
       "      <th>1</th>\n",
       "      <td>数学</td>\n",
       "      <td>90</td>\n",
       "    </tr>\n",
       "    <tr>\n",
       "      <th>2</th>\n",
       "      <td>英语</td>\n",
       "      <td>95</td>\n",
       "    </tr>\n",
       "    <tr>\n",
       "      <th>3</th>\n",
       "      <td>计算机</td>\n",
       "      <td>82</td>\n",
       "    </tr>\n",
       "    <tr>\n",
       "      <th>4</th>\n",
       "      <td>物理</td>\n",
       "      <td>99</td>\n",
       "    </tr>\n",
       "    <tr>\n",
       "      <th>5</th>\n",
       "      <td>化学</td>\n",
       "      <td>78</td>\n",
       "    </tr>\n",
       "  </tbody>\n",
       "</table>\n",
       "</div>"
      ],
      "text/plain": [
       "  course  grade\n",
       "0     语文     80\n",
       "1     数学     90\n",
       "2     英语     95\n",
       "3    计算机     82\n",
       "4     物理     99\n",
       "5     化学     78"
      ]
     },
     "execution_count": 24,
     "metadata": {},
     "output_type": "execute_result"
    }
   ],
   "source": [
    "df = pd.DataFrame(data, columns=['grade'])\n",
    "# print(df)\n",
    "# 用reset index将Series转换为DataFrame\n",
    "df = data.reset_index()  # 将作为index的科目名称也变成一列\n",
    "df.columns = ['course', 'grade']\n",
    "df"
   ]
  },
  {
   "cell_type": "markdown",
   "id": "00ea4929",
   "metadata": {},
   "source": [
    "### 使用字典创建DataFrame"
   ]
  },
  {
   "cell_type": "code",
   "execution_count": 3,
   "id": "ad8248a0",
   "metadata": {},
   "outputs": [
    {
     "data": {
      "text/html": [
       "<div>\n",
       "<style scoped>\n",
       "    .dataframe tbody tr th:only-of-type {\n",
       "        vertical-align: middle;\n",
       "    }\n",
       "\n",
       "    .dataframe tbody tr th {\n",
       "        vertical-align: top;\n",
       "    }\n",
       "\n",
       "    .dataframe thead th {\n",
       "        text-align: right;\n",
       "    }\n",
       "</style>\n",
       "<table border=\"1\" class=\"dataframe\">\n",
       "  <thead>\n",
       "    <tr style=\"text-align: right;\">\n",
       "      <th></th>\n",
       "      <th>姓名</th>\n",
       "      <th>性别</th>\n",
       "      <th>年龄</th>\n",
       "    </tr>\n",
       "  </thead>\n",
       "  <tbody>\n",
       "    <tr>\n",
       "      <th>0</th>\n",
       "      <td>Tom</td>\n",
       "      <td>男</td>\n",
       "      <td>19</td>\n",
       "    </tr>\n",
       "    <tr>\n",
       "      <th>1</th>\n",
       "      <td>Jack</td>\n",
       "      <td>男</td>\n",
       "      <td>20</td>\n",
       "    </tr>\n",
       "    <tr>\n",
       "      <th>2</th>\n",
       "      <td>Lucy</td>\n",
       "      <td>女</td>\n",
       "      <td>18</td>\n",
       "    </tr>\n",
       "  </tbody>\n",
       "</table>\n",
       "</div>"
      ],
      "text/plain": [
       "     姓名 性别  年龄\n",
       "0   Tom  男  19\n",
       "1  Jack  男  20\n",
       "2  Lucy  女  18"
      ]
     },
     "execution_count": 3,
     "metadata": {},
     "output_type": "execute_result"
    }
   ],
   "source": [
    "df = pd.DataFrame(\n",
    "    {\n",
    "        '姓名': ['Tom', 'Jack', 'Lucy'],\n",
    "        '性别': ['男', '男', '女'],\n",
    "        '年龄': [19, 20, 18]\n",
    "    }\n",
    ")\n",
    "df"
   ]
  },
  {
   "cell_type": "markdown",
   "id": "10b3c65a",
   "metadata": {},
   "source": [
    "### 设置DataFrame的索引列"
   ]
  },
  {
   "cell_type": "code",
   "execution_count": 3,
   "id": "4ee04f3c",
   "metadata": {},
   "outputs": [
    {
     "data": {
      "text/plain": "     性别  年龄\n姓名         \nTom   男  19\nJack  男  20\nLucy  女  18",
      "text/html": "<div>\n<style scoped>\n    .dataframe tbody tr th:only-of-type {\n        vertical-align: middle;\n    }\n\n    .dataframe tbody tr th {\n        vertical-align: top;\n    }\n\n    .dataframe thead th {\n        text-align: right;\n    }\n</style>\n<table border=\"1\" class=\"dataframe\">\n  <thead>\n    <tr style=\"text-align: right;\">\n      <th></th>\n      <th>性别</th>\n      <th>年龄</th>\n    </tr>\n    <tr>\n      <th>姓名</th>\n      <th></th>\n      <th></th>\n    </tr>\n  </thead>\n  <tbody>\n    <tr>\n      <th>Tom</th>\n      <td>男</td>\n      <td>19</td>\n    </tr>\n    <tr>\n      <th>Jack</th>\n      <td>男</td>\n      <td>20</td>\n    </tr>\n    <tr>\n      <th>Lucy</th>\n      <td>女</td>\n      <td>18</td>\n    </tr>\n  </tbody>\n</table>\n</div>"
     },
     "execution_count": 3,
     "metadata": {},
     "output_type": "execute_result"
    }
   ],
   "source": [
    "data = {\n",
    "    '姓名': ['Tom', 'Jack', 'Lucy'],\n",
    "    '性别': ['男', '男', '女'],\n",
    "    '年龄': [19, 20, 18]\n",
    "}\n",
    "df = pd.DataFrame(data)\n",
    "df.set_index('姓名', inplace=True)\n",
    "df"
   ]
  },
  {
   "cell_type": "markdown",
   "id": "033560de",
   "metadata": {},
   "source": [
    "### 将索引列改为普通数据列"
   ]
  },
  {
   "cell_type": "code",
   "execution_count": 4,
   "id": "fd155843",
   "metadata": {},
   "outputs": [
    {
     "data": {
      "text/plain": "     姓名 性别  年龄\n0   Tom  男  19\n1  Jack  男  20\n2  Lucy  女  18",
      "text/html": "<div>\n<style scoped>\n    .dataframe tbody tr th:only-of-type {\n        vertical-align: middle;\n    }\n\n    .dataframe tbody tr th {\n        vertical-align: top;\n    }\n\n    .dataframe thead th {\n        text-align: right;\n    }\n</style>\n<table border=\"1\" class=\"dataframe\">\n  <thead>\n    <tr style=\"text-align: right;\">\n      <th></th>\n      <th>姓名</th>\n      <th>性别</th>\n      <th>年龄</th>\n    </tr>\n  </thead>\n  <tbody>\n    <tr>\n      <th>0</th>\n      <td>Tom</td>\n      <td>男</td>\n      <td>19</td>\n    </tr>\n    <tr>\n      <th>1</th>\n      <td>Jack</td>\n      <td>男</td>\n      <td>20</td>\n    </tr>\n    <tr>\n      <th>2</th>\n      <td>Lucy</td>\n      <td>女</td>\n      <td>18</td>\n    </tr>\n  </tbody>\n</table>\n</div>"
     },
     "execution_count": 4,
     "metadata": {},
     "output_type": "execute_result"
    }
   ],
   "source": [
    "df.reset_index(inplace=True)\n",
    "df"
   ]
  },
  {
   "cell_type": "markdown",
   "source": [
    "### 将DataFrame转换为dict\n",
    "我们可以通过参数 list、records、series、index、split 和 dict 来改变最终字典的格式。"
   ],
   "metadata": {
    "collapsed": false,
    "pycharm": {
     "name": "#%% md\n"
    }
   }
  },
  {
   "cell_type": "code",
   "execution_count": 41,
   "outputs": [
    {
     "name": "stdout",
     "output_type": "stream",
     "text": [
      "{'姓名': {0: 'Tom', 1: 'Jack', 2: 'Lucy'}, '性别': {0: '男', 1: '男', 2: '女'}, '年龄': {0: 19, 1: 20, 2: 18}}\n",
      "{'姓名': ['Tom', 'Jack', 'Lucy'], '性别': ['男', '男', '女'], '年龄': [19, 20, 18]}\n",
      "[{'姓名': 'Tom', '性别': '男', '年龄': 19}, {'姓名': 'Jack', '性别': '男', '年龄': 20}, {'姓名': 'Lucy', '性别': '女', '年龄': 18}]\n",
      "{0: {'姓名': 'Tom', '性别': '男', '年龄': 19}, 1: {'姓名': 'Jack', '性别': '男', '年龄': 20}, 2: {'姓名': 'Lucy', '性别': '女', '年龄': 18}}\n",
      "{'index': [0, 1, 2], 'columns': ['姓名', '性别', '年龄'], 'data': [['Tom', '男', 19], ['Jack', '男', 20], ['Lucy', '女', 18]]}\n"
     ]
    }
   ],
   "source": [
    "print(df.to_dict())  # 等价于to_dict('dict')\n",
    "print(df.to_dict('list'))\n",
    "print(df.to_dict('records'))\n",
    "print(df.to_dict('index'))\n",
    "print(df.to_dict('split'))"
   ],
   "metadata": {
    "collapsed": false,
    "pycharm": {
     "name": "#%%\n"
    }
   }
  },
  {
   "cell_type": "markdown",
   "source": [
    "### 转换为dict，以某列做key"
   ],
   "metadata": {
    "collapsed": false,
    "pycharm": {
     "name": "#%% md\n"
    }
   }
  },
  {
   "cell_type": "code",
   "execution_count": 45,
   "outputs": [
    {
     "name": "stdout",
     "output_type": "stream",
     "text": [
      "{'Tom': {'姓名': 'Tom', '性别': '男', '年龄': 19}, 'Jack': {'姓名': 'Jack', '性别': '男', '年龄': 20}, 'Lucy': {'姓名': 'Lucy', '性别': '女', '年龄': 18}}\n"
     ]
    }
   ],
   "source": [
    "# print(df.set_index('姓名').T.to_dict('list'))\n",
    "# print(df.set_index('姓名').to_dict('index'))\n",
    "print({k: v for k, v in zip(df['姓名'], df.to_dict('records'))})"
   ],
   "metadata": {
    "collapsed": false,
    "pycharm": {
     "name": "#%%\n"
    }
   }
  },
  {
   "cell_type": "markdown",
   "id": "a56d9a24",
   "metadata": {},
   "source": [
    "### 将两列转换为dict"
   ]
  },
  {
   "cell_type": "code",
   "execution_count": 5,
   "id": "02ed4203",
   "metadata": {},
   "outputs": [
    {
     "data": {
      "text/plain": [
       "{'Tom': 19, 'Jack': 20, 'Lucy': 18}"
      ]
     },
     "execution_count": 5,
     "metadata": {},
     "output_type": "execute_result"
    }
   ],
   "source": [
    "df.set_index('姓名')['年龄'].to_dict()\n",
    "# dict(zip(df['姓名'],df['年龄']))"
   ]
  },
  {
   "cell_type": "markdown",
   "id": "e9472b10",
   "metadata": {},
   "source": [
    "### 将单列转换为list"
   ]
  },
  {
   "cell_type": "code",
   "execution_count": 18,
   "id": "d05731fb",
   "metadata": {},
   "outputs": [
    {
     "data": {
      "text/plain": [
       "[78, 88, 98]"
      ]
     },
     "execution_count": 18,
     "metadata": {},
     "output_type": "execute_result"
    }
   ],
   "source": [
    "# df['性别'].values.tolist()\n",
    "# df['性别'].tolist()\n",
    "# df['性别'].drop_duplicates().tolist()  # 去除重复元素\n",
    "\n",
    "df['score'] = [78, 88, 98]  # 添加一列\n",
    "df.score.tolist()  # 如果列名是英文，还可以直接用.访问"
   ]
  },
  {
   "cell_type": "markdown",
   "id": "27f19e8c",
   "metadata": {},
   "source": [
    "### 将多列转换为list"
   ]
  },
  {
   "cell_type": "code",
   "execution_count": 19,
   "id": "200ba516",
   "metadata": {},
   "outputs": [
    {
     "data": {
      "text/plain": [
       "[['Tom', 'Jack', 'Lucy'], ['男', '男', '女']]"
      ]
     },
     "execution_count": 19,
     "metadata": {},
     "output_type": "execute_result"
    }
   ],
   "source": [
    "[df[col].tolist() for col in ['姓名',  '性别']]"
   ]
  },
  {
   "cell_type": "markdown",
   "id": "b31272b9",
   "metadata": {},
   "source": [
    "### 将单行转换为list"
   ]
  },
  {
   "cell_type": "code",
   "execution_count": 20,
   "id": "628d8e7a",
   "metadata": {},
   "outputs": [
    {
     "data": {
      "text/plain": [
       "['Tom', '男', 19, 78]"
      ]
     },
     "execution_count": 20,
     "metadata": {},
     "output_type": "execute_result"
    }
   ],
   "source": [
    "df.iloc[0].tolist()"
   ]
  },
  {
   "cell_type": "markdown",
   "id": "855650a6",
   "metadata": {},
   "source": [
    "### 将多行转换为list"
   ]
  },
  {
   "cell_type": "code",
   "execution_count": 21,
   "id": "d4e21632",
   "metadata": {},
   "outputs": [
    {
     "data": {
      "text/plain": [
       "[['Tom', '男'], ['Jack', '男'], ['Lucy', '女']]"
      ]
     },
     "execution_count": 21,
     "metadata": {},
     "output_type": "execute_result"
    }
   ],
   "source": [
    "# df.values.tolist()\n",
    "df[['姓名', '性别']].values.tolist()  # 指定列"
   ]
  },
  {
   "cell_type": "code",
   "execution_count": null,
   "id": "096ef083-05dc-4dbe-8bb3-dc36d154423b",
   "metadata": {},
   "outputs": [],
   "source": []
  }
 ],
 "metadata": {
  "kernelspec": {
   "display_name": "Python 3 (ipykernel)",
   "language": "python",
   "name": "python3"
  },
  "language_info": {
   "codemirror_mode": {
    "name": "ipython",
    "version": 3
   },
   "file_extension": ".py",
   "mimetype": "text/x-python",
   "name": "python",
   "nbconvert_exporter": "python",
   "pygments_lexer": "ipython3",
   "version": "3.8.13"
  },
  "toc": {
   "base_numbering": 1,
   "nav_menu": {},
   "number_sections": true,
   "sideBar": true,
   "skip_h1_title": false,
   "title_cell": "Table of Contents",
   "title_sidebar": "Contents",
   "toc_cell": false,
   "toc_position": {},
   "toc_section_display": true,
   "toc_window_display": true
  }
 },
 "nbformat": 4,
 "nbformat_minor": 5
}