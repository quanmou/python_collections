{
 "cells": [
  {
   "cell_type": "code",
   "execution_count": 1,
   "id": "42781073",
   "metadata": {},
   "outputs": [],
   "source": [
    "import pandas as pd"
   ]
  },
  {
   "cell_type": "markdown",
   "id": "79e69d44",
   "metadata": {},
   "source": [
    "### List转换为Series"
   ]
  },
  {
   "cell_type": "code",
   "execution_count": 5,
   "id": "2ad55fb5",
   "metadata": {},
   "outputs": [
    {
     "data": {
      "text/plain": [
       "0     语文\n",
       "1     数学\n",
       "2     英语\n",
       "3    计算机\n",
       "dtype: object"
      ]
     },
     "execution_count": 5,
     "metadata": {},
     "output_type": "execute_result"
    }
   ],
   "source": [
    "courses = ['语文', '数学', '英语', '计算机']\n",
    "data = pd.Series(data=courses)\n",
    "data"
   ]
  },
  {
   "cell_type": "markdown",
   "id": "3cede78e",
   "metadata": {},
   "source": [
    "### Dict转换为Series"
   ]
  },
  {
   "cell_type": "code",
   "execution_count": 7,
   "id": "32bf0446",
   "metadata": {},
   "outputs": [
    {
     "data": {
      "text/plain": [
       "语文     80\n",
       "数学     90\n",
       "英语     95\n",
       "计算机    82\n",
       "dtype: int64"
      ]
     },
     "execution_count": 7,
     "metadata": {},
     "output_type": "execute_result"
    }
   ],
   "source": [
    "grades = {'语文': 80, '数学': 90, '英语': 95, '计算机': 82}\n",
    "data = pd.Series(data=grades)\n",
    "data"
   ]
  },
  {
   "cell_type": "markdown",
   "id": "35d87b9f",
   "metadata": {},
   "source": [
    "### 用Numpy创建Series"
   ]
  },
  {
   "cell_type": "code",
   "execution_count": 9,
   "id": "f85dcfe2",
   "metadata": {},
   "outputs": [
    {
     "data": {
      "text/plain": [
       "101    10.0\n",
       "102    20.0\n",
       "103    30.0\n",
       "104    40.0\n",
       "105    50.0\n",
       "106    60.0\n",
       "107    70.0\n",
       "108    80.0\n",
       "109    90.0\n",
       "dtype: float64"
      ]
     },
     "execution_count": 9,
     "metadata": {},
     "output_type": "execute_result"
    }
   ],
   "source": [
    "import numpy as np\n",
    "s = pd.Series(\n",
    "    np.arange(10, 100, 10),\n",
    "    index=np.arange(101, 110),\n",
    "    dtype='float'\n",
    ")\n",
    "s"
   ]
  },
  {
   "cell_type": "markdown",
   "id": "5b334aaa",
   "metadata": {},
   "source": [
    "### 转换Series的数据类型"
   ]
  },
  {
   "cell_type": "code",
   "execution_count": 17,
   "id": "286f0040",
   "metadata": {},
   "outputs": [
    {
     "data": {
      "text/plain": [
       "a    1\n",
       "b    2\n",
       "c    3\n",
       "d    4\n",
       "dtype: int64"
      ]
     },
     "execution_count": 17,
     "metadata": {},
     "output_type": "execute_result"
    }
   ],
   "source": [
    "s = pd.Series(\n",
    "    data=['001', '002', '003', '004'],\n",
    "    index=list('abcd')\n",
    ")\n",
    "# s = s.astype(int)\n",
    "s = s.map(int)\n",
    "s"
   ]
  },
  {
   "cell_type": "markdown",
   "id": "269f31c6",
   "metadata": {},
   "source": [
    "### 给Series添加元素"
   ]
  },
  {
   "cell_type": "code",
   "execution_count": 18,
   "id": "e7892c64",
   "metadata": {},
   "outputs": [
    {
     "data": {
      "text/plain": [
       "语文     80\n",
       "数学     90\n",
       "英语     95\n",
       "计算机    82\n",
       "物理     99\n",
       "化学     78\n",
       "dtype: int64"
      ]
     },
     "execution_count": 18,
     "metadata": {},
     "output_type": "execute_result"
    }
   ],
   "source": [
    "data = data.append(\n",
    "    pd.Series({\n",
    "    '物理': 99,\n",
    "    '化学': 78\n",
    "}))\n",
    "data"
   ]
  },
  {
   "cell_type": "markdown",
   "id": "7521b15a",
   "metadata": {},
   "source": [
    "### Series的值转换为List"
   ]
  },
  {
   "cell_type": "code",
   "execution_count": 19,
   "id": "d6460512",
   "metadata": {},
   "outputs": [
    {
     "data": {
      "text/plain": [
       "[80, 90, 95, 82, 99, 78]"
      ]
     },
     "execution_count": 19,
     "metadata": {},
     "output_type": "execute_result"
    }
   ],
   "source": [
    "numbers = data.tolist()\n",
    "numbers"
   ]
  },
  {
   "cell_type": "markdown",
   "id": "4c349858",
   "metadata": {},
   "source": [
    "### 将Series转换为DataFrame"
   ]
  },
  {
   "cell_type": "code",
   "execution_count": 24,
   "id": "af352c76",
   "metadata": {},
   "outputs": [
    {
     "data": {
      "text/html": [
       "<div>\n",
       "<style scoped>\n",
       "    .dataframe tbody tr th:only-of-type {\n",
       "        vertical-align: middle;\n",
       "    }\n",
       "\n",
       "    .dataframe tbody tr th {\n",
       "        vertical-align: top;\n",
       "    }\n",
       "\n",
       "    .dataframe thead th {\n",
       "        text-align: right;\n",
       "    }\n",
       "</style>\n",
       "<table border=\"1\" class=\"dataframe\">\n",
       "  <thead>\n",
       "    <tr style=\"text-align: right;\">\n",
       "      <th></th>\n",
       "      <th>course</th>\n",
       "      <th>grade</th>\n",
       "    </tr>\n",
       "  </thead>\n",
       "  <tbody>\n",
       "    <tr>\n",
       "      <th>0</th>\n",
       "      <td>语文</td>\n",
       "      <td>80</td>\n",
       "    </tr>\n",
       "    <tr>\n",
       "      <th>1</th>\n",
       "      <td>数学</td>\n",
       "      <td>90</td>\n",
       "    </tr>\n",
       "    <tr>\n",
       "      <th>2</th>\n",
       "      <td>英语</td>\n",
       "      <td>95</td>\n",
       "    </tr>\n",
       "    <tr>\n",
       "      <th>3</th>\n",
       "      <td>计算机</td>\n",
       "      <td>82</td>\n",
       "    </tr>\n",
       "    <tr>\n",
       "      <th>4</th>\n",
       "      <td>物理</td>\n",
       "      <td>99</td>\n",
       "    </tr>\n",
       "    <tr>\n",
       "      <th>5</th>\n",
       "      <td>化学</td>\n",
       "      <td>78</td>\n",
       "    </tr>\n",
       "  </tbody>\n",
       "</table>\n",
       "</div>"
      ],
      "text/plain": [
       "  course  grade\n",
       "0     语文     80\n",
       "1     数学     90\n",
       "2     英语     95\n",
       "3    计算机     82\n",
       "4     物理     99\n",
       "5     化学     78"
      ]
     },
     "execution_count": 24,
     "metadata": {},
     "output_type": "execute_result"
    }
   ],
   "source": [
    "df = pd.DataFrame(data, columns=['grade'])\n",
    "# print(df)\n",
    "# 用reset index将Series转换为DataFrame\n",
    "df = data.reset_index()  # 将作为index的科目名称也变成一列\n",
    "df.columns = ['course', 'grade']\n",
    "df"
   ]
  },
  {
   "cell_type": "markdown",
   "id": "00ea4929",
   "metadata": {},
   "source": [
    "### 使用字典创建DataFrame"
   ]
  },
  {
   "cell_type": "code",
   "execution_count": 25,
   "id": "ad8248a0",
   "metadata": {},
   "outputs": [
    {
     "data": {
      "text/html": [
       "<div>\n",
       "<style scoped>\n",
       "    .dataframe tbody tr th:only-of-type {\n",
       "        vertical-align: middle;\n",
       "    }\n",
       "\n",
       "    .dataframe tbody tr th {\n",
       "        vertical-align: top;\n",
       "    }\n",
       "\n",
       "    .dataframe thead th {\n",
       "        text-align: right;\n",
       "    }\n",
       "</style>\n",
       "<table border=\"1\" class=\"dataframe\">\n",
       "  <thead>\n",
       "    <tr style=\"text-align: right;\">\n",
       "      <th></th>\n",
       "      <th>姓名</th>\n",
       "      <th>性别</th>\n",
       "      <th>年龄</th>\n",
       "    </tr>\n",
       "  </thead>\n",
       "  <tbody>\n",
       "    <tr>\n",
       "      <th>0</th>\n",
       "      <td>Tom</td>\n",
       "      <td>男</td>\n",
       "      <td>19</td>\n",
       "    </tr>\n",
       "    <tr>\n",
       "      <th>1</th>\n",
       "      <td>Jack</td>\n",
       "      <td>男</td>\n",
       "      <td>20</td>\n",
       "    </tr>\n",
       "    <tr>\n",
       "      <th>2</th>\n",
       "      <td>Lucy</td>\n",
       "      <td>女</td>\n",
       "      <td>18</td>\n",
       "    </tr>\n",
       "  </tbody>\n",
       "</table>\n",
       "</div>"
      ],
      "text/plain": [
       "     姓名 性别  年龄\n",
       "0   Tom  男  19\n",
       "1  Jack  男  20\n",
       "2  Lucy  女  18"
      ]
     },
     "execution_count": 25,
     "metadata": {},
     "output_type": "execute_result"
    }
   ],
   "source": [
    "df = pd.DataFrame(\n",
    "    {\n",
    "        '姓名': ['Tom', 'Jack', 'Lucy'],\n",
    "        '性别': ['男', '男', '女'],\n",
    "        '年龄': [19, 20, 18]\n",
    "    }\n",
    ")\n",
    "df"
   ]
  },
  {
   "cell_type": "markdown",
   "id": "10b3c65a",
   "metadata": {},
   "source": [
    "### 设置DataFrame的索引列"
   ]
  },
  {
   "cell_type": "code",
   "execution_count": 29,
   "id": "4ee04f3c",
   "metadata": {},
   "outputs": [
    {
     "data": {
      "text/html": [
       "<div>\n",
       "<style scoped>\n",
       "    .dataframe tbody tr th:only-of-type {\n",
       "        vertical-align: middle;\n",
       "    }\n",
       "\n",
       "    .dataframe tbody tr th {\n",
       "        vertical-align: top;\n",
       "    }\n",
       "\n",
       "    .dataframe thead th {\n",
       "        text-align: right;\n",
       "    }\n",
       "</style>\n",
       "<table border=\"1\" class=\"dataframe\">\n",
       "  <thead>\n",
       "    <tr style=\"text-align: right;\">\n",
       "      <th></th>\n",
       "      <th>性别</th>\n",
       "      <th>年龄</th>\n",
       "    </tr>\n",
       "    <tr>\n",
       "      <th>姓名</th>\n",
       "      <th></th>\n",
       "      <th></th>\n",
       "    </tr>\n",
       "  </thead>\n",
       "  <tbody>\n",
       "    <tr>\n",
       "      <th>Tom</th>\n",
       "      <td>男</td>\n",
       "      <td>19</td>\n",
       "    </tr>\n",
       "    <tr>\n",
       "      <th>Jack</th>\n",
       "      <td>男</td>\n",
       "      <td>20</td>\n",
       "    </tr>\n",
       "    <tr>\n",
       "      <th>Lucy</th>\n",
       "      <td>女</td>\n",
       "      <td>18</td>\n",
       "    </tr>\n",
       "  </tbody>\n",
       "</table>\n",
       "</div>"
      ],
      "text/plain": [
       "     性别  年龄\n",
       "姓名         \n",
       "Tom   男  19\n",
       "Jack  男  20\n",
       "Lucy  女  18"
      ]
     },
     "execution_count": 29,
     "metadata": {},
     "output_type": "execute_result"
    }
   ],
   "source": [
    "data = {\n",
    "    '姓名': ['Tom', 'Jack', 'Lucy'],\n",
    "    '性别': ['男', '男', '女'],\n",
    "    '年龄': [19, 20, 18]\n",
    "}\n",
    "df = pd.DataFrame(data)\n",
    "df.set_index('姓名', inplace=True)\n",
    "df"
   ]
  },
  {
   "cell_type": "markdown",
   "id": "033560de",
   "metadata": {},
   "source": [
    "### 将索引列改为普通数据列"
   ]
  },
  {
   "cell_type": "code",
   "execution_count": 31,
   "id": "fd155843",
   "metadata": {},
   "outputs": [
    {
     "data": {
      "text/html": [
       "<div>\n",
       "<style scoped>\n",
       "    .dataframe tbody tr th:only-of-type {\n",
       "        vertical-align: middle;\n",
       "    }\n",
       "\n",
       "    .dataframe tbody tr th {\n",
       "        vertical-align: top;\n",
       "    }\n",
       "\n",
       "    .dataframe thead th {\n",
       "        text-align: right;\n",
       "    }\n",
       "</style>\n",
       "<table border=\"1\" class=\"dataframe\">\n",
       "  <thead>\n",
       "    <tr style=\"text-align: right;\">\n",
       "      <th></th>\n",
       "      <th>姓名</th>\n",
       "      <th>性别</th>\n",
       "      <th>年龄</th>\n",
       "    </tr>\n",
       "  </thead>\n",
       "  <tbody>\n",
       "    <tr>\n",
       "      <th>0</th>\n",
       "      <td>Tom</td>\n",
       "      <td>男</td>\n",
       "      <td>19</td>\n",
       "    </tr>\n",
       "    <tr>\n",
       "      <th>1</th>\n",
       "      <td>Jack</td>\n",
       "      <td>男</td>\n",
       "      <td>20</td>\n",
       "    </tr>\n",
       "    <tr>\n",
       "      <th>2</th>\n",
       "      <td>Lucy</td>\n",
       "      <td>女</td>\n",
       "      <td>18</td>\n",
       "    </tr>\n",
       "  </tbody>\n",
       "</table>\n",
       "</div>"
      ],
      "text/plain": [
       "     姓名 性别  年龄\n",
       "0   Tom  男  19\n",
       "1  Jack  男  20\n",
       "2  Lucy  女  18"
      ]
     },
     "execution_count": 31,
     "metadata": {},
     "output_type": "execute_result"
    }
   ],
   "source": [
    "df.reset_index(inplace=True)\n",
    "df"
   ]
  },
  {
   "cell_type": "code",
   "execution_count": null,
   "id": "02ed4203",
   "metadata": {},
   "outputs": [],
   "source": []
  }
 ],
 "metadata": {
  "kernelspec": {
   "display_name": "Python 3",
   "language": "python",
   "name": "python3"
  },
  "language_info": {
   "codemirror_mode": {
    "name": "ipython",
    "version": 3
   },
   "file_extension": ".py",
   "mimetype": "text/x-python",
   "name": "python",
   "nbconvert_exporter": "python",
   "pygments_lexer": "ipython3",
   "version": "3.7.6"
  }
 },
 "nbformat": 4,
 "nbformat_minor": 5
}
