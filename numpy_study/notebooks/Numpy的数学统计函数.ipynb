{
 "cells": [
  {
   "cell_type": "markdown",
   "id": "859b50e8",
   "metadata": {},
   "source": [
    "### 1. Numpy有哪些数学统计函数\n",
    "函数名|说明\n",
    "---|:--:\n",
    "np.sum|所有元素的和\n",
    "np.prod|所有元素的乘积\n",
    "np.cumsum|元素的累积加和\n",
    "np.cumprod|元素的累积乘积\n",
    "np.min|最小值\n",
    "np.max|最大值\n",
    "np.percentile|0-100百分位数\n",
    "np.quantile|0-1分位数\n",
    "np.median|中位数\n",
    "np.average|加权平均，参数可以指定weights\n",
    "np.mean|平均值\n",
    "np.std|标准差\n",
    "np.var|方差\n",
    "\n",
    "### 2. 怎样实现按不同的axis计算\n",
    "以上函数，都有一个参数叫做axis用于指定计算轴为行还是列，如果不指定，那么会计算所有元素的结果\n",
    "\n",
    "### 3.  实例：机器学习将数据进行标准化\n",
    "A = (A - mean(A, axis=0)) / std(A, axis=0)"
   ]
  },
  {
   "cell_type": "markdown",
   "id": "d85adcd2",
   "metadata": {},
   "source": [
    "## 1. Numpy的数学统计函数"
   ]
  },
  {
   "cell_type": "code",
   "execution_count": 1,
   "id": "f2eafee9",
   "metadata": {},
   "outputs": [],
   "source": [
    "import numpy as np"
   ]
  },
  {
   "cell_type": "code",
   "execution_count": 3,
   "id": "48bfc9a9",
   "metadata": {},
   "outputs": [
    {
     "data": {
      "text/plain": [
       "array([[ 0,  1,  2,  3],\n",
       "       [ 4,  5,  6,  7],\n",
       "       [ 8,  9, 10, 11]])"
      ]
     },
     "execution_count": 3,
     "metadata": {},
     "output_type": "execute_result"
    }
   ],
   "source": [
    "arr = np.arange(12).reshape(3, 4)\n",
    "arr"
   ]
  },
  {
   "cell_type": "code",
   "execution_count": 4,
   "id": "e4eadf20",
   "metadata": {},
   "outputs": [
    {
     "data": {
      "text/plain": [
       "66"
      ]
     },
     "execution_count": 4,
     "metadata": {},
     "output_type": "execute_result"
    }
   ],
   "source": [
    "np.sum(arr)"
   ]
  },
  {
   "cell_type": "code",
   "execution_count": 5,
   "id": "66dc37ea",
   "metadata": {},
   "outputs": [
    {
     "data": {
      "text/plain": [
       "0"
      ]
     },
     "execution_count": 5,
     "metadata": {},
     "output_type": "execute_result"
    }
   ],
   "source": [
    "np.prod(arr)"
   ]
  },
  {
   "cell_type": "code",
   "execution_count": 6,
   "id": "63522cce",
   "metadata": {},
   "outputs": [
    {
     "data": {
      "text/plain": [
       "array([ 0,  1,  3,  6, 10, 15, 21, 28, 36, 45, 55, 66])"
      ]
     },
     "execution_count": 6,
     "metadata": {},
     "output_type": "execute_result"
    }
   ],
   "source": [
    "np.cumsum(arr)"
   ]
  },
  {
   "cell_type": "code",
   "execution_count": 7,
   "id": "c85d5a74",
   "metadata": {},
   "outputs": [
    {
     "data": {
      "text/plain": [
       "array([0, 0, 0, 0, 0, 0, 0, 0, 0, 0, 0, 0])"
      ]
     },
     "execution_count": 7,
     "metadata": {},
     "output_type": "execute_result"
    }
   ],
   "source": [
    "np.cumprod(arr)"
   ]
  },
  {
   "cell_type": "code",
   "execution_count": 8,
   "id": "f593907b",
   "metadata": {},
   "outputs": [
    {
     "data": {
      "text/plain": [
       "0"
      ]
     },
     "execution_count": 8,
     "metadata": {},
     "output_type": "execute_result"
    }
   ],
   "source": [
    "np.min(arr)"
   ]
  },
  {
   "cell_type": "code",
   "execution_count": 9,
   "id": "a2b8c6b8",
   "metadata": {},
   "outputs": [
    {
     "data": {
      "text/plain": [
       "11"
      ]
     },
     "execution_count": 9,
     "metadata": {},
     "output_type": "execute_result"
    }
   ],
   "source": [
    "np.max(arr)"
   ]
  },
  {
   "cell_type": "code",
   "execution_count": 10,
   "id": "c7838e54",
   "metadata": {},
   "outputs": [
    {
     "data": {
      "text/plain": [
       "array([2.75, 5.5 , 8.25])"
      ]
     },
     "execution_count": 10,
     "metadata": {},
     "output_type": "execute_result"
    }
   ],
   "source": [
    "np.percentile(arr, [25, 50, 75])"
   ]
  },
  {
   "cell_type": "code",
   "execution_count": 12,
   "id": "9c697bfa",
   "metadata": {},
   "outputs": [
    {
     "data": {
      "text/plain": [
       "array([2.75, 5.5 , 8.25])"
      ]
     },
     "execution_count": 12,
     "metadata": {},
     "output_type": "execute_result"
    }
   ],
   "source": [
    "np.quantile(arr, [0.25, 0.5, 0.75])"
   ]
  },
  {
   "cell_type": "code",
   "execution_count": 13,
   "id": "bdbab38a",
   "metadata": {},
   "outputs": [
    {
     "data": {
      "text/plain": [
       "5.5"
      ]
     },
     "execution_count": 13,
     "metadata": {},
     "output_type": "execute_result"
    }
   ],
   "source": [
    "np.mean(arr)"
   ]
  },
  {
   "cell_type": "code",
   "execution_count": 14,
   "id": "2c6f277b",
   "metadata": {},
   "outputs": [
    {
     "data": {
      "text/plain": [
       "3.452052529534663"
      ]
     },
     "execution_count": 14,
     "metadata": {},
     "output_type": "execute_result"
    }
   ],
   "source": [
    "np.std(arr)"
   ]
  },
  {
   "cell_type": "code",
   "execution_count": 15,
   "id": "fddbb7a3",
   "metadata": {},
   "outputs": [
    {
     "data": {
      "text/plain": [
       "11.916666666666666"
      ]
     },
     "execution_count": 15,
     "metadata": {},
     "output_type": "execute_result"
    }
   ],
   "source": [
    "np.var(arr)"
   ]
  },
  {
   "cell_type": "code",
   "execution_count": 16,
   "id": "b1b38238",
   "metadata": {},
   "outputs": [
    {
     "data": {
      "text/plain": [
       "5.1481552864310025"
      ]
     },
     "execution_count": 16,
     "metadata": {},
     "output_type": "execute_result"
    }
   ],
   "source": [
    "# weights的shape需要和arr一样\n",
    "weights = np.random.rand(*arr.shape)\n",
    "np.average(arr, weights=weights)"
   ]
  },
  {
   "cell_type": "markdown",
   "id": "d1e8dcd0",
   "metadata": {},
   "source": [
    "## 2. Numpy的axis参数的用途\n",
    "axis=0代表行，axis=1代表列\n",
    "对于sum/mean/media等聚合函数：\n",
    "* 理解1：axis=0代表把行消解掉，axis=1代表把列消解掉\n",
    "* 理解2：axis=0代表跨行计算，axis=1代表跨列计算"
   ]
  },
  {
   "cell_type": "code",
   "execution_count": 22,
   "id": "9e6cd705",
   "metadata": {},
   "outputs": [
    {
     "data": {
      "text/plain": [
       "array([[ 0,  1,  2,  3],\n",
       "       [ 4,  5,  6,  7],\n",
       "       [ 8,  9, 10, 11]])"
      ]
     },
     "execution_count": 22,
     "metadata": {},
     "output_type": "execute_result"
    }
   ],
   "source": [
    "arr"
   ]
  },
  {
   "cell_type": "code",
   "execution_count": 18,
   "id": "fe3dab35",
   "metadata": {},
   "outputs": [
    {
     "data": {
      "text/plain": [
       "array([12, 15, 18, 21])"
      ]
     },
     "execution_count": 18,
     "metadata": {},
     "output_type": "execute_result"
    }
   ],
   "source": [
    "arr.sum(axis=0)"
   ]
  },
  {
   "cell_type": "code",
   "execution_count": 19,
   "id": "97a81ae9",
   "metadata": {},
   "outputs": [
    {
     "data": {
      "text/plain": [
       "array([ 6, 22, 38])"
      ]
     },
     "execution_count": 19,
     "metadata": {},
     "output_type": "execute_result"
    }
   ],
   "source": [
    "arr.sum(axis=1)"
   ]
  },
  {
   "cell_type": "code",
   "execution_count": 20,
   "id": "9d02a746",
   "metadata": {},
   "outputs": [
    {
     "data": {
      "text/plain": [
       "array([[ 0,  1,  2,  3],\n",
       "       [ 4,  6,  8, 10],\n",
       "       [12, 15, 18, 21]])"
      ]
     },
     "execution_count": 20,
     "metadata": {},
     "output_type": "execute_result"
    }
   ],
   "source": [
    "arr.cumsum(axis=0)"
   ]
  },
  {
   "cell_type": "code",
   "execution_count": 21,
   "id": "1216aed7",
   "metadata": {},
   "outputs": [
    {
     "data": {
      "text/plain": [
       "array([[ 0,  1,  3,  6],\n",
       "       [ 4,  9, 15, 22],\n",
       "       [ 8, 17, 27, 38]])"
      ]
     },
     "execution_count": 21,
     "metadata": {},
     "output_type": "execute_result"
    }
   ],
   "source": [
    "arr.cumsum(axis=1)"
   ]
  },
  {
   "cell_type": "markdown",
   "id": "2f2a47f7",
   "metadata": {},
   "source": [
    "## 3. 实例：机器学习将数据进行标准化"
   ]
  },
  {
   "cell_type": "code",
   "execution_count": 24,
   "id": "3cc59e67",
   "metadata": {},
   "outputs": [
    {
     "data": {
      "text/plain": [
       "array([[ 0,  1,  2,  3],\n",
       "       [ 4,  5,  6,  7],\n",
       "       [ 8,  9, 10, 11]])"
      ]
     },
     "execution_count": 24,
     "metadata": {},
     "output_type": "execute_result"
    }
   ],
   "source": [
    "arr"
   ]
  },
  {
   "cell_type": "markdown",
   "id": "628ab036",
   "metadata": {},
   "source": [
    "arr如果对应到现实世界的一种解释：\n",
    "* 行：每行对应一个样本数数据\n",
    "* 列：每列代表样本的一个特征\n",
    "数据标准化：\n",
    "* 对于机器学习、神经网络来说，不同列的量纲应该相同，训练收敛的更快；\n",
    "* 对比商品的价格是从0到100元、销量是1万到10万个，这两个数字没有可比性，因此需要先做标准化；\n",
    "* 不同列代表不同的特征，因此需要用axis=0做计算\n",
    "* 标准化一般使用A = (A - mean(A, axis=0)) / std(A, axis=0)进行计算"
   ]
  },
  {
   "cell_type": "code",
   "execution_count": 25,
   "id": "8dacc51f",
   "metadata": {},
   "outputs": [
    {
     "data": {
      "text/plain": [
       "array([4., 5., 6., 7.])"
      ]
     },
     "execution_count": 25,
     "metadata": {},
     "output_type": "execute_result"
    }
   ],
   "source": [
    "# 计算每列的均值\n",
    "mean = np.mean(arr, axis=0)\n",
    "mean"
   ]
  },
  {
   "cell_type": "code",
   "execution_count": 27,
   "id": "928707bf",
   "metadata": {},
   "outputs": [
    {
     "data": {
      "text/plain": [
       "array([3.26598632, 3.26598632, 3.26598632, 3.26598632])"
      ]
     },
     "execution_count": 27,
     "metadata": {},
     "output_type": "execute_result"
    }
   ],
   "source": [
    "# 计算每列的方差\n",
    "std = np.std(arr, axis=0)\n",
    "std"
   ]
  },
  {
   "cell_type": "code",
   "execution_count": 29,
   "id": "e0871cfe",
   "metadata": {},
   "outputs": [
    {
     "data": {
      "text/plain": [
       "array([[-4., -4., -4., -4.],\n",
       "       [ 0.,  0.,  0.,  0.],\n",
       "       [ 4.,  4.,  4.,  4.]])"
      ]
     },
     "execution_count": 29,
     "metadata": {},
     "output_type": "execute_result"
    }
   ],
   "source": [
    "# 计算分子，注意每行都会分别减去[4., 5., 6., 7.]，这个叫做numpy的广播\n",
    "fenzi = arr - mean\n",
    "fenzi"
   ]
  },
  {
   "cell_type": "code",
   "execution_count": 30,
   "id": "3865fbab",
   "metadata": {},
   "outputs": [
    {
     "data": {
      "text/plain": [
       "array([[-1.22474487, -1.22474487, -1.22474487, -1.22474487],\n",
       "       [ 0.        ,  0.        ,  0.        ,  0.        ],\n",
       "       [ 1.22474487,  1.22474487,  1.22474487,  1.22474487]])"
      ]
     },
     "execution_count": 30,
     "metadata": {},
     "output_type": "execute_result"
    }
   ],
   "source": [
    "result = fenzi / std\n",
    "result"
   ]
  },
  {
   "cell_type": "markdown",
   "id": "6e062304",
   "metadata": {},
   "source": [
    "#### 用随机数再试一次"
   ]
  },
  {
   "cell_type": "code",
   "execution_count": 32,
   "id": "ae46643a",
   "metadata": {},
   "outputs": [
    {
     "data": {
      "text/plain": [
       "array([[46, 90, 57, 44],\n",
       "       [96, 29, 21, 82],\n",
       "       [75, 39, 66, 39]])"
      ]
     },
     "execution_count": 32,
     "metadata": {},
     "output_type": "execute_result"
    }
   ],
   "source": [
    "arr2 = np.random.randint(1, 100, size=(3,4))\n",
    "arr2"
   ]
  },
  {
   "cell_type": "code",
   "execution_count": 33,
   "id": "a50aae41",
   "metadata": {},
   "outputs": [
    {
     "data": {
      "text/plain": [
       "array([[-1.2845953 ,  1.39759994,  0.46291005, -0.57289595],\n",
       "       [ 1.1545097 , -0.88597853, -1.38873015,  1.40619914],\n",
       "       [ 0.1300856 , -0.51162141,  0.9258201 , -0.83330319]])"
      ]
     },
     "execution_count": 33,
     "metadata": {},
     "output_type": "execute_result"
    }
   ],
   "source": [
    "result = (arr2 - np.mean(arr2, axis=0)) / np.std(arr2, axis=0)\n",
    "result"
   ]
  },
  {
   "cell_type": "code",
   "execution_count": null,
   "id": "24dc3ae4",
   "metadata": {},
   "outputs": [],
   "source": []
  }
 ],
 "metadata": {
  "kernelspec": {
   "display_name": "Python 3",
   "language": "python",
   "name": "python3"
  },
  "language_info": {
   "codemirror_mode": {
    "name": "ipython",
    "version": 3
   },
   "file_extension": ".py",
   "mimetype": "text/x-python",
   "name": "python",
   "nbconvert_exporter": "python",
   "pygments_lexer": "ipython3",
   "version": "3.7.6"
  }
 },
 "nbformat": 4,
 "nbformat_minor": 5
}
