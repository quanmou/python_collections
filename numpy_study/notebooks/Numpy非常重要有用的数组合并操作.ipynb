{
 "cells": [
  {
   "cell_type": "markdown",
   "id": "c7c2cdda",
   "metadata": {},
   "source": [
    "### Numpy非常重要有用的数组合并操作\n",
    "背景： 在给机器学习准备数据的过程中，经常需要进行不同来源的数据合并的操作。\n",
    "两类场景：\n",
    "1. 给已有的数据添加多行，比如增添一些样本数据进去；\n",
    "2. 给已有的数据添加多列，比如增添一些特征进去；\n",
    "\n",
    "以下操作均可以实现数组合并：\n",
    "* np.concatenate(array_list，axis=0/1）：沿着指定axis进行数组的合并\n",
    "* np.vstack或者np.row_stack(array_list）：垂直vertically、 按行rowwise进行数据合并\n",
    "* np.hstack或者np.column_stack(array_list）：水平horizontally、 按列columnwise进行数据合并"
   ]
  },
  {
   "cell_type": "code",
   "execution_count": 1,
   "id": "b3994ffb",
   "metadata": {},
   "outputs": [],
   "source": [
    "import numpy as np"
   ]
  },
  {
   "cell_type": "markdown",
   "id": "50e94159",
   "metadata": {},
   "source": [
    "#### 1. 怎样给数据添加新的多行"
   ]
  },
  {
   "cell_type": "code",
   "execution_count": 7,
   "id": "714fe05d",
   "metadata": {},
   "outputs": [],
   "source": [
    "a = np.arange(6).reshape(2,3)\n",
    "b = np.random.randint(10, 20, size=(4, 3))"
   ]
  },
  {
   "cell_type": "code",
   "execution_count": 8,
   "id": "bace8ad0",
   "metadata": {},
   "outputs": [
    {
     "data": {
      "text/plain": [
       "array([[0, 1, 2],\n",
       "       [3, 4, 5]])"
      ]
     },
     "execution_count": 8,
     "metadata": {},
     "output_type": "execute_result"
    }
   ],
   "source": [
    "a"
   ]
  },
  {
   "cell_type": "code",
   "execution_count": 9,
   "id": "52c9c7d0",
   "metadata": {},
   "outputs": [
    {
     "data": {
      "text/plain": [
       "array([[13, 14, 18],\n",
       "       [11, 18, 12],\n",
       "       [19, 17, 10],\n",
       "       [12, 18, 12]])"
      ]
     },
     "execution_count": 9,
     "metadata": {},
     "output_type": "execute_result"
    }
   ],
   "source": [
    "b"
   ]
  },
  {
   "cell_type": "code",
   "execution_count": 10,
   "id": "81d309b3",
   "metadata": {},
   "outputs": [
    {
     "data": {
      "text/plain": [
       "array([[ 0,  1,  2],\n",
       "       [ 3,  4,  5],\n",
       "       [13, 14, 18],\n",
       "       [11, 18, 12],\n",
       "       [19, 17, 10],\n",
       "       [12, 18, 12]])"
      ]
     },
     "execution_count": 10,
     "metadata": {},
     "output_type": "execute_result"
    }
   ],
   "source": [
    "# 方法1\n",
    "np.concatenate([a, b])"
   ]
  },
  {
   "cell_type": "code",
   "execution_count": 11,
   "id": "5a8953f9",
   "metadata": {},
   "outputs": [
    {
     "data": {
      "text/plain": [
       "array([[ 0,  1,  2],\n",
       "       [ 3,  4,  5],\n",
       "       [13, 14, 18],\n",
       "       [11, 18, 12],\n",
       "       [19, 17, 10],\n",
       "       [12, 18, 12]])"
      ]
     },
     "execution_count": 11,
     "metadata": {},
     "output_type": "execute_result"
    }
   ],
   "source": [
    "# 方法2\n",
    "np.vstack([a, b])"
   ]
  },
  {
   "cell_type": "code",
   "execution_count": 13,
   "id": "6bfcaf70",
   "metadata": {},
   "outputs": [
    {
     "data": {
      "text/plain": [
       "array([[ 0,  1,  2],\n",
       "       [ 3,  4,  5],\n",
       "       [13, 14, 18],\n",
       "       [11, 18, 12],\n",
       "       [19, 17, 10],\n",
       "       [12, 18, 12]])"
      ]
     },
     "execution_count": 13,
     "metadata": {},
     "output_type": "execute_result"
    }
   ],
   "source": [
    "# 方法3\n",
    "np.row_stack([a, b])"
   ]
  },
  {
   "cell_type": "markdown",
   "id": "7df3b836",
   "metadata": {},
   "source": [
    "#### 2. 怎样给数据添加新的多列"
   ]
  },
  {
   "cell_type": "code",
   "execution_count": 14,
   "id": "44f855d5",
   "metadata": {},
   "outputs": [],
   "source": [
    "a = np.arange(12).reshape(3, 4)\n",
    "b = np.random.randint(10, 20, size=(3, 2))"
   ]
  },
  {
   "cell_type": "code",
   "execution_count": 15,
   "id": "0ef20542",
   "metadata": {},
   "outputs": [
    {
     "data": {
      "text/plain": [
       "array([[ 0,  1,  2,  3],\n",
       "       [ 4,  5,  6,  7],\n",
       "       [ 8,  9, 10, 11]])"
      ]
     },
     "execution_count": 15,
     "metadata": {},
     "output_type": "execute_result"
    }
   ],
   "source": [
    "a"
   ]
  },
  {
   "cell_type": "code",
   "execution_count": 16,
   "id": "a8e9eb4a",
   "metadata": {},
   "outputs": [
    {
     "data": {
      "text/plain": [
       "array([[17, 19],\n",
       "       [15, 17],\n",
       "       [17, 17]])"
      ]
     },
     "execution_count": 16,
     "metadata": {},
     "output_type": "execute_result"
    }
   ],
   "source": [
    "b"
   ]
  },
  {
   "cell_type": "code",
   "execution_count": 17,
   "id": "39a3c736",
   "metadata": {},
   "outputs": [
    {
     "data": {
      "text/plain": [
       "array([[ 0,  1,  2,  3, 17, 19],\n",
       "       [ 4,  5,  6,  7, 15, 17],\n",
       "       [ 8,  9, 10, 11, 17, 17]])"
      ]
     },
     "execution_count": 17,
     "metadata": {},
     "output_type": "execute_result"
    }
   ],
   "source": [
    "# 方法1\n",
    "np.concatenate([a, b], axis=1)"
   ]
  },
  {
   "cell_type": "code",
   "execution_count": 18,
   "id": "dce39e57",
   "metadata": {},
   "outputs": [
    {
     "data": {
      "text/plain": [
       "array([[ 0,  1,  2,  3, 17, 19],\n",
       "       [ 4,  5,  6,  7, 15, 17],\n",
       "       [ 8,  9, 10, 11, 17, 17]])"
      ]
     },
     "execution_count": 18,
     "metadata": {},
     "output_type": "execute_result"
    }
   ],
   "source": [
    "# 方法2\n",
    "np.hstack([a, b])"
   ]
  },
  {
   "cell_type": "code",
   "execution_count": 19,
   "id": "445c24aa",
   "metadata": {},
   "outputs": [
    {
     "data": {
      "text/plain": [
       "array([[ 0,  1,  2,  3, 17, 19],\n",
       "       [ 4,  5,  6,  7, 15, 17],\n",
       "       [ 8,  9, 10, 11, 17, 17]])"
      ]
     },
     "execution_count": 19,
     "metadata": {},
     "output_type": "execute_result"
    }
   ],
   "source": [
    "# 方法3\n",
    "np.column_stack([a, b])"
   ]
  },
  {
   "cell_type": "code",
   "execution_count": null,
   "id": "7a3e93d7",
   "metadata": {},
   "outputs": [],
   "source": []
  }
 ],
 "metadata": {
  "kernelspec": {
   "display_name": "Python 3",
   "language": "python",
   "name": "python3"
  },
  "language_info": {
   "codemirror_mode": {
    "name": "ipython",
    "version": 3
   },
   "file_extension": ".py",
   "mimetype": "text/x-python",
   "name": "python",
   "nbconvert_exporter": "python",
   "pygments_lexer": "ipython3",
   "version": "3.7.6"
  }
 },
 "nbformat": 4,
 "nbformat_minor": 5
}
