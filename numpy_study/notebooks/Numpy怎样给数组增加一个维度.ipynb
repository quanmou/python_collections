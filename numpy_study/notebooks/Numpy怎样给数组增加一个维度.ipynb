{
 "cells": [
  {
   "cell_type": "markdown",
   "id": "0a015677",
   "metadata": {},
   "source": [
    "## Numpy怎样给数组增加一个维度\n",
    "#### 背景：\n",
    "很多数据计算都是二维或三维的，对于一维的数据输入为了形状匹配，经常需升维变成二维\n",
    "#### 需要：\n",
    "在不改变数据的情况下，添加数组维度；（注意观察这个例子，维度变了，但数据不变）\n",
    "\n",
    "原始数组：一维数组arr=[1,2,3,4]，其shape是（4，），取值分别为arr[0], arr[1], arr[2], arr[3]\n",
    "\n",
    "变形数组：二维数组arr=[[1,2,3,4]]，其shape实（1,4），取值分别为a[0,0], a[0,1], a[0,2], a[0,3]\n",
    "#### 实操：\n",
    "经常需要在纸上手绘数组的形状，来查看不同数组是否形状匹配，是否需要升维降维\n",
    "#### 3种方法：\n",
    "* np.newaxis: 关键字，使用索引的语法给数组添加维度\n",
    "* np.expand_dims(arr，axis）：方法，和np.newaxis实现一样的功能，给arr在axis位置添加维度\n",
    "* np.reshape(a，newshape）：方法，给一个维度设置为1完成升维"
   ]
  },
  {
   "cell_type": "code",
   "execution_count": 1,
   "id": "75b00c56",
   "metadata": {},
   "outputs": [],
   "source": [
    "import numpy as np"
   ]
  },
  {
   "cell_type": "code",
   "execution_count": 2,
   "id": "c1cae560",
   "metadata": {},
   "outputs": [
    {
     "data": {
      "text/plain": [
       "array([0, 1, 2, 3, 4])"
      ]
     },
     "execution_count": 2,
     "metadata": {},
     "output_type": "execute_result"
    }
   ],
   "source": [
    "arr = np.arange(5)\n",
    "arr"
   ]
  },
  {
   "cell_type": "code",
   "execution_count": 3,
   "id": "16a42bb5",
   "metadata": {},
   "outputs": [
    {
     "data": {
      "text/plain": [
       "(5,)"
      ]
     },
     "execution_count": 3,
     "metadata": {},
     "output_type": "execute_result"
    }
   ],
   "source": [
    "# 注意，当前是一维向量\n",
    "arr.shape"
   ]
  },
  {
   "cell_type": "markdown",
   "id": "8976b9e6",
   "metadata": {},
   "source": [
    "### 方法1： np.newaxis关键字\n",
    "注意：np.newaxis其实就是None的别名"
   ]
  },
  {
   "cell_type": "code",
   "execution_count": 4,
   "id": "97ad26d3",
   "metadata": {},
   "outputs": [
    {
     "data": {
      "text/plain": [
       "True"
      ]
     },
     "execution_count": 4,
     "metadata": {},
     "output_type": "execute_result"
    }
   ],
   "source": [
    "np.newaxis is None"
   ]
  },
  {
   "cell_type": "code",
   "execution_count": 5,
   "id": "912539f0",
   "metadata": {},
   "outputs": [
    {
     "data": {
      "text/plain": [
       "True"
      ]
     },
     "execution_count": 5,
     "metadata": {},
     "output_type": "execute_result"
    }
   ],
   "source": [
    "np.newaxis == None"
   ]
  },
  {
   "cell_type": "markdown",
   "id": "10a9b8e8",
   "metadata": {},
   "source": [
    "即以下所有的np.newaxis，都可以用None代替"
   ]
  },
  {
   "cell_type": "markdown",
   "id": "3d4cd66b",
   "metadata": {},
   "source": [
    "#### 给一维向量添加一个维度"
   ]
  },
  {
   "cell_type": "code",
   "execution_count": 6,
   "id": "436d94aa",
   "metadata": {},
   "outputs": [
    {
     "data": {
      "text/plain": [
       "array([[0, 1, 2, 3, 4]])"
      ]
     },
     "execution_count": 6,
     "metadata": {},
     "output_type": "execute_result"
    }
   ],
   "source": [
    "arr[np.newaxis, :]"
   ]
  },
  {
   "cell_type": "code",
   "execution_count": 7,
   "id": "f4a05d59",
   "metadata": {},
   "outputs": [
    {
     "data": {
      "text/plain": [
       "(1, 5)"
      ]
     },
     "execution_count": 7,
     "metadata": {},
     "output_type": "execute_result"
    }
   ],
   "source": [
    "arr[np.newaxis, :].shape"
   ]
  },
  {
   "cell_type": "markdown",
   "id": "f6d254d2",
   "metadata": {},
   "source": [
    "数据现在是一行 * 五列，数据本身没有增减，只是多了一级括号"
   ]
  },
  {
   "cell_type": "markdown",
   "id": "2e9557d2",
   "metadata": {},
   "source": [
    "#### 给一维向量添加一个列维度"
   ]
  },
  {
   "cell_type": "code",
   "execution_count": 8,
   "id": "23048397",
   "metadata": {},
   "outputs": [
    {
     "data": {
      "text/plain": [
       "array([[0],\n",
       "       [1],\n",
       "       [2],\n",
       "       [3],\n",
       "       [4]])"
      ]
     },
     "execution_count": 8,
     "metadata": {},
     "output_type": "execute_result"
    }
   ],
   "source": [
    "arr[:, np.newaxis]"
   ]
  },
  {
   "cell_type": "code",
   "execution_count": 9,
   "id": "0f324927",
   "metadata": {},
   "outputs": [
    {
     "data": {
      "text/plain": [
       "(5, 1)"
      ]
     },
     "execution_count": 9,
     "metadata": {},
     "output_type": "execute_result"
    }
   ],
   "source": [
    "arr[:, np.newaxis].shape"
   ]
  },
  {
   "cell_type": "markdown",
   "id": "d5787d9d",
   "metadata": {},
   "source": [
    "数据现在是五行 * 一列"
   ]
  },
  {
   "cell_type": "markdown",
   "id": "2261a3ae",
   "metadata": {},
   "source": [
    "### 方法2： np.expand_dims\n",
    "np.expand_dims方法实现的效果，和np.newaxis关键字是一模一样的"
   ]
  },
  {
   "cell_type": "code",
   "execution_count": 10,
   "id": "d2e48296",
   "metadata": {},
   "outputs": [
    {
     "data": {
      "text/plain": [
       "array([0, 1, 2, 3, 4])"
      ]
     },
     "execution_count": 10,
     "metadata": {},
     "output_type": "execute_result"
    }
   ],
   "source": [
    "arr"
   ]
  },
  {
   "cell_type": "markdown",
   "id": "9296e0c9",
   "metadata": {},
   "source": [
    "#### 给一维数组添加一个行维度\n",
    "相当于arr[np.newaxis, arr]"
   ]
  },
  {
   "cell_type": "code",
   "execution_count": 11,
   "id": "4c496fb9",
   "metadata": {},
   "outputs": [
    {
     "data": {
      "text/plain": [
       "array([[0, 1, 2, 3, 4]])"
      ]
     },
     "execution_count": 11,
     "metadata": {},
     "output_type": "execute_result"
    }
   ],
   "source": [
    "np.expand_dims(arr, axis=0)"
   ]
  },
  {
   "cell_type": "code",
   "execution_count": 12,
   "id": "2d5a60b7",
   "metadata": {},
   "outputs": [
    {
     "data": {
      "text/plain": [
       "(1, 5)"
      ]
     },
     "execution_count": 12,
     "metadata": {},
     "output_type": "execute_result"
    }
   ],
   "source": [
    "np.expand_dims(arr, axis=0).shape"
   ]
  },
  {
   "cell_type": "markdown",
   "id": "74b13b70",
   "metadata": {},
   "source": [
    "#### 给一维数组添加一个列维度\n",
    "相当于arr[arr, np.newaxis]"
   ]
  },
  {
   "cell_type": "code",
   "execution_count": 13,
   "id": "02bc3d95",
   "metadata": {},
   "outputs": [
    {
     "data": {
      "text/plain": [
       "array([[0],\n",
       "       [1],\n",
       "       [2],\n",
       "       [3],\n",
       "       [4]])"
      ]
     },
     "execution_count": 13,
     "metadata": {},
     "output_type": "execute_result"
    }
   ],
   "source": [
    "np.expand_dims(arr, axis=1)"
   ]
  },
  {
   "cell_type": "code",
   "execution_count": 14,
   "id": "c678b964",
   "metadata": {},
   "outputs": [
    {
     "data": {
      "text/plain": [
       "(5, 1)"
      ]
     },
     "execution_count": 14,
     "metadata": {},
     "output_type": "execute_result"
    }
   ],
   "source": [
    "np.expand_dims(arr, axis=1).shape"
   ]
  },
  {
   "cell_type": "markdown",
   "id": "f9f0ac7b",
   "metadata": {},
   "source": [
    "### 方法3：np.reshape方法"
   ]
  },
  {
   "cell_type": "markdown",
   "id": "9a02eda3",
   "metadata": {},
   "source": [
    "#### 给一维数组添加一个行维度"
   ]
  },
  {
   "cell_type": "code",
   "execution_count": 15,
   "id": "63b656d7",
   "metadata": {},
   "outputs": [
    {
     "data": {
      "text/plain": [
       "array([0, 1, 2, 3, 4])"
      ]
     },
     "execution_count": 15,
     "metadata": {},
     "output_type": "execute_result"
    }
   ],
   "source": [
    "arr"
   ]
  },
  {
   "cell_type": "code",
   "execution_count": 16,
   "id": "9aa0fb45",
   "metadata": {},
   "outputs": [
    {
     "data": {
      "text/plain": [
       "array([[0, 1, 2, 3, 4]])"
      ]
     },
     "execution_count": 16,
     "metadata": {},
     "output_type": "execute_result"
    }
   ],
   "source": [
    "np.reshape(arr, (1, 5))"
   ]
  },
  {
   "cell_type": "code",
   "execution_count": 18,
   "id": "af77c7ed",
   "metadata": {},
   "outputs": [
    {
     "data": {
      "text/plain": [
       "array([[0, 1, 2, 3, 4]])"
      ]
     },
     "execution_count": 18,
     "metadata": {},
     "output_type": "execute_result"
    }
   ],
   "source": [
    "np.reshape(arr, (1, -1))"
   ]
  },
  {
   "cell_type": "code",
   "execution_count": 19,
   "id": "4b1c0c95",
   "metadata": {},
   "outputs": [
    {
     "data": {
      "text/plain": [
       "(1, 5)"
      ]
     },
     "execution_count": 19,
     "metadata": {},
     "output_type": "execute_result"
    }
   ],
   "source": [
    "np.reshape(arr, (1, -1)).shape"
   ]
  },
  {
   "cell_type": "markdown",
   "id": "fcac72f4",
   "metadata": {},
   "source": [
    "#### 给一维数组添加一个列维度"
   ]
  },
  {
   "cell_type": "code",
   "execution_count": 20,
   "id": "f78051cd",
   "metadata": {},
   "outputs": [
    {
     "data": {
      "text/plain": [
       "array([[0],\n",
       "       [1],\n",
       "       [2],\n",
       "       [3],\n",
       "       [4]])"
      ]
     },
     "execution_count": 20,
     "metadata": {},
     "output_type": "execute_result"
    }
   ],
   "source": [
    "np.reshape(arr, (-1, 1))"
   ]
  },
  {
   "cell_type": "code",
   "execution_count": 21,
   "id": "831e04ab",
   "metadata": {},
   "outputs": [
    {
     "data": {
      "text/plain": [
       "(5, 1)"
      ]
     },
     "execution_count": 21,
     "metadata": {},
     "output_type": "execute_result"
    }
   ],
   "source": [
    "np.reshape(arr, (-1, 1)).shape"
   ]
  },
  {
   "cell_type": "code",
   "execution_count": null,
   "id": "40a5eba2",
   "metadata": {},
   "outputs": [],
   "source": []
  }
 ],
 "metadata": {
  "kernelspec": {
   "display_name": "Python 3",
   "language": "python",
   "name": "python3"
  },
  "language_info": {
   "codemirror_mode": {
    "name": "ipython",
    "version": 3
   },
   "file_extension": ".py",
   "mimetype": "text/x-python",
   "name": "python",
   "nbconvert_exporter": "python",
   "pygments_lexer": "ipython3",
   "version": "3.7.6"
  }
 },
 "nbformat": 4,
 "nbformat_minor": 5
}
