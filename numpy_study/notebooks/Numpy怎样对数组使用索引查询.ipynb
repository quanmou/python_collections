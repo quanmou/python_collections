{
 "cells": [
  {
   "cell_type": "markdown",
   "id": "9aedd0e4",
   "metadata": {},
   "source": [
    "## Numpy对数组按索引查询\n",
    "三种方法：\n",
    "* 基础索引\n",
    "* 神奇索引\n",
    "* 布尔索引"
   ]
  },
  {
   "cell_type": "code",
   "execution_count": 1,
   "id": "64a8c7c1",
   "metadata": {},
   "outputs": [],
   "source": [
    "import numpy as np"
   ]
  },
  {
   "cell_type": "code",
   "execution_count": 2,
   "id": "145e99de",
   "metadata": {},
   "outputs": [
    {
     "data": {
      "text/plain": [
       "array([0, 1, 2, 3, 4, 5, 6, 7, 8, 9])"
      ]
     },
     "execution_count": 2,
     "metadata": {},
     "output_type": "execute_result"
    }
   ],
   "source": [
    "# 一维向量\n",
    "x = np.arange(10)\n",
    "x"
   ]
  },
  {
   "cell_type": "code",
   "execution_count": 4,
   "id": "97e0562a",
   "metadata": {},
   "outputs": [
    {
     "data": {
      "text/plain": [
       "array([[ 0,  1,  2,  3,  4],\n",
       "       [ 5,  6,  7,  8,  9],\n",
       "       [10, 11, 12, 13, 14],\n",
       "       [15, 16, 17, 18, 19]])"
      ]
     },
     "execution_count": 4,
     "metadata": {},
     "output_type": "execute_result"
    }
   ],
   "source": [
    "# 二维向量，一般用大写字母\n",
    "X = np.arange(20).reshape(4, 5)\n",
    "X"
   ]
  },
  {
   "cell_type": "markdown",
   "id": "bdbf432f",
   "metadata": {},
   "source": [
    "### 基础索引\n",
    "\n",
    "#### 一维数组\n",
    "和Python的List一样"
   ]
  },
  {
   "cell_type": "code",
   "execution_count": 5,
   "id": "6e83f05d",
   "metadata": {},
   "outputs": [
    {
     "data": {
      "text/plain": [
       "array([0, 1, 2, 3, 4, 5, 6, 7, 8, 9])"
      ]
     },
     "execution_count": 5,
     "metadata": {},
     "output_type": "execute_result"
    }
   ],
   "source": [
    "x"
   ]
  },
  {
   "cell_type": "code",
   "execution_count": 6,
   "id": "fa509ef3",
   "metadata": {},
   "outputs": [
    {
     "name": "stdout",
     "output_type": "stream",
     "text": [
      "2 5 9\n"
     ]
    }
   ],
   "source": [
    "print(x[2], x[5], x[-1])"
   ]
  },
  {
   "cell_type": "code",
   "execution_count": 8,
   "id": "4c52c75e",
   "metadata": {},
   "outputs": [
    {
     "data": {
      "text/plain": [
       "array([2, 3])"
      ]
     },
     "execution_count": 8,
     "metadata": {},
     "output_type": "execute_result"
    }
   ],
   "source": [
    "x[2:4]"
   ]
  },
  {
   "cell_type": "code",
   "execution_count": 9,
   "id": "ef90b932",
   "metadata": {},
   "outputs": [
    {
     "data": {
      "text/plain": [
       "array([2, 3, 4, 5, 6, 7, 8])"
      ]
     },
     "execution_count": 9,
     "metadata": {},
     "output_type": "execute_result"
    }
   ],
   "source": [
    "x[2:-1]"
   ]
  },
  {
   "cell_type": "code",
   "execution_count": 10,
   "id": "2d6ed4dc",
   "metadata": {},
   "outputs": [
    {
     "data": {
      "text/plain": [
       "array([7, 8, 9])"
      ]
     },
     "execution_count": 10,
     "metadata": {},
     "output_type": "execute_result"
    }
   ],
   "source": [
    "x[-3:]"
   ]
  },
  {
   "cell_type": "code",
   "execution_count": 11,
   "id": "e5de724e",
   "metadata": {},
   "outputs": [
    {
     "data": {
      "text/plain": [
       "array([0, 1, 2, 3, 4, 5, 6])"
      ]
     },
     "execution_count": 11,
     "metadata": {},
     "output_type": "execute_result"
    }
   ],
   "source": [
    "x[:-3]"
   ]
  },
  {
   "cell_type": "markdown",
   "id": "615ca71c",
   "metadata": {},
   "source": [
    "#### 二维数组"
   ]
  },
  {
   "cell_type": "code",
   "execution_count": 12,
   "id": "3c8be402",
   "metadata": {},
   "outputs": [
    {
     "data": {
      "text/plain": [
       "array([[ 0,  1,  2,  3,  4],\n",
       "       [ 5,  6,  7,  8,  9],\n",
       "       [10, 11, 12, 13, 14],\n",
       "       [15, 16, 17, 18, 19]])"
      ]
     },
     "execution_count": 12,
     "metadata": {},
     "output_type": "execute_result"
    }
   ],
   "source": [
    "X"
   ]
  },
  {
   "cell_type": "code",
   "execution_count": 13,
   "id": "51bbf488",
   "metadata": {},
   "outputs": [
    {
     "data": {
      "text/plain": [
       "0"
      ]
     },
     "execution_count": 13,
     "metadata": {},
     "output_type": "execute_result"
    }
   ],
   "source": [
    "# 分别用航坐标，列坐标，实现行列筛选\n",
    "# X[0][0]\n",
    "X[0, 0]"
   ]
  },
  {
   "cell_type": "code",
   "execution_count": 14,
   "id": "d2b54918",
   "metadata": {},
   "outputs": [
    {
     "data": {
      "text/plain": [
       "17"
      ]
     },
     "execution_count": 14,
     "metadata": {},
     "output_type": "execute_result"
    }
   ],
   "source": [
    "X[-1, 2]"
   ]
  },
  {
   "cell_type": "code",
   "execution_count": 15,
   "id": "8ebf58e8",
   "metadata": {},
   "outputs": [
    {
     "data": {
      "text/plain": [
       "array([10, 11, 12, 13, 14])"
      ]
     },
     "execution_count": 15,
     "metadata": {},
     "output_type": "execute_result"
    }
   ],
   "source": [
    "# 可以省略后续索引值，返回的数据是降低一个维度的数组\n",
    "# 这里的2，其实是要筛选第2行\n",
    "X[2]"
   ]
  },
  {
   "cell_type": "code",
   "execution_count": 16,
   "id": "33a14614",
   "metadata": {},
   "outputs": [
    {
     "data": {
      "text/plain": [
       "array([15, 16, 17, 18, 19])"
      ]
     },
     "execution_count": 16,
     "metadata": {},
     "output_type": "execute_result"
    }
   ],
   "source": [
    "# 筛选-1对应的行\n",
    "X[-1]"
   ]
  },
  {
   "cell_type": "code",
   "execution_count": 17,
   "id": "8ed09449",
   "metadata": {},
   "outputs": [
    {
     "data": {
      "text/plain": [
       "array([[ 0,  1,  2,  3,  4],\n",
       "       [ 5,  6,  7,  8,  9],\n",
       "       [10, 11, 12, 13, 14]])"
      ]
     },
     "execution_count": 17,
     "metadata": {},
     "output_type": "execute_result"
    }
   ],
   "source": [
    "# 筛选多行\n",
    "X[:-1]"
   ]
  },
  {
   "cell_type": "code",
   "execution_count": 18,
   "id": "1d5f8ea0",
   "metadata": {},
   "outputs": [
    {
     "data": {
      "text/plain": [
       "array([[2, 3],\n",
       "       [7, 8]])"
      ]
     },
     "execution_count": 18,
     "metadata": {},
     "output_type": "execute_result"
    }
   ],
   "source": [
    "# 筛选多行，然后筛选多列\n",
    "X[:2, 2:4]"
   ]
  },
  {
   "cell_type": "code",
   "execution_count": 19,
   "id": "a9bb2e55",
   "metadata": {},
   "outputs": [
    {
     "data": {
      "text/plain": [
       "array([ 2,  7, 12, 17])"
      ]
     },
     "execution_count": 19,
     "metadata": {},
     "output_type": "execute_result"
    }
   ],
   "source": [
    "# 筛选所有行，然后筛选多列\n",
    "X[:, 2]"
   ]
  },
  {
   "cell_type": "markdown",
   "id": "53b0ef9e",
   "metadata": {},
   "source": [
    "#### 注意：切片的修改会修改原来的数组\n",
    "原因：Numpy经常要处理大数组，避免每次都复制"
   ]
  },
  {
   "cell_type": "code",
   "execution_count": 20,
   "id": "216f6295",
   "metadata": {},
   "outputs": [
    {
     "data": {
      "text/plain": [
       "array([0, 1, 2, 3, 4, 5, 6, 7, 8, 9])"
      ]
     },
     "execution_count": 20,
     "metadata": {},
     "output_type": "execute_result"
    }
   ],
   "source": [
    "x"
   ]
  },
  {
   "cell_type": "code",
   "execution_count": 21,
   "id": "fa7c141d",
   "metadata": {},
   "outputs": [
    {
     "data": {
      "text/plain": [
       "array([  0,   1, 666, 666,   4,   5,   6,   7,   8,   9])"
      ]
     },
     "execution_count": 21,
     "metadata": {},
     "output_type": "execute_result"
    }
   ],
   "source": [
    "x[2:4]=666\n",
    "x"
   ]
  },
  {
   "cell_type": "code",
   "execution_count": 22,
   "id": "4cb0050a",
   "metadata": {},
   "outputs": [
    {
     "data": {
      "text/plain": [
       "array([[666, 666,   2,   3,   4],\n",
       "       [  5,   6,   7,   8,   9],\n",
       "       [ 10,  11,  12,  13,  14],\n",
       "       [ 15,  16,  17,  18,  19]])"
      ]
     },
     "execution_count": 22,
     "metadata": {},
     "output_type": "execute_result"
    }
   ],
   "source": [
    "X[:1, :2] = 666\n",
    "X"
   ]
  },
  {
   "cell_type": "markdown",
   "id": "2fc99bd3",
   "metadata": {},
   "source": [
    "### 神奇索引\n",
    "其实就是：用整数数组进行的索引，叫神奇索引\n",
    "\n",
    "#### 一维数组"
   ]
  },
  {
   "cell_type": "code",
   "execution_count": 24,
   "id": "b382f481",
   "metadata": {},
   "outputs": [
    {
     "data": {
      "text/plain": [
       "array([0, 1, 2, 3, 4, 5, 6, 7, 8, 9])"
      ]
     },
     "execution_count": 24,
     "metadata": {},
     "output_type": "execute_result"
    }
   ],
   "source": [
    "x = np.arange(10)\n",
    "x"
   ]
  },
  {
   "cell_type": "code",
   "execution_count": 25,
   "id": "ec268275",
   "metadata": {},
   "outputs": [
    {
     "data": {
      "text/plain": [
       "array([3, 4, 7])"
      ]
     },
     "execution_count": 25,
     "metadata": {},
     "output_type": "execute_result"
    }
   ],
   "source": [
    "x[[3,4,7]]"
   ]
  },
  {
   "cell_type": "code",
   "execution_count": 27,
   "id": "c150f443",
   "metadata": {},
   "outputs": [
    {
     "data": {
      "text/plain": [
       "array([[0, 2],\n",
       "       [1, 3]])"
      ]
     },
     "execution_count": 27,
     "metadata": {},
     "output_type": "execute_result"
    }
   ],
   "source": [
    "indexs = np.array([[0, 2], [1, 3]])\n",
    "x[indexs]"
   ]
  },
  {
   "cell_type": "markdown",
   "id": "42c5f017",
   "metadata": {},
   "source": [
    "#### 实例：获取数组中最大的前N个数字"
   ]
  },
  {
   "cell_type": "code",
   "execution_count": 29,
   "id": "61896046",
   "metadata": {},
   "outputs": [
    {
     "data": {
      "text/plain": [
       "array([30, 49, 39, 29, 69, 95, 71, 91, 43, 78])"
      ]
     },
     "execution_count": 29,
     "metadata": {},
     "output_type": "execute_result"
    }
   ],
   "source": [
    "# 随机生成1到100之间的，10个数字\n",
    "arr = np.random.randint(1, 100, 10)\n",
    "arr"
   ]
  },
  {
   "cell_type": "code",
   "execution_count": 30,
   "id": "09ab22e2",
   "metadata": {},
   "outputs": [
    {
     "data": {
      "text/plain": [
       "array([9, 7, 5])"
      ]
     },
     "execution_count": 30,
     "metadata": {},
     "output_type": "execute_result"
    }
   ],
   "source": [
    "# arr.argsort()会返回排序后的索引index\n",
    "# 取最大值对应的3个下标\n",
    "arr.argsort()[-3:]"
   ]
  },
  {
   "cell_type": "code",
   "execution_count": 31,
   "id": "9349e038",
   "metadata": {},
   "outputs": [
    {
     "data": {
      "text/plain": [
       "array([78, 91, 95])"
      ]
     },
     "execution_count": 31,
     "metadata": {},
     "output_type": "execute_result"
    }
   ],
   "source": [
    "arr[arr.argsort()[-3:]]"
   ]
  },
  {
   "cell_type": "markdown",
   "id": "ea5907ba",
   "metadata": {},
   "source": [
    "#### 二维数组"
   ]
  },
  {
   "cell_type": "code",
   "execution_count": 33,
   "id": "53835ea3",
   "metadata": {},
   "outputs": [
    {
     "data": {
      "text/plain": [
       "array([[ 0,  1,  2,  3,  4],\n",
       "       [ 5,  6,  7,  8,  9],\n",
       "       [10, 11, 12, 13, 14],\n",
       "       [15, 16, 17, 18, 19]])"
      ]
     },
     "execution_count": 33,
     "metadata": {},
     "output_type": "execute_result"
    }
   ],
   "source": [
    "X = np.arange(20).reshape(4, 5)\n",
    "X"
   ]
  },
  {
   "cell_type": "code",
   "execution_count": 34,
   "id": "bc9f87b5",
   "metadata": {},
   "outputs": [
    {
     "data": {
      "text/plain": [
       "array([[ 0,  1,  2,  3,  4],\n",
       "       [10, 11, 12, 13, 14]])"
      ]
     },
     "execution_count": 34,
     "metadata": {},
     "output_type": "execute_result"
    }
   ],
   "source": [
    "# 筛选多行，列可以省略\n",
    "X[[0, 2]]"
   ]
  },
  {
   "cell_type": "code",
   "execution_count": 35,
   "id": "a8904803",
   "metadata": {},
   "outputs": [
    {
     "data": {
      "text/plain": [
       "array([[ 0,  1,  2,  3,  4],\n",
       "       [10, 11, 12, 13, 14]])"
      ]
     },
     "execution_count": 35,
     "metadata": {},
     "output_type": "execute_result"
    }
   ],
   "source": [
    "X[[0, 2], :]"
   ]
  },
  {
   "cell_type": "code",
   "execution_count": 36,
   "id": "b29c24b7",
   "metadata": {},
   "outputs": [
    {
     "data": {
      "text/plain": [
       "array([[ 0,  2,  3],\n",
       "       [ 5,  7,  8],\n",
       "       [10, 12, 13],\n",
       "       [15, 17, 18]])"
      ]
     },
     "execution_count": 36,
     "metadata": {},
     "output_type": "execute_result"
    }
   ],
   "source": [
    "# 筛选多列，行不能省略\n",
    "X[:, [0, 2, 3]]"
   ]
  },
  {
   "cell_type": "code",
   "execution_count": 37,
   "id": "ea8197aa",
   "metadata": {},
   "outputs": [
    {
     "data": {
      "text/plain": [
       "array([ 1, 13, 19])"
      ]
     },
     "execution_count": 37,
     "metadata": {},
     "output_type": "execute_result"
    }
   ],
   "source": [
    "# 同时指定行列-列表\n",
    "# 返回的是[(0,1), (2,3), (3,4)]位置的数字\n",
    "X[[0, 2, 3], [1, 3, 4]]"
   ]
  },
  {
   "cell_type": "markdown",
   "id": "0e6fcadb",
   "metadata": {},
   "source": [
    "### 布尔索引\n",
    "注意：布尔索引选择的数据是数组的拷贝\n",
    "\n",
    "#### 一维数组"
   ]
  },
  {
   "cell_type": "code",
   "execution_count": 38,
   "id": "3703e52f",
   "metadata": {},
   "outputs": [
    {
     "data": {
      "text/plain": [
       "array([0, 1, 2, 3, 4, 5, 6, 7, 8, 9])"
      ]
     },
     "execution_count": 38,
     "metadata": {},
     "output_type": "execute_result"
    }
   ],
   "source": [
    "# 将数组还原\n",
    "x = np.arange(10)\n",
    "x"
   ]
  },
  {
   "cell_type": "code",
   "execution_count": 39,
   "id": "0392a3a8",
   "metadata": {},
   "outputs": [
    {
     "data": {
      "text/plain": [
       "array([False, False, False, False, False, False,  True,  True,  True,\n",
       "        True])"
      ]
     },
     "execution_count": 39,
     "metadata": {},
     "output_type": "execute_result"
    }
   ],
   "source": [
    "x > 5"
   ]
  },
  {
   "cell_type": "code",
   "execution_count": 40,
   "id": "fc1d8ba3",
   "metadata": {},
   "outputs": [
    {
     "data": {
      "text/plain": [
       "array([6, 7, 8, 9])"
      ]
     },
     "execution_count": 40,
     "metadata": {},
     "output_type": "execute_result"
    }
   ],
   "source": [
    "x[x>5]"
   ]
  },
  {
   "cell_type": "code",
   "execution_count": 41,
   "id": "5ede5b8e",
   "metadata": {},
   "outputs": [
    {
     "data": {
      "text/plain": [
       "array([0, 0, 0, 0, 0, 0, 1, 1, 1, 1])"
      ]
     },
     "execution_count": 41,
     "metadata": {},
     "output_type": "execute_result"
    }
   ],
   "source": [
    "# 实例：把以为数组进行01化处理\n",
    "# 比如把房价数字，变成“高房价”为1，“低房价”为0\n",
    "x[x<=5] = 0\n",
    "x[x>5] = 1\n",
    "x"
   ]
  },
  {
   "cell_type": "code",
   "execution_count": 43,
   "id": "bc2c1624",
   "metadata": {},
   "outputs": [
    {
     "data": {
      "text/plain": [
       "array([20, 21, 22, 23, 24,  5,  6,  7,  8,  9])"
      ]
     },
     "execution_count": 43,
     "metadata": {},
     "output_type": "execute_result"
    }
   ],
   "source": [
    "x = np.arange(10)\n",
    "x[x<5] += 20\n",
    "x"
   ]
  },
  {
   "cell_type": "markdown",
   "id": "c659d8c8",
   "metadata": {},
   "source": [
    "#### 二维数组"
   ]
  },
  {
   "cell_type": "code",
   "execution_count": 45,
   "id": "2122a804",
   "metadata": {},
   "outputs": [
    {
     "data": {
      "text/plain": [
       "array([[ 0,  1,  2,  3,  4],\n",
       "       [ 5,  6,  7,  8,  9],\n",
       "       [10, 11, 12, 13, 14],\n",
       "       [15, 16, 17, 18, 19]])"
      ]
     },
     "execution_count": 45,
     "metadata": {},
     "output_type": "execute_result"
    }
   ],
   "source": [
    "X = np.arange(20).reshape(4, 5)\n",
    "X"
   ]
  },
  {
   "cell_type": "code",
   "execution_count": 46,
   "id": "de808b35",
   "metadata": {},
   "outputs": [
    {
     "data": {
      "text/plain": [
       "array([[False, False, False, False, False],\n",
       "       [False,  True,  True,  True,  True],\n",
       "       [ True,  True,  True,  True,  True],\n",
       "       [ True,  True,  True,  True,  True]])"
      ]
     },
     "execution_count": 46,
     "metadata": {},
     "output_type": "execute_result"
    }
   ],
   "source": [
    "X > 5"
   ]
  },
  {
   "cell_type": "code",
   "execution_count": 47,
   "id": "ca62c630",
   "metadata": {},
   "outputs": [
    {
     "data": {
      "text/plain": [
       "array([ 6,  7,  8,  9, 10, 11, 12, 13, 14, 15, 16, 17, 18, 19])"
      ]
     },
     "execution_count": 47,
     "metadata": {},
     "output_type": "execute_result"
    }
   ],
   "source": [
    "# X>5的boolean数组，既有行，又有列\n",
    "# 因此返回的是（行，列）一维结果\n",
    "X[X>5]"
   ]
  },
  {
   "cell_type": "code",
   "execution_count": 48,
   "id": "c027a4f2",
   "metadata": {},
   "outputs": [
    {
     "data": {
      "text/plain": [
       "array([ 3,  8, 13, 18])"
      ]
     },
     "execution_count": 48,
     "metadata": {},
     "output_type": "execute_result"
    }
   ],
   "source": [
    "# 举例：怎样把第3列大于5的行筛选出来\n",
    "X[:, 3]"
   ]
  },
  {
   "cell_type": "code",
   "execution_count": 50,
   "id": "ff9a760e",
   "metadata": {},
   "outputs": [
    {
     "data": {
      "text/plain": [
       "array([False,  True,  True,  True])"
      ]
     },
     "execution_count": 50,
     "metadata": {},
     "output_type": "execute_result"
    }
   ],
   "source": [
    "X[:, 3] > 5"
   ]
  },
  {
   "cell_type": "code",
   "execution_count": 51,
   "id": "7dcf7e53",
   "metadata": {},
   "outputs": [
    {
     "data": {
      "text/plain": [
       "array([[ 5,  6,  7,  8,  9],\n",
       "       [10, 11, 12, 13, 14],\n",
       "       [15, 16, 17, 18, 19]])"
      ]
     },
     "execution_count": 51,
     "metadata": {},
     "output_type": "execute_result"
    }
   ],
   "source": [
    "# 这里是按照行进行的筛选\n",
    "X[X[:, 3] > 5]"
   ]
  },
  {
   "cell_type": "code",
   "execution_count": 52,
   "id": "fb5e4d8e",
   "metadata": {},
   "outputs": [
    {
     "data": {
      "text/plain": [
       "array([[  0,   1,   2,   3,   4],\n",
       "       [666, 666, 666, 666, 666],\n",
       "       [666, 666, 666, 666, 666],\n",
       "       [666, 666, 666, 666, 666]])"
      ]
     },
     "execution_count": 52,
     "metadata": {},
     "output_type": "execute_result"
    }
   ],
   "source": [
    "X[X[:, 3] > 5] = 666\n",
    "X"
   ]
  },
  {
   "cell_type": "markdown",
   "id": "47a5a430",
   "metadata": {},
   "source": [
    "#### 条件的组合"
   ]
  },
  {
   "cell_type": "code",
   "execution_count": 53,
   "id": "a35f2e6d",
   "metadata": {},
   "outputs": [
    {
     "data": {
      "text/plain": [
       "array([0, 1, 2, 3, 4, 5, 6, 7, 8, 9])"
      ]
     },
     "execution_count": 53,
     "metadata": {},
     "output_type": "execute_result"
    }
   ],
   "source": [
    "x = np.arange(10)\n",
    "x"
   ]
  },
  {
   "cell_type": "code",
   "execution_count": 54,
   "id": "e93d9f15",
   "metadata": {},
   "outputs": [
    {
     "data": {
      "text/plain": [
       "array([ True, False,  True, False,  True, False,  True, False,  True,\n",
       "        True])"
      ]
     },
     "execution_count": 54,
     "metadata": {},
     "output_type": "execute_result"
    }
   ],
   "source": [
    "# 注意：每个条件都得加小括号\n",
    "condition = (x % 2 == 0) | (x > 7)\n",
    "condition"
   ]
  },
  {
   "cell_type": "code",
   "execution_count": 55,
   "id": "ad3df3cb",
   "metadata": {},
   "outputs": [
    {
     "data": {
      "text/plain": [
       "array([0, 2, 4, 6, 8, 9])"
      ]
     },
     "execution_count": 55,
     "metadata": {},
     "output_type": "execute_result"
    }
   ],
   "source": [
    "x[condition]"
   ]
  },
  {
   "cell_type": "code",
   "execution_count": null,
   "id": "231f716a",
   "metadata": {},
   "outputs": [],
   "source": []
  }
 ],
 "metadata": {
  "kernelspec": {
   "display_name": "Python 3",
   "language": "python",
   "name": "python3"
  },
  "language_info": {
   "codemirror_mode": {
    "name": "ipython",
    "version": 3
   },
   "file_extension": ".py",
   "mimetype": "text/x-python",
   "name": "python",
   "nbconvert_exporter": "python",
   "pygments_lexer": "ipython3",
   "version": "3.7.6"
  }
 },
 "nbformat": 4,
 "nbformat_minor": 5
}
