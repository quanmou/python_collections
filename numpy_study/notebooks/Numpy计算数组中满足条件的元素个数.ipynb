{
 "cells": [
  {
   "cell_type": "markdown",
   "id": "31e1fd48",
   "metadata": {},
   "source": [
    "## Numpy计算数组中满足条件元素个数\n",
    "需求：有一个非常大的数组，比如有1亿个数字，求出里面数字小于5000的数字个数"
   ]
  },
  {
   "cell_type": "markdown",
   "id": "60d95918",
   "metadata": {},
   "source": [
    "### 1. 使用Numpy的random模块生成1亿个数字"
   ]
  },
  {
   "cell_type": "code",
   "execution_count": 1,
   "id": "5f4c2f13",
   "metadata": {},
   "outputs": [],
   "source": [
    "import numpy as np"
   ]
  },
  {
   "cell_type": "code",
   "execution_count": 2,
   "id": "ab619a8e",
   "metadata": {},
   "outputs": [],
   "source": [
    "arr = np.random.randint(1, 10000, size=int(1e8))"
   ]
  },
  {
   "cell_type": "code",
   "execution_count": 3,
   "id": "5a5ce397",
   "metadata": {},
   "outputs": [
    {
     "data": {
      "text/plain": [
       "array([2266, 6268, 5500, 2992, 5859, 1528, 1428, 9576, 5211, 7408])"
      ]
     },
     "execution_count": 3,
     "metadata": {},
     "output_type": "execute_result"
    }
   ],
   "source": [
    "arr[:10]"
   ]
  },
  {
   "cell_type": "code",
   "execution_count": 4,
   "id": "dfe36284",
   "metadata": {},
   "outputs": [
    {
     "data": {
      "text/plain": [
       "100000000"
      ]
     },
     "execution_count": 4,
     "metadata": {},
     "output_type": "execute_result"
    }
   ],
   "source": [
    "arr.size"
   ]
  },
  {
   "cell_type": "markdown",
   "id": "13c5a33d",
   "metadata": {},
   "source": [
    "### 2. 使用python原生语法实现"
   ]
  },
  {
   "cell_type": "code",
   "execution_count": 5,
   "id": "77550771",
   "metadata": {},
   "outputs": [],
   "source": [
    "pyarr = list(arr)"
   ]
  },
  {
   "cell_type": "code",
   "execution_count": 6,
   "id": "7cdf94d4",
   "metadata": {},
   "outputs": [
    {
     "data": {
      "text/plain": [
       "49996541"
      ]
     },
     "execution_count": 6,
     "metadata": {},
     "output_type": "execute_result"
    }
   ],
   "source": [
    "# 计算如下结果，用于对比是否准确\n",
    "len([x for x in pyarr if x > 5000])"
   ]
  },
  {
   "cell_type": "code",
   "execution_count": 7,
   "id": "db5066da",
   "metadata": {},
   "outputs": [
    {
     "name": "stdout",
     "output_type": "stream",
     "text": [
      "36.6 s ± 16 s per loop (mean ± std. dev. of 7 runs, 1 loop each)\n"
     ]
    }
   ],
   "source": [
    "# 记一下时间\n",
    "%timeit len([x for x in pyarr if x > 5000])"
   ]
  },
  {
   "cell_type": "markdown",
   "id": "6fb8a327",
   "metadata": {},
   "source": [
    "### 3. 使用numpy的向量化操作实现"
   ]
  },
  {
   "cell_type": "code",
   "execution_count": 8,
   "id": "1e1e440c",
   "metadata": {},
   "outputs": [
    {
     "data": {
      "text/plain": [
       "49996541"
      ]
     },
     "execution_count": 8,
     "metadata": {},
     "output_type": "execute_result"
    }
   ],
   "source": [
    "# 计算下结果，用于对比是否准确\n",
    "arr[arr>5000].size"
   ]
  },
  {
   "cell_type": "code",
   "execution_count": 9,
   "id": "b28c3806",
   "metadata": {},
   "outputs": [
    {
     "data": {
      "text/plain": [
       "array([False,  True,  True, False,  True, False, False,  True,  True,\n",
       "        True])"
      ]
     },
     "execution_count": 9,
     "metadata": {},
     "output_type": "execute_result"
    }
   ],
   "source": [
    "(arr > 5000)[:10]"
   ]
  },
  {
   "cell_type": "code",
   "execution_count": 10,
   "id": "4faf6778",
   "metadata": {},
   "outputs": [
    {
     "name": "stdout",
     "output_type": "stream",
     "text": [
      "933 ms ± 12.3 ms per loop (mean ± std. dev. of 7 runs, 1 loop each)\n"
     ]
    }
   ],
   "source": [
    "# 记一下时间\n",
    "%timeit arr[arr > 5000].size"
   ]
  },
  {
   "cell_type": "markdown",
   "id": "1e1b26ba",
   "metadata": {},
   "source": [
    "### 4. 对比下时间\n",
    "36.6 / 0.933"
   ]
  },
  {
   "cell_type": "code",
   "execution_count": null,
   "id": "fa77b786",
   "metadata": {},
   "outputs": [],
   "source": []
  }
 ],
 "metadata": {
  "kernelspec": {
   "display_name": "Python 3",
   "language": "python",
   "name": "python3"
  },
  "language_info": {
   "codemirror_mode": {
    "name": "ipython",
    "version": 3
   },
   "file_extension": ".py",
   "mimetype": "text/x-python",
   "name": "python",
   "nbconvert_exporter": "python",
   "pygments_lexer": "ipython3",
   "version": "3.7.6"
  }
 },
 "nbformat": 4,
 "nbformat_minor": 5
}
