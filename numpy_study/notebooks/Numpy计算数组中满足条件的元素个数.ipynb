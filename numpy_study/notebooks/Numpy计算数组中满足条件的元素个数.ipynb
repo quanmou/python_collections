{
 "cells": [
  {
   "cell_type": "markdown",
   "id": "c666a852",
   "metadata": {},
   "source": [
    "## Numpy计算数组中满足条件元素个数\n",
    "需求：有一个非常大的数组，比如有1亿个数字，求出里面数字小于5000的数字个数"
   ]
  },
  {
   "cell_type": "markdown",
   "id": "c249855f",
   "metadata": {},
   "source": [
    "### 1. 使用Numpy的random模块生成1亿个数字"
   ]
  },
  {
   "cell_type": "code",
   "execution_count": 1,
   "id": "6b63622a",
   "metadata": {},
   "outputs": [],
   "source": [
    "import numpy as np"
   ]
  },
  {
   "cell_type": "code",
   "execution_count": 2,
   "id": "68b2a431",
   "metadata": {},
   "outputs": [],
   "source": [
    "arr = np.random.randint(1, 10000, size=int(1e8))"
   ]
  },
  {
   "cell_type": "code",
   "execution_count": 3,
   "id": "4053d4ce",
   "metadata": {},
   "outputs": [
    {
     "data": {
      "text/plain": [
       "array([2266, 6268, 5500, 2992, 5859, 1528, 1428, 9576, 5211, 7408])"
      ]
     },
     "execution_count": 3,
     "metadata": {},
     "output_type": "execute_result"
    }
   ],
   "source": [
    "arr[:10]"
   ]
  },
  {
   "cell_type": "code",
   "execution_count": 4,
   "id": "2722ed86",
   "metadata": {},
   "outputs": [
    {
     "data": {
      "text/plain": [
       "100000000"
      ]
     },
     "execution_count": 4,
     "metadata": {},
     "output_type": "execute_result"
    }
   ],
   "source": [
    "arr.size"
   ]
  },
  {
   "cell_type": "markdown",
   "id": "6e7fa6c9",
   "metadata": {},
   "source": [
    "### 2. 使用python原生语法实现"
   ]
  },
  {
   "cell_type": "code",
   "execution_count": 5,
   "id": "042b5931",
   "metadata": {},
   "outputs": [],
   "source": [
    "pyarr = list(arr)"
   ]
  },
  {
   "cell_type": "code",
   "execution_count": 6,
   "id": "f8c686c6",
   "metadata": {},
   "outputs": [
    {
     "data": {
      "text/plain": [
       "49996541"
      ]
     },
     "execution_count": 6,
     "metadata": {},
     "output_type": "execute_result"
    }
   ],
   "source": [
    "# 计算如下结果，用于对比是否准确\n",
    "len([x for x in pyarr if x > 5000])"
   ]
  },
  {
   "cell_type": "code",
   "execution_count": 7,
   "id": "9957b412",
   "metadata": {},
   "outputs": [
    {
     "name": "stdout",
     "output_type": "stream",
     "text": [
      "36.6 s ± 16 s per loop (mean ± std. dev. of 7 runs, 1 loop each)\n"
     ]
    }
   ],
   "source": [
    "# 记一下时间\n",
    "%timeit len([x for x in pyarr if x > 5000])"
   ]
  },
  {
   "cell_type": "markdown",
   "id": "40a59df7",
   "metadata": {},
   "source": [
    "### 3. 使用numpy的向量化操作实现"
   ]
  },
  {
   "cell_type": "code",
   "execution_count": 8,
   "id": "8b8f4771",
   "metadata": {},
   "outputs": [
    {
     "data": {
      "text/plain": [
       "49996541"
      ]
     },
     "execution_count": 8,
     "metadata": {},
     "output_type": "execute_result"
    }
   ],
   "source": [
    "# 计算下结果，用于对比是否准确\n",
    "arr[arr>5000].size"
   ]
  },
  {
   "cell_type": "code",
   "execution_count": 9,
   "id": "8fea8928",
   "metadata": {},
   "outputs": [
    {
     "data": {
      "text/plain": [
       "array([False,  True,  True, False,  True, False, False,  True,  True,\n",
       "        True])"
      ]
     },
     "execution_count": 9,
     "metadata": {},
     "output_type": "execute_result"
    }
   ],
   "source": [
    "(arr > 5000)[:10]"
   ]
  },
  {
   "cell_type": "code",
   "execution_count": 10,
   "id": "31399fb7",
   "metadata": {},
   "outputs": [
    {
     "name": "stdout",
     "output_type": "stream",
     "text": [
      "933 ms ± 12.3 ms per loop (mean ± std. dev. of 7 runs, 1 loop each)\n"
     ]
    }
   ],
   "source": [
    "# 记一下时间\n",
    "%timeit arr[arr > 5000].size"
   ]
  },
  {
   "cell_type": "markdown",
   "id": "c0998b87",
   "metadata": {},
   "source": [
    "### 4. 对比下时间"
   ]
  },
  {
   "cell_type": "code",
   "execution_count": 11,
   "id": "3c0328b2",
   "metadata": {},
   "outputs": [
    {
     "data": {
      "text/plain": [
       "39.22829581993569"
      ]
     },
     "execution_count": 11,
     "metadata": {},
     "output_type": "execute_result"
    }
   ],
   "source": [
    "36.6 / 0.933"
   ]
  },
  {
   "cell_type": "code",
   "execution_count": null,
   "id": "9e497d7b",
   "metadata": {},
   "outputs": [],
   "source": []
  }
 ],
 "metadata": {
  "kernelspec": {
   "display_name": "Python 3",
   "language": "python",
   "name": "python3"
  },
  "language_info": {
   "codemirror_mode": {
    "name": "ipython",
    "version": 3
   },
   "file_extension": ".py",
   "mimetype": "text/x-python",
   "name": "python",
   "nbconvert_exporter": "python",
   "pygments_lexer": "ipython3",
   "version": "3.7.6"
  }
 },
 "nbformat": 4,
 "nbformat_minor": 5
}
